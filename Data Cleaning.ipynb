{
 "cells": [
  {
   "cell_type": "markdown",
   "id": "176b5896",
   "metadata": {},
   "source": [
    " "
   ]
  },
  {
   "cell_type": "markdown",
   "id": "9807146b",
   "metadata": {},
   "source": [
    " "
   ]
  },
  {
   "cell_type": "markdown",
   "id": "dbf78123",
   "metadata": {},
   "source": [
    " "
   ]
  },
  {
   "cell_type": "markdown",
   "id": "d7b877ad",
   "metadata": {},
   "source": [
    " "
   ]
  },
  {
   "cell_type": "markdown",
   "id": "d823220f",
   "metadata": {},
   "source": [
    " "
   ]
  },
  {
   "cell_type": "markdown",
   "id": "02d9b3ce",
   "metadata": {},
   "source": [
    " "
   ]
  },
  {
   "cell_type": "markdown",
   "id": "e05f202f",
   "metadata": {},
   "source": [
    " "
   ]
  },
  {
   "cell_type": "markdown",
   "id": "5b5e0bc5",
   "metadata": {},
   "source": [
    " "
   ]
  },
  {
   "cell_type": "markdown",
   "id": "6b7ff736",
   "metadata": {},
   "source": [
    " "
   ]
  },
  {
   "cell_type": "markdown",
   "id": "fbf09b2b",
   "metadata": {},
   "source": [
    " "
   ]
  },
  {
   "cell_type": "markdown",
   "id": "1193a872",
   "metadata": {},
   "source": [
    " "
   ]
  },
  {
   "cell_type": "markdown",
   "id": "70bd475d",
   "metadata": {},
   "source": [
    "# <center>Favio Conde</center>"
   ]
  },
  {
   "cell_type": "markdown",
   "id": "1aed62a8",
   "metadata": {},
   "source": [
    " "
   ]
  },
  {
   "cell_type": "markdown",
   "id": "cd169e96",
   "metadata": {},
   "source": [
    "### <center>D206 - Data Cleaning</center>"
   ]
  },
  {
   "cell_type": "markdown",
   "id": "01d4f934",
   "metadata": {},
   "source": [
    " "
   ]
  },
  {
   "cell_type": "markdown",
   "id": "921bbda3",
   "metadata": {},
   "source": [
    "### <center>July 11, 2023</center>"
   ]
  },
  {
   "cell_type": "markdown",
   "id": "de34c983",
   "metadata": {},
   "source": [
    " "
   ]
  },
  {
   "cell_type": "markdown",
   "id": "3373056e",
   "metadata": {},
   "source": [
    "### <center>WGU</center>"
   ]
  },
  {
   "cell_type": "markdown",
   "id": "97855760",
   "metadata": {},
   "source": [
    " "
   ]
  },
  {
   "cell_type": "markdown",
   "id": "7d8b92da",
   "metadata": {},
   "source": [
    " "
   ]
  },
  {
   "cell_type": "markdown",
   "id": "a7a9a675",
   "metadata": {},
   "source": [
    " "
   ]
  },
  {
   "cell_type": "markdown",
   "id": "98f36063",
   "metadata": {},
   "source": [
    " "
   ]
  },
  {
   "cell_type": "markdown",
   "id": "dc1ab76a",
   "metadata": {},
   "source": [
    " "
   ]
  },
  {
   "cell_type": "markdown",
   "id": "2bb139be",
   "metadata": {},
   "source": [
    " "
   ]
  },
  {
   "cell_type": "markdown",
   "id": "12c045b0",
   "metadata": {},
   "source": [
    " "
   ]
  },
  {
   "cell_type": "markdown",
   "id": "7c48bc07",
   "metadata": {},
   "source": [
    " "
   ]
  },
  {
   "cell_type": "markdown",
   "id": "e45ecd6a",
   "metadata": {},
   "source": [
    " "
   ]
  },
  {
   "cell_type": "markdown",
   "id": "e94c783c",
   "metadata": {},
   "source": [
    " "
   ]
  },
  {
   "cell_type": "markdown",
   "id": "e298291d",
   "metadata": {},
   "source": [
    " "
   ]
  },
  {
   "cell_type": "markdown",
   "id": "e2c1ba40",
   "metadata": {},
   "source": [
    " "
   ]
  },
  {
   "cell_type": "markdown",
   "id": "aa73e0e5",
   "metadata": {},
   "source": [
    " "
   ]
  },
  {
   "cell_type": "markdown",
   "id": "8de28eef",
   "metadata": {},
   "source": [
    " "
   ]
  },
  {
   "cell_type": "markdown",
   "id": "8e5940ff",
   "metadata": {},
   "source": [
    " "
   ]
  },
  {
   "cell_type": "markdown",
   "id": "ed0ff529",
   "metadata": {},
   "source": [
    " "
   ]
  },
  {
   "cell_type": "markdown",
   "id": "df2c9839",
   "metadata": {},
   "source": [
    " "
   ]
  },
  {
   "cell_type": "markdown",
   "id": "08ac8826",
   "metadata": {},
   "source": [
    " "
   ]
  },
  {
   "cell_type": "markdown",
   "id": "60e26cb7",
   "metadata": {},
   "source": [
    " "
   ]
  },
  {
   "cell_type": "markdown",
   "id": "17603a04",
   "metadata": {},
   "source": [
    "# Table of Contents"
   ]
  },
  {
   "cell_type": "markdown",
   "id": "e6f2e99b",
   "metadata": {},
   "source": [
    " "
   ]
  },
  {
   "cell_type": "markdown",
   "id": "28e0cc8f",
   "metadata": {},
   "source": [
    "#### Part I: Research Question and Variables.........................................3\n",
    " \n",
    " A: Question or Decision........................................................................3\n",
    "\n",
    " B: Required Variables...........................................................................3\n",
    " \n",
    "#### Part II: Data Cleaning Plan (Detection).............................................6\n",
    " \n",
    " C1: Plan to Assess Quality of Data......................................................6\n",
    " \n",
    " C2: Justification of Approach................................................................7\n",
    " \n",
    " C3: Justification of Tools.......................................................................7\n",
    " \n",
    " C4: Provide the Code...........................................................................7\n",
    " \n",
    "#### Part III:  Data Cleaning (Treatment)..................................................17\n",
    " \n",
    " D1: Cleaning Findings........................................................................17\n",
    "\n",
    " D2: Justification  of Mitigation Methods...............................................18\n",
    " \n",
    " D3: Summary of the Outcomes..........................................................18\n",
    " \n",
    " D4: Mitigation Code............................................................................18\n",
    " \n",
    " D5: Clean Data...................................................................................21\n",
    " \n",
    " D6: Limitations....................................................................................21\n",
    " \n",
    " D7: Impact of Limitations....................................................................21\n",
    " \n",
    "#### Part IV: PCA.......................................................................................21\n",
    " \n",
    " E1: Principal Components..................................................................21\n",
    "\n",
    " E2: Criteria Used................................................................................22\n",
    " \n",
    " E3: Benefits........................................................................................23\n",
    " \n",
    " F: Pinopto Video.................................................................................23\n",
    " \n",
    " G: Sourced of Third-Party Code.........................................................23\n",
    " \n",
    " H: Sources..........................................................................................24"
   ]
  },
  {
   "cell_type": "markdown",
   "id": "ca3eb0f1",
   "metadata": {},
   "source": [
    " "
   ]
  },
  {
   "cell_type": "markdown",
   "id": "d91da6b9",
   "metadata": {},
   "source": [
    "## Part I: Research Question and Variables"
   ]
  },
  {
   "cell_type": "markdown",
   "id": "a85ac60a",
   "metadata": {},
   "source": [
    "### A: Question or Decision\n",
    "\n",
    "What variables in the dataset have a correlations with the readmission of patients so that the hospital can better determine if readmission can be predicted?"
   ]
  },
  {
   "cell_type": "markdown",
   "id": "3f01c09c",
   "metadata": {},
   "source": [
    "### B: Required Variables"
   ]
  },
  {
   "cell_type": "code",
   "execution_count": 1,
   "id": "c048bb3a",
   "metadata": {},
   "outputs": [],
   "source": [
    "# Importing packages\n",
    "import numpy as np\n",
    "import pandas as pd\n",
    "import matplotlib.pyplot as plt\n",
    "import seaborn as sns"
   ]
  },
  {
   "cell_type": "code",
   "execution_count": 2,
   "id": "a04412bc",
   "metadata": {},
   "outputs": [
    {
     "data": {
      "text/html": [
       "<div>\n",
       "<style scoped>\n",
       "    .dataframe tbody tr th:only-of-type {\n",
       "        vertical-align: middle;\n",
       "    }\n",
       "\n",
       "    .dataframe tbody tr th {\n",
       "        vertical-align: top;\n",
       "    }\n",
       "\n",
       "    .dataframe thead th {\n",
       "        text-align: right;\n",
       "    }\n",
       "</style>\n",
       "<table border=\"1\" class=\"dataframe\">\n",
       "  <thead>\n",
       "    <tr style=\"text-align: right;\">\n",
       "      <th></th>\n",
       "      <th>Variable Name</th>\n",
       "      <th>Data Type</th>\n",
       "      <th>Description/Definition</th>\n",
       "      <th>Example</th>\n",
       "    </tr>\n",
       "  </thead>\n",
       "  <tbody>\n",
       "    <tr>\n",
       "      <th>0</th>\n",
       "      <td>Unnamed</td>\n",
       "      <td>int64</td>\n",
       "      <td>Index ID created in Pandas</td>\n",
       "      <td>NaN</td>\n",
       "    </tr>\n",
       "    <tr>\n",
       "      <th>1</th>\n",
       "      <td>CaseOrder</td>\n",
       "      <td>int64</td>\n",
       "      <td>An ID created to preserve order of the data</td>\n",
       "      <td>1</td>\n",
       "    </tr>\n",
       "    <tr>\n",
       "      <th>2</th>\n",
       "      <td>Customer_id</td>\n",
       "      <td>object</td>\n",
       "      <td>Unique customer ID</td>\n",
       "      <td>C412403</td>\n",
       "    </tr>\n",
       "    <tr>\n",
       "      <th>3</th>\n",
       "      <td>Interaction</td>\n",
       "      <td>object</td>\n",
       "      <td>Interaction ID unique  to the customer, proced...</td>\n",
       "      <td>8cd49b13-f45a-4b47-a2bd-173ffa932c2f</td>\n",
       "    </tr>\n",
       "    <tr>\n",
       "      <th>4</th>\n",
       "      <td>UID</td>\n",
       "      <td>object</td>\n",
       "      <td>Interaction ID unique  to the customer, proced...</td>\n",
       "      <td>3a83ddb66e2ae73798bdf1d705dc0932</td>\n",
       "    </tr>\n",
       "    <tr>\n",
       "      <th>5</th>\n",
       "      <td>City</td>\n",
       "      <td>object</td>\n",
       "      <td>Patient city from billing statement</td>\n",
       "      <td>Eva</td>\n",
       "    </tr>\n",
       "    <tr>\n",
       "      <th>6</th>\n",
       "      <td>State</td>\n",
       "      <td>object</td>\n",
       "      <td>Patient state from billing statement</td>\n",
       "      <td>AL</td>\n",
       "    </tr>\n",
       "    <tr>\n",
       "      <th>7</th>\n",
       "      <td>County</td>\n",
       "      <td>object</td>\n",
       "      <td>Patient county from billing statement</td>\n",
       "      <td>Morgan</td>\n",
       "    </tr>\n",
       "    <tr>\n",
       "      <th>8</th>\n",
       "      <td>Zip</td>\n",
       "      <td>int64</td>\n",
       "      <td>Patient zip from billing statement</td>\n",
       "      <td>35621</td>\n",
       "    </tr>\n",
       "    <tr>\n",
       "      <th>9</th>\n",
       "      <td>Lat</td>\n",
       "      <td>float64</td>\n",
       "      <td>Patient latitude from residence on billing sta...</td>\n",
       "      <td>34.3496</td>\n",
       "    </tr>\n",
       "    <tr>\n",
       "      <th>10</th>\n",
       "      <td>Lng</td>\n",
       "      <td>float64</td>\n",
       "      <td>Patient longititude from residence on billing ...</td>\n",
       "      <td>-86.72508</td>\n",
       "    </tr>\n",
       "    <tr>\n",
       "      <th>11</th>\n",
       "      <td>Population</td>\n",
       "      <td>int64</td>\n",
       "      <td>Populcation within a mile of patient's residence</td>\n",
       "      <td>2951</td>\n",
       "    </tr>\n",
       "    <tr>\n",
       "      <th>12</th>\n",
       "      <td>Area</td>\n",
       "      <td>object</td>\n",
       "      <td>Type of area (rural, urban, suburban)</td>\n",
       "      <td>Suburban</td>\n",
       "    </tr>\n",
       "    <tr>\n",
       "      <th>13</th>\n",
       "      <td>Timezone</td>\n",
       "      <td>object</td>\n",
       "      <td>Timezone based on  patient's residence address</td>\n",
       "      <td>America/Chicago</td>\n",
       "    </tr>\n",
       "    <tr>\n",
       "      <th>14</th>\n",
       "      <td>Job</td>\n",
       "      <td>object</td>\n",
       "      <td>Patient's job</td>\n",
       "      <td>Psychologist, sport and exercise</td>\n",
       "    </tr>\n",
       "    <tr>\n",
       "      <th>15</th>\n",
       "      <td>Children</td>\n",
       "      <td>float64</td>\n",
       "      <td># of children patient has</td>\n",
       "      <td>1</td>\n",
       "    </tr>\n",
       "    <tr>\n",
       "      <th>16</th>\n",
       "      <td>Age</td>\n",
       "      <td>float64</td>\n",
       "      <td>Age of patient</td>\n",
       "      <td>53</td>\n",
       "    </tr>\n",
       "    <tr>\n",
       "      <th>17</th>\n",
       "      <td>Education</td>\n",
       "      <td>object</td>\n",
       "      <td>Education level of patient</td>\n",
       "      <td>Some College, Less than 1 Year</td>\n",
       "    </tr>\n",
       "    <tr>\n",
       "      <th>18</th>\n",
       "      <td>Employment</td>\n",
       "      <td>object</td>\n",
       "      <td>Patient  employment status</td>\n",
       "      <td>Full Time</td>\n",
       "    </tr>\n",
       "    <tr>\n",
       "      <th>19</th>\n",
       "      <td>Income</td>\n",
       "      <td>float64</td>\n",
       "      <td>Patient's income</td>\n",
       "      <td>86575.93</td>\n",
       "    </tr>\n",
       "    <tr>\n",
       "      <th>20</th>\n",
       "      <td>Marital</td>\n",
       "      <td>object</td>\n",
       "      <td>Patient's marital status</td>\n",
       "      <td>Divorced</td>\n",
       "    </tr>\n",
       "    <tr>\n",
       "      <th>21</th>\n",
       "      <td>Gender</td>\n",
       "      <td>object</td>\n",
       "      <td>Patient's gender</td>\n",
       "      <td>Male</td>\n",
       "    </tr>\n",
       "    <tr>\n",
       "      <th>22</th>\n",
       "      <td>ReAdmis</td>\n",
       "      <td>object</td>\n",
       "      <td>Whether patient waas readmitted within a month...</td>\n",
       "      <td>No</td>\n",
       "    </tr>\n",
       "    <tr>\n",
       "      <th>23</th>\n",
       "      <td>VitD_levels</td>\n",
       "      <td>float64</td>\n",
       "      <td>Patient's vitamin D levels</td>\n",
       "      <td>17.80233049</td>\n",
       "    </tr>\n",
       "    <tr>\n",
       "      <th>24</th>\n",
       "      <td>Doc_visits</td>\n",
       "      <td>int64</td>\n",
       "      <td># of doctor visits during initial stay</td>\n",
       "      <td>6</td>\n",
       "    </tr>\n",
       "    <tr>\n",
       "      <th>25</th>\n",
       "      <td>Full_meals_eaten</td>\n",
       "      <td>int64</td>\n",
       "      <td># of full meals eaten during stay at hospital</td>\n",
       "      <td>0</td>\n",
       "    </tr>\n",
       "    <tr>\n",
       "      <th>26</th>\n",
       "      <td>VitD_supp</td>\n",
       "      <td>int64</td>\n",
       "      <td># of times vitamin D supplement administered</td>\n",
       "      <td>0</td>\n",
       "    </tr>\n",
       "    <tr>\n",
       "      <th>27</th>\n",
       "      <td>Soft_drink</td>\n",
       "      <td>object</td>\n",
       "      <td># of soft drinks patient had during stay</td>\n",
       "      <td>NaN</td>\n",
       "    </tr>\n",
       "    <tr>\n",
       "      <th>28</th>\n",
       "      <td>Initial_admin</td>\n",
       "      <td>object</td>\n",
       "      <td>Method of initial admittance</td>\n",
       "      <td>Emergency Admission</td>\n",
       "    </tr>\n",
       "    <tr>\n",
       "      <th>29</th>\n",
       "      <td>HighBlood</td>\n",
       "      <td>object</td>\n",
       "      <td>Whether patient has high blood pressure</td>\n",
       "      <td>Yes</td>\n",
       "    </tr>\n",
       "    <tr>\n",
       "      <th>30</th>\n",
       "      <td>Stroke</td>\n",
       "      <td>object</td>\n",
       "      <td>Whether the patient has had a stroke</td>\n",
       "      <td>No</td>\n",
       "    </tr>\n",
       "    <tr>\n",
       "      <th>31</th>\n",
       "      <td>Complication_risk</td>\n",
       "      <td>object</td>\n",
       "      <td>Whether the patient presents a complication risk</td>\n",
       "      <td>Medium</td>\n",
       "    </tr>\n",
       "    <tr>\n",
       "      <th>32</th>\n",
       "      <td>Overweight</td>\n",
       "      <td>float64</td>\n",
       "      <td>Whether the patient is overweight</td>\n",
       "      <td>0</td>\n",
       "    </tr>\n",
       "    <tr>\n",
       "      <th>33</th>\n",
       "      <td>Arthritis</td>\n",
       "      <td>object</td>\n",
       "      <td>Whether the patient has arthritis</td>\n",
       "      <td>Yes</td>\n",
       "    </tr>\n",
       "    <tr>\n",
       "      <th>34</th>\n",
       "      <td>Diabetes</td>\n",
       "      <td>object</td>\n",
       "      <td>Whether the patient is diabetic</td>\n",
       "      <td>Yes</td>\n",
       "    </tr>\n",
       "    <tr>\n",
       "      <th>35</th>\n",
       "      <td>Hyperlipidemia</td>\n",
       "      <td>object</td>\n",
       "      <td>Whether the patient has hyperlipidemia</td>\n",
       "      <td>No</td>\n",
       "    </tr>\n",
       "    <tr>\n",
       "      <th>36</th>\n",
       "      <td>BackPain</td>\n",
       "      <td>object</td>\n",
       "      <td>Whether the patient has chronic back pain</td>\n",
       "      <td>Yes</td>\n",
       "    </tr>\n",
       "    <tr>\n",
       "      <th>37</th>\n",
       "      <td>Anxiety</td>\n",
       "      <td>float64</td>\n",
       "      <td>Whether the patient suffers from anxiety</td>\n",
       "      <td>1</td>\n",
       "    </tr>\n",
       "    <tr>\n",
       "      <th>38</th>\n",
       "      <td>Allergic_rhinitis</td>\n",
       "      <td>object</td>\n",
       "      <td>Whether the patient has allergic rhinitis</td>\n",
       "      <td>Yes</td>\n",
       "    </tr>\n",
       "    <tr>\n",
       "      <th>39</th>\n",
       "      <td>Reflux_esophagitis</td>\n",
       "      <td>object</td>\n",
       "      <td>Whether the patient has reflux esophagitis</td>\n",
       "      <td>No</td>\n",
       "    </tr>\n",
       "    <tr>\n",
       "      <th>40</th>\n",
       "      <td>Asthma</td>\n",
       "      <td>object</td>\n",
       "      <td>Whether the patient has asthma</td>\n",
       "      <td>Yes</td>\n",
       "    </tr>\n",
       "    <tr>\n",
       "      <th>41</th>\n",
       "      <td>Services</td>\n",
       "      <td>object</td>\n",
       "      <td>Services the patient received while hospitalized</td>\n",
       "      <td>Blood Work</td>\n",
       "    </tr>\n",
       "    <tr>\n",
       "      <th>42</th>\n",
       "      <td>Initial_days</td>\n",
       "      <td>float64</td>\n",
       "      <td># of days patient stayed during initial visit</td>\n",
       "      <td>10.58576971</td>\n",
       "    </tr>\n",
       "    <tr>\n",
       "      <th>43</th>\n",
       "      <td>TotalCharge</td>\n",
       "      <td>float64</td>\n",
       "      <td>Avgerge per day charge excluding specialized t...</td>\n",
       "      <td>3191.048774</td>\n",
       "    </tr>\n",
       "    <tr>\n",
       "      <th>44</th>\n",
       "      <td>Additional_charges</td>\n",
       "      <td>float64</td>\n",
       "      <td>Average per day charge of additional procedure...</td>\n",
       "      <td>17939.40342</td>\n",
       "    </tr>\n",
       "    <tr>\n",
       "      <th>45</th>\n",
       "      <td>Item1</td>\n",
       "      <td>int64</td>\n",
       "      <td>Rating of timely admission</td>\n",
       "      <td>3</td>\n",
       "    </tr>\n",
       "    <tr>\n",
       "      <th>46</th>\n",
       "      <td>Item2</td>\n",
       "      <td>int64</td>\n",
       "      <td>Rating of timely treatment</td>\n",
       "      <td>3</td>\n",
       "    </tr>\n",
       "    <tr>\n",
       "      <th>47</th>\n",
       "      <td>Item3</td>\n",
       "      <td>int64</td>\n",
       "      <td>Rating of timely visits</td>\n",
       "      <td>2</td>\n",
       "    </tr>\n",
       "    <tr>\n",
       "      <th>48</th>\n",
       "      <td>Item4</td>\n",
       "      <td>int64</td>\n",
       "      <td>Rating of reliability</td>\n",
       "      <td>2</td>\n",
       "    </tr>\n",
       "    <tr>\n",
       "      <th>49</th>\n",
       "      <td>Item5</td>\n",
       "      <td>int64</td>\n",
       "      <td>Rating of options</td>\n",
       "      <td>4</td>\n",
       "    </tr>\n",
       "    <tr>\n",
       "      <th>50</th>\n",
       "      <td>Item6</td>\n",
       "      <td>int64</td>\n",
       "      <td>Rating of hours of treatment</td>\n",
       "      <td>3</td>\n",
       "    </tr>\n",
       "    <tr>\n",
       "      <th>51</th>\n",
       "      <td>Item7</td>\n",
       "      <td>int64</td>\n",
       "      <td>Rating of courteous staff</td>\n",
       "      <td>3</td>\n",
       "    </tr>\n",
       "    <tr>\n",
       "      <th>52</th>\n",
       "      <td>Item8</td>\n",
       "      <td>int64</td>\n",
       "      <td>Rating of evidence of active listening from do...</td>\n",
       "      <td>4</td>\n",
       "    </tr>\n",
       "  </tbody>\n",
       "</table>\n",
       "</div>"
      ],
      "text/plain": [
       "         Variable Name Data Type  \\\n",
       "0              Unnamed     int64   \n",
       "1            CaseOrder     int64   \n",
       "2          Customer_id    object   \n",
       "3          Interaction    object   \n",
       "4                  UID    object   \n",
       "5                 City    object   \n",
       "6                State    object   \n",
       "7               County    object   \n",
       "8                  Zip     int64   \n",
       "9                  Lat   float64   \n",
       "10                 Lng   float64   \n",
       "11          Population     int64   \n",
       "12                Area    object   \n",
       "13            Timezone    object   \n",
       "14                 Job    object   \n",
       "15            Children   float64   \n",
       "16                 Age   float64   \n",
       "17           Education    object   \n",
       "18          Employment    object   \n",
       "19              Income   float64   \n",
       "20             Marital    object   \n",
       "21              Gender    object   \n",
       "22             ReAdmis    object   \n",
       "23         VitD_levels   float64   \n",
       "24          Doc_visits     int64   \n",
       "25    Full_meals_eaten     int64   \n",
       "26           VitD_supp     int64   \n",
       "27          Soft_drink    object   \n",
       "28       Initial_admin    object   \n",
       "29           HighBlood    object   \n",
       "30              Stroke    object   \n",
       "31   Complication_risk    object   \n",
       "32          Overweight   float64   \n",
       "33           Arthritis    object   \n",
       "34            Diabetes    object   \n",
       "35      Hyperlipidemia    object   \n",
       "36            BackPain    object   \n",
       "37             Anxiety   float64   \n",
       "38   Allergic_rhinitis    object   \n",
       "39  Reflux_esophagitis    object   \n",
       "40              Asthma    object   \n",
       "41            Services    object   \n",
       "42        Initial_days   float64   \n",
       "43         TotalCharge   float64   \n",
       "44  Additional_charges   float64   \n",
       "45               Item1     int64   \n",
       "46               Item2     int64   \n",
       "47               Item3     int64   \n",
       "48               Item4     int64   \n",
       "49               Item5     int64   \n",
       "50               Item6     int64   \n",
       "51               Item7     int64   \n",
       "52               Item8     int64   \n",
       "\n",
       "                               Description/Definition  \\\n",
       "0                          Index ID created in Pandas   \n",
       "1         An ID created to preserve order of the data   \n",
       "2                                  Unique customer ID   \n",
       "3   Interaction ID unique  to the customer, proced...   \n",
       "4   Interaction ID unique  to the customer, proced...   \n",
       "5                 Patient city from billing statement   \n",
       "6                Patient state from billing statement   \n",
       "7               Patient county from billing statement   \n",
       "8                  Patient zip from billing statement   \n",
       "9   Patient latitude from residence on billing sta...   \n",
       "10  Patient longititude from residence on billing ...   \n",
       "11   Populcation within a mile of patient's residence   \n",
       "12              Type of area (rural, urban, suburban)   \n",
       "13     Timezone based on  patient's residence address   \n",
       "14                                      Patient's job   \n",
       "15                          # of children patient has   \n",
       "16                                     Age of patient   \n",
       "17                         Education level of patient   \n",
       "18                         Patient  employment status   \n",
       "19                                   Patient's income   \n",
       "20                           Patient's marital status   \n",
       "21                                   Patient's gender   \n",
       "22  Whether patient waas readmitted within a month...   \n",
       "23                         Patient's vitamin D levels   \n",
       "24             # of doctor visits during initial stay   \n",
       "25      # of full meals eaten during stay at hospital   \n",
       "26       # of times vitamin D supplement administered   \n",
       "27           # of soft drinks patient had during stay   \n",
       "28                       Method of initial admittance   \n",
       "29            Whether patient has high blood pressure   \n",
       "30               Whether the patient has had a stroke   \n",
       "31   Whether the patient presents a complication risk   \n",
       "32                  Whether the patient is overweight   \n",
       "33                  Whether the patient has arthritis   \n",
       "34                    Whether the patient is diabetic   \n",
       "35             Whether the patient has hyperlipidemia   \n",
       "36          Whether the patient has chronic back pain   \n",
       "37           Whether the patient suffers from anxiety   \n",
       "38          Whether the patient has allergic rhinitis   \n",
       "39         Whether the patient has reflux esophagitis   \n",
       "40                     Whether the patient has asthma   \n",
       "41   Services the patient received while hospitalized   \n",
       "42      # of days patient stayed during initial visit   \n",
       "43  Avgerge per day charge excluding specialized t...   \n",
       "44  Average per day charge of additional procedure...   \n",
       "45                         Rating of timely admission   \n",
       "46                         Rating of timely treatment   \n",
       "47                            Rating of timely visits   \n",
       "48                              Rating of reliability   \n",
       "49                                  Rating of options   \n",
       "50                       Rating of hours of treatment   \n",
       "51                          Rating of courteous staff   \n",
       "52  Rating of evidence of active listening from do...   \n",
       "\n",
       "                                 Example  \n",
       "0                                    NaN  \n",
       "1                                      1  \n",
       "2                                C412403  \n",
       "3   8cd49b13-f45a-4b47-a2bd-173ffa932c2f  \n",
       "4       3a83ddb66e2ae73798bdf1d705dc0932  \n",
       "5                                    Eva  \n",
       "6                                     AL  \n",
       "7                                 Morgan  \n",
       "8                                  35621  \n",
       "9                                34.3496  \n",
       "10                             -86.72508  \n",
       "11                                  2951  \n",
       "12                              Suburban  \n",
       "13                       America/Chicago  \n",
       "14      Psychologist, sport and exercise  \n",
       "15                                     1  \n",
       "16                                    53  \n",
       "17        Some College, Less than 1 Year  \n",
       "18                             Full Time  \n",
       "19                              86575.93  \n",
       "20                              Divorced  \n",
       "21                                  Male  \n",
       "22                                    No  \n",
       "23                           17.80233049  \n",
       "24                                     6  \n",
       "25                                     0  \n",
       "26                                     0  \n",
       "27                                   NaN  \n",
       "28                   Emergency Admission  \n",
       "29                                   Yes  \n",
       "30                                    No  \n",
       "31                                Medium  \n",
       "32                                     0  \n",
       "33                                   Yes  \n",
       "34                                   Yes  \n",
       "35                                    No  \n",
       "36                                   Yes  \n",
       "37                                     1  \n",
       "38                                   Yes  \n",
       "39                                    No  \n",
       "40                                   Yes  \n",
       "41                            Blood Work  \n",
       "42                           10.58576971  \n",
       "43                           3191.048774  \n",
       "44                           17939.40342  \n",
       "45                                     3  \n",
       "46                                     3  \n",
       "47                                     2  \n",
       "48                                     2  \n",
       "49                                     4  \n",
       "50                                     3  \n",
       "51                                     3  \n",
       "52                                     4  "
      ]
     },
     "execution_count": 2,
     "metadata": {},
     "output_type": "execute_result"
    }
   ],
   "source": [
    "# Importing data details table into Jupyter\n",
    "table_df = pd.read_csv('C:/Users/Favio/Documents/Education/WGU/MSDA/D206/PA/Table.csv')\n",
    "table_df"
   ]
  },
  {
   "cell_type": "markdown",
   "id": "f6f8cc42",
   "metadata": {},
   "source": [
    "## Part II: Data-Cleaning Plan (Detection)"
   ]
  },
  {
   "cell_type": "markdown",
   "id": "5e788801",
   "metadata": {},
   "source": [
    "### C1: Plan to Assess Quality of Data\n",
    "\n",
    "To detect duplicates I used the \".duplicated()\" function on the database.  To detect missing  values I used the a combination of \".isnull()\" and \".sum()\" which sums the number of null values in each column.  The detect outliers I used boxplots from Seaborn.  I did not re-express any categorical variables since I did not find any inconsistency across each individual variable."
   ]
  },
  {
   "cell_type": "markdown",
   "id": "a9b79aa9",
   "metadata": {},
   "source": [
    "### C2: Justification of Approach\n",
    "\n",
    "I used the \".duplicated()\" funciton because it is an easy method to quickly identify if there are any duplicated rows in the dataset.\n",
    "\n",
    "The method \".isnull()\" returns a True for each cell in the table if the value is null, and False if there is a value in the cell.  Combining the \".sum()\" method to the \".isnull()\" method adds each value of True and False across columns.  I used this method because it is a quick and efficient way to identify if there are any null values in each column.\n",
    "\n",
    "To identify outliers, I used the Seaborn package, specifically boxplot charts to create boxplots for all quantitative variables.  Boxplots create a visual chart that makes it easy to identify if there are any outliers present in the variable data."
   ]
  },
  {
   "cell_type": "markdown",
   "id": "ebf03ca1",
   "metadata": {},
   "source": [
    "### C3: Justification of Tools\n",
    "\n",
    "I used Python as the programming language since it has a broader application to data and I have some, albeit little, experience using Python.\n",
    "\n",
    "I used the Numpy and Pandas library packages which make working with data in tabular form more efficient.  Using tabular form for the data allowed me to better organize and analyze the dataset.  These packages also provide easy functions to obtain pertinent information about the dataset.  I used the Seaborn package to create boxplots for quantitative variables to determine if outliers exist in the data."
   ]
  },
  {
   "cell_type": "markdown",
   "id": "9ca54cd4",
   "metadata": {},
   "source": [
    "### C4: Provide the Code"
   ]
  },
  {
   "cell_type": "code",
   "execution_count": 3,
   "id": "c7ee3acc",
   "metadata": {},
   "outputs": [
    {
     "data": {
      "text/html": [
       "<div>\n",
       "<style scoped>\n",
       "    .dataframe tbody tr th:only-of-type {\n",
       "        vertical-align: middle;\n",
       "    }\n",
       "\n",
       "    .dataframe tbody tr th {\n",
       "        vertical-align: top;\n",
       "    }\n",
       "\n",
       "    .dataframe thead th {\n",
       "        text-align: right;\n",
       "    }\n",
       "</style>\n",
       "<table border=\"1\" class=\"dataframe\">\n",
       "  <thead>\n",
       "    <tr style=\"text-align: right;\">\n",
       "      <th></th>\n",
       "      <th>Unnamed: 0</th>\n",
       "      <th>CaseOrder</th>\n",
       "      <th>Customer_id</th>\n",
       "      <th>Interaction</th>\n",
       "      <th>UID</th>\n",
       "      <th>City</th>\n",
       "      <th>State</th>\n",
       "      <th>County</th>\n",
       "      <th>Zip</th>\n",
       "      <th>Lat</th>\n",
       "      <th>...</th>\n",
       "      <th>TotalCharge</th>\n",
       "      <th>Additional_charges</th>\n",
       "      <th>Item1</th>\n",
       "      <th>Item2</th>\n",
       "      <th>Item3</th>\n",
       "      <th>Item4</th>\n",
       "      <th>Item5</th>\n",
       "      <th>Item6</th>\n",
       "      <th>Item7</th>\n",
       "      <th>Item8</th>\n",
       "    </tr>\n",
       "  </thead>\n",
       "  <tbody>\n",
       "    <tr>\n",
       "      <th>0</th>\n",
       "      <td>1</td>\n",
       "      <td>1</td>\n",
       "      <td>C412403</td>\n",
       "      <td>8cd49b13-f45a-4b47-a2bd-173ffa932c2f</td>\n",
       "      <td>3a83ddb66e2ae73798bdf1d705dc0932</td>\n",
       "      <td>Eva</td>\n",
       "      <td>AL</td>\n",
       "      <td>Morgan</td>\n",
       "      <td>35621</td>\n",
       "      <td>34.34960</td>\n",
       "      <td>...</td>\n",
       "      <td>3191.048774</td>\n",
       "      <td>17939.403420</td>\n",
       "      <td>3</td>\n",
       "      <td>3</td>\n",
       "      <td>2</td>\n",
       "      <td>2</td>\n",
       "      <td>4</td>\n",
       "      <td>3</td>\n",
       "      <td>3</td>\n",
       "      <td>4</td>\n",
       "    </tr>\n",
       "    <tr>\n",
       "      <th>1</th>\n",
       "      <td>2</td>\n",
       "      <td>2</td>\n",
       "      <td>Z919181</td>\n",
       "      <td>d2450b70-0337-4406-bdbb-bc1037f1734c</td>\n",
       "      <td>176354c5eef714957d486009feabf195</td>\n",
       "      <td>Marianna</td>\n",
       "      <td>FL</td>\n",
       "      <td>Jackson</td>\n",
       "      <td>32446</td>\n",
       "      <td>30.84513</td>\n",
       "      <td>...</td>\n",
       "      <td>4214.905346</td>\n",
       "      <td>17612.998120</td>\n",
       "      <td>3</td>\n",
       "      <td>4</td>\n",
       "      <td>3</td>\n",
       "      <td>4</td>\n",
       "      <td>4</td>\n",
       "      <td>4</td>\n",
       "      <td>3</td>\n",
       "      <td>3</td>\n",
       "    </tr>\n",
       "    <tr>\n",
       "      <th>2</th>\n",
       "      <td>3</td>\n",
       "      <td>3</td>\n",
       "      <td>F995323</td>\n",
       "      <td>a2057123-abf5-4a2c-abad-8ffe33512562</td>\n",
       "      <td>e19a0fa00aeda885b8a436757e889bc9</td>\n",
       "      <td>Sioux Falls</td>\n",
       "      <td>SD</td>\n",
       "      <td>Minnehaha</td>\n",
       "      <td>57110</td>\n",
       "      <td>43.54321</td>\n",
       "      <td>...</td>\n",
       "      <td>2177.586768</td>\n",
       "      <td>17505.192460</td>\n",
       "      <td>2</td>\n",
       "      <td>4</td>\n",
       "      <td>4</td>\n",
       "      <td>4</td>\n",
       "      <td>3</td>\n",
       "      <td>4</td>\n",
       "      <td>3</td>\n",
       "      <td>3</td>\n",
       "    </tr>\n",
       "    <tr>\n",
       "      <th>3</th>\n",
       "      <td>4</td>\n",
       "      <td>4</td>\n",
       "      <td>A879973</td>\n",
       "      <td>1dec528d-eb34-4079-adce-0d7a40e82205</td>\n",
       "      <td>cd17d7b6d152cb6f23957346d11c3f07</td>\n",
       "      <td>New Richland</td>\n",
       "      <td>MN</td>\n",
       "      <td>Waseca</td>\n",
       "      <td>56072</td>\n",
       "      <td>43.89744</td>\n",
       "      <td>...</td>\n",
       "      <td>2465.118965</td>\n",
       "      <td>12993.437350</td>\n",
       "      <td>3</td>\n",
       "      <td>5</td>\n",
       "      <td>5</td>\n",
       "      <td>3</td>\n",
       "      <td>4</td>\n",
       "      <td>5</td>\n",
       "      <td>5</td>\n",
       "      <td>5</td>\n",
       "    </tr>\n",
       "    <tr>\n",
       "      <th>4</th>\n",
       "      <td>5</td>\n",
       "      <td>5</td>\n",
       "      <td>C544523</td>\n",
       "      <td>5885f56b-d6da-43a3-8760-83583af94266</td>\n",
       "      <td>d2f0425877b10ed6bb381f3e2579424a</td>\n",
       "      <td>West Point</td>\n",
       "      <td>VA</td>\n",
       "      <td>King William</td>\n",
       "      <td>23181</td>\n",
       "      <td>37.59894</td>\n",
       "      <td>...</td>\n",
       "      <td>1885.655137</td>\n",
       "      <td>3716.525786</td>\n",
       "      <td>2</td>\n",
       "      <td>1</td>\n",
       "      <td>3</td>\n",
       "      <td>3</td>\n",
       "      <td>5</td>\n",
       "      <td>3</td>\n",
       "      <td>4</td>\n",
       "      <td>3</td>\n",
       "    </tr>\n",
       "  </tbody>\n",
       "</table>\n",
       "<p>5 rows × 53 columns</p>\n",
       "</div>"
      ],
      "text/plain": [
       "   Unnamed: 0  CaseOrder Customer_id                           Interaction  \\\n",
       "0           1          1     C412403  8cd49b13-f45a-4b47-a2bd-173ffa932c2f   \n",
       "1           2          2     Z919181  d2450b70-0337-4406-bdbb-bc1037f1734c   \n",
       "2           3          3     F995323  a2057123-abf5-4a2c-abad-8ffe33512562   \n",
       "3           4          4     A879973  1dec528d-eb34-4079-adce-0d7a40e82205   \n",
       "4           5          5     C544523  5885f56b-d6da-43a3-8760-83583af94266   \n",
       "\n",
       "                                UID          City State        County    Zip  \\\n",
       "0  3a83ddb66e2ae73798bdf1d705dc0932           Eva    AL        Morgan  35621   \n",
       "1  176354c5eef714957d486009feabf195      Marianna    FL       Jackson  32446   \n",
       "2  e19a0fa00aeda885b8a436757e889bc9   Sioux Falls    SD     Minnehaha  57110   \n",
       "3  cd17d7b6d152cb6f23957346d11c3f07  New Richland    MN        Waseca  56072   \n",
       "4  d2f0425877b10ed6bb381f3e2579424a    West Point    VA  King William  23181   \n",
       "\n",
       "        Lat  ...  TotalCharge  Additional_charges Item1 Item2 Item3  Item4  \\\n",
       "0  34.34960  ...  3191.048774        17939.403420     3     3     2      2   \n",
       "1  30.84513  ...  4214.905346        17612.998120     3     4     3      4   \n",
       "2  43.54321  ...  2177.586768        17505.192460     2     4     4      4   \n",
       "3  43.89744  ...  2465.118965        12993.437350     3     5     5      3   \n",
       "4  37.59894  ...  1885.655137         3716.525786     2     1     3      3   \n",
       "\n",
       "   Item5 Item6 Item7  Item8  \n",
       "0      4     3     3      4  \n",
       "1      4     4     3      3  \n",
       "2      3     4     3      3  \n",
       "3      4     5     5      5  \n",
       "4      5     3     4      3  \n",
       "\n",
       "[5 rows x 53 columns]"
      ]
     },
     "execution_count": 3,
     "metadata": {},
     "output_type": "execute_result"
    }
   ],
   "source": [
    "# Importing medical_raw_data.csv file into Jupyter\n",
    "df = pd.read_csv('C:/Users/Favio/Documents/Education/WGU/MSDA/D206/PA/Files/medical_raw_data.csv')\n",
    "\n",
    "# Viewing head to make sure import was successful\n",
    "df.head()"
   ]
  },
  {
   "cell_type": "code",
   "execution_count": 4,
   "id": "b72dafc5",
   "metadata": {},
   "outputs": [
    {
     "name": "stdout",
     "output_type": "stream",
     "text": [
      "<class 'pandas.core.frame.DataFrame'>\n",
      "RangeIndex: 10000 entries, 0 to 9999\n",
      "Data columns (total 53 columns):\n",
      " #   Column              Non-Null Count  Dtype  \n",
      "---  ------              --------------  -----  \n",
      " 0   Unnamed: 0          10000 non-null  int64  \n",
      " 1   CaseOrder           10000 non-null  int64  \n",
      " 2   Customer_id         10000 non-null  object \n",
      " 3   Interaction         10000 non-null  object \n",
      " 4   UID                 10000 non-null  object \n",
      " 5   City                10000 non-null  object \n",
      " 6   State               10000 non-null  object \n",
      " 7   County              10000 non-null  object \n",
      " 8   Zip                 10000 non-null  int64  \n",
      " 9   Lat                 10000 non-null  float64\n",
      " 10  Lng                 10000 non-null  float64\n",
      " 11  Population          10000 non-null  int64  \n",
      " 12  Area                10000 non-null  object \n",
      " 13  Timezone            10000 non-null  object \n",
      " 14  Job                 10000 non-null  object \n",
      " 15  Children            7412 non-null   float64\n",
      " 16  Age                 7586 non-null   float64\n",
      " 17  Education           10000 non-null  object \n",
      " 18  Employment          10000 non-null  object \n",
      " 19  Income              7536 non-null   float64\n",
      " 20  Marital             10000 non-null  object \n",
      " 21  Gender              10000 non-null  object \n",
      " 22  ReAdmis             10000 non-null  object \n",
      " 23  VitD_levels         10000 non-null  float64\n",
      " 24  Doc_visits          10000 non-null  int64  \n",
      " 25  Full_meals_eaten    10000 non-null  int64  \n",
      " 26  VitD_supp           10000 non-null  int64  \n",
      " 27  Soft_drink          7533 non-null   object \n",
      " 28  Initial_admin       10000 non-null  object \n",
      " 29  HighBlood           10000 non-null  object \n",
      " 30  Stroke              10000 non-null  object \n",
      " 31  Complication_risk   10000 non-null  object \n",
      " 32  Overweight          9018 non-null   float64\n",
      " 33  Arthritis           10000 non-null  object \n",
      " 34  Diabetes            10000 non-null  object \n",
      " 35  Hyperlipidemia      10000 non-null  object \n",
      " 36  BackPain            10000 non-null  object \n",
      " 37  Anxiety             9016 non-null   float64\n",
      " 38  Allergic_rhinitis   10000 non-null  object \n",
      " 39  Reflux_esophagitis  10000 non-null  object \n",
      " 40  Asthma              10000 non-null  object \n",
      " 41  Services            10000 non-null  object \n",
      " 42  Initial_days        8944 non-null   float64\n",
      " 43  TotalCharge         10000 non-null  float64\n",
      " 44  Additional_charges  10000 non-null  float64\n",
      " 45  Item1               10000 non-null  int64  \n",
      " 46  Item2               10000 non-null  int64  \n",
      " 47  Item3               10000 non-null  int64  \n",
      " 48  Item4               10000 non-null  int64  \n",
      " 49  Item5               10000 non-null  int64  \n",
      " 50  Item6               10000 non-null  int64  \n",
      " 51  Item7               10000 non-null  int64  \n",
      " 52  Item8               10000 non-null  int64  \n",
      "dtypes: float64(11), int64(15), object(27)\n",
      "memory usage: 4.0+ MB\n"
     ]
    }
   ],
   "source": [
    "# Checking value types for each column\n",
    "df.info()"
   ]
  },
  {
   "cell_type": "code",
   "execution_count": 5,
   "id": "fda2681b",
   "metadata": {},
   "outputs": [
    {
     "data": {
      "text/plain": [
       "(10000, 53)"
      ]
     },
     "execution_count": 5,
     "metadata": {},
     "output_type": "execute_result"
    }
   ],
   "source": [
    "# Checking shape of df\n",
    "df.shape"
   ]
  },
  {
   "cell_type": "code",
   "execution_count": 6,
   "id": "2ecc52c5",
   "metadata": {},
   "outputs": [
    {
     "data": {
      "text/html": [
       "<div>\n",
       "<style scoped>\n",
       "    .dataframe tbody tr th:only-of-type {\n",
       "        vertical-align: middle;\n",
       "    }\n",
       "\n",
       "    .dataframe tbody tr th {\n",
       "        vertical-align: top;\n",
       "    }\n",
       "\n",
       "    .dataframe thead th {\n",
       "        text-align: right;\n",
       "    }\n",
       "</style>\n",
       "<table border=\"1\" class=\"dataframe\">\n",
       "  <thead>\n",
       "    <tr style=\"text-align: right;\">\n",
       "      <th></th>\n",
       "      <th>count</th>\n",
       "      <th>mean</th>\n",
       "      <th>std</th>\n",
       "      <th>min</th>\n",
       "      <th>25%</th>\n",
       "      <th>50%</th>\n",
       "      <th>75%</th>\n",
       "      <th>max</th>\n",
       "    </tr>\n",
       "  </thead>\n",
       "  <tbody>\n",
       "    <tr>\n",
       "      <th>Children</th>\n",
       "      <td>7412.0</td>\n",
       "      <td>2.098219</td>\n",
       "      <td>2.155427</td>\n",
       "      <td>0.000000</td>\n",
       "      <td>0.000000</td>\n",
       "      <td>1.000000</td>\n",
       "      <td>3.000000</td>\n",
       "      <td>10.000000</td>\n",
       "    </tr>\n",
       "    <tr>\n",
       "      <th>Age</th>\n",
       "      <td>7586.0</td>\n",
       "      <td>53.295676</td>\n",
       "      <td>20.659182</td>\n",
       "      <td>18.000000</td>\n",
       "      <td>35.000000</td>\n",
       "      <td>53.000000</td>\n",
       "      <td>71.000000</td>\n",
       "      <td>89.000000</td>\n",
       "    </tr>\n",
       "    <tr>\n",
       "      <th>Income</th>\n",
       "      <td>7536.0</td>\n",
       "      <td>40484.438268</td>\n",
       "      <td>28664.861050</td>\n",
       "      <td>154.080000</td>\n",
       "      <td>19450.792500</td>\n",
       "      <td>33942.280000</td>\n",
       "      <td>54075.235000</td>\n",
       "      <td>207249.130000</td>\n",
       "    </tr>\n",
       "    <tr>\n",
       "      <th>Overweight</th>\n",
       "      <td>9018.0</td>\n",
       "      <td>0.709137</td>\n",
       "      <td>0.454186</td>\n",
       "      <td>0.000000</td>\n",
       "      <td>0.000000</td>\n",
       "      <td>1.000000</td>\n",
       "      <td>1.000000</td>\n",
       "      <td>1.000000</td>\n",
       "    </tr>\n",
       "    <tr>\n",
       "      <th>Anxiety</th>\n",
       "      <td>9016.0</td>\n",
       "      <td>0.322316</td>\n",
       "      <td>0.467389</td>\n",
       "      <td>0.000000</td>\n",
       "      <td>0.000000</td>\n",
       "      <td>0.000000</td>\n",
       "      <td>1.000000</td>\n",
       "      <td>1.000000</td>\n",
       "    </tr>\n",
       "    <tr>\n",
       "      <th>Initial_days</th>\n",
       "      <td>8944.0</td>\n",
       "      <td>34.432082</td>\n",
       "      <td>26.287050</td>\n",
       "      <td>1.001981</td>\n",
       "      <td>7.911709</td>\n",
       "      <td>34.446941</td>\n",
       "      <td>61.124654</td>\n",
       "      <td>71.981486</td>\n",
       "    </tr>\n",
       "  </tbody>\n",
       "</table>\n",
       "</div>"
      ],
      "text/plain": [
       "               count          mean           std         min           25%  \\\n",
       "Children      7412.0      2.098219      2.155427    0.000000      0.000000   \n",
       "Age           7586.0     53.295676     20.659182   18.000000     35.000000   \n",
       "Income        7536.0  40484.438268  28664.861050  154.080000  19450.792500   \n",
       "Overweight    9018.0      0.709137      0.454186    0.000000      0.000000   \n",
       "Anxiety       9016.0      0.322316      0.467389    0.000000      0.000000   \n",
       "Initial_days  8944.0     34.432082     26.287050    1.001981      7.911709   \n",
       "\n",
       "                       50%           75%            max  \n",
       "Children          1.000000      3.000000      10.000000  \n",
       "Age              53.000000     71.000000      89.000000  \n",
       "Income        33942.280000  54075.235000  207249.130000  \n",
       "Overweight        1.000000      1.000000       1.000000  \n",
       "Anxiety           0.000000      1.000000       1.000000  \n",
       "Initial_days     34.446941     61.124654      71.981486  "
      ]
     },
     "execution_count": 6,
     "metadata": {},
     "output_type": "execute_result"
    }
   ],
   "source": [
    "# Checking statistical description of df\n",
    "cat = ['Children', 'Age', 'Income', 'Soft_drink', 'Overweight', 'Anxiety', 'Initial_days']\n",
    "df[cat].describe().T"
   ]
  },
  {
   "cell_type": "code",
   "execution_count": 7,
   "id": "1674acdc",
   "metadata": {},
   "outputs": [
    {
     "data": {
      "text/plain": [
       "False    10000\n",
       "dtype: int64"
      ]
     },
     "execution_count": 7,
     "metadata": {},
     "output_type": "execute_result"
    }
   ],
   "source": [
    "# Checking for duplicates\n",
    "df.duplicated().value_counts()\n",
    "\n",
    "# All 10,000 entries are false which confirms no duplicates"
   ]
  },
  {
   "cell_type": "code",
   "execution_count": 8,
   "id": "890ecec7",
   "metadata": {},
   "outputs": [
    {
     "data": {
      "text/plain": [
       "Unnamed: 0               0\n",
       "CaseOrder                0\n",
       "Customer_id              0\n",
       "Interaction              0\n",
       "UID                      0\n",
       "City                     0\n",
       "State                    0\n",
       "County                   0\n",
       "Zip                      0\n",
       "Lat                      0\n",
       "Lng                      0\n",
       "Population               0\n",
       "Area                     0\n",
       "Timezone                 0\n",
       "Job                      0\n",
       "Children              2588\n",
       "Age                   2414\n",
       "Education                0\n",
       "Employment               0\n",
       "Income                2464\n",
       "Marital                  0\n",
       "Gender                   0\n",
       "ReAdmis                  0\n",
       "VitD_levels              0\n",
       "Doc_visits               0\n",
       "Full_meals_eaten         0\n",
       "VitD_supp                0\n",
       "Soft_drink            2467\n",
       "Initial_admin            0\n",
       "HighBlood                0\n",
       "Stroke                   0\n",
       "Complication_risk        0\n",
       "Overweight             982\n",
       "Arthritis                0\n",
       "Diabetes                 0\n",
       "Hyperlipidemia           0\n",
       "BackPain                 0\n",
       "Anxiety                984\n",
       "Allergic_rhinitis        0\n",
       "Reflux_esophagitis       0\n",
       "Asthma                   0\n",
       "Services                 0\n",
       "Initial_days          1056\n",
       "TotalCharge              0\n",
       "Additional_charges       0\n",
       "Item1                    0\n",
       "Item2                    0\n",
       "Item3                    0\n",
       "Item4                    0\n",
       "Item5                    0\n",
       "Item6                    0\n",
       "Item7                    0\n",
       "Item8                    0\n",
       "dtype: int64"
      ]
     },
     "execution_count": 8,
     "metadata": {},
     "output_type": "execute_result"
    }
   ],
   "source": [
    "# Checking for missing values\n",
    "df.isnull().sum()\n",
    "\n",
    "# Found nulls in 'Children', 'Age', 'Income', 'Soft_drink', 'Overweight', 'Anxiety', and 'Initial_days'"
   ]
  },
  {
   "cell_type": "markdown",
   "id": "8b543f28",
   "metadata": {},
   "source": [
    "<b>Checking for outliers in all quantitative variables using boxplots</b>"
   ]
  },
  {
   "cell_type": "code",
   "execution_count": 9,
   "id": "38da4aaa",
   "metadata": {},
   "outputs": [
    {
     "data": {
      "image/png": "[encoded data removed]",
      "text/plain": [
       "<Figure size 640x480 with 1 Axes>"
      ]
     },
     "metadata": {},
     "output_type": "display_data"
    }
   ],
   "source": [
    "sns.boxplot(data=df, x='Children');"
   ]
  },
  {
   "cell_type": "code",
   "execution_count": 10,
   "id": "567a0a91",
   "metadata": {},
   "outputs": [
    {
     "data": {
      "image/png": "[encoded data removed]",
      "text/plain": [
       "<Figure size 640x480 with 1 Axes>"
      ]
     },
     "metadata": {},
     "output_type": "display_data"
    }
   ],
   "source": [
    "sns.boxplot(data=df, x='Age');"
   ]
  },
  {
   "cell_type": "code",
   "execution_count": 11,
   "id": "1ef637ed",
   "metadata": {},
   "outputs": [
    {
     "data": {
      "image/png": "[encoded data removed]",
      "text/plain": [
       "<Figure size 640x480 with 1 Axes>"
      ]
     },
     "metadata": {},
     "output_type": "display_data"
    }
   ],
   "source": [
    "sns.boxplot(data=df, x='Income');"
   ]
  },
  {
   "cell_type": "code",
   "execution_count": 12,
   "id": "c11bc108",
   "metadata": {},
   "outputs": [
    {
     "data": {
      "image/png": "[encoded data removed]",
      "text/plain": [
       "<Figure size 640x480 with 1 Axes>"
      ]
     },
     "metadata": {},
     "output_type": "display_data"
    }
   ],
   "source": [
    "sns.boxplot(data=df, x='VitD_levels');"
   ]
  },
  {
   "cell_type": "code",
   "execution_count": 13,
   "id": "5801fd3c",
   "metadata": {},
   "outputs": [
    {
     "data": {
      "image/png": "[encoded data removed]",
      "text/plain": [
       "<Figure size 640x480 with 1 Axes>"
      ]
     },
     "metadata": {},
     "output_type": "display_data"
    }
   ],
   "source": [
    "sns.boxplot(data=df, x='Doc_visits');"
   ]
  },
  {
   "cell_type": "code",
   "execution_count": 14,
   "id": "419e3c09",
   "metadata": {},
   "outputs": [
    {
     "data": {
      "image/png": "[encoded data removed]",
      "text/plain": [
       "<Figure size 640x480 with 1 Axes>"
      ]
     },
     "metadata": {},
     "output_type": "display_data"
    }
   ],
   "source": [
    "sns.boxplot(data=df, x='Full_meals_eaten');"
   ]
  },
  {
   "cell_type": "code",
   "execution_count": 15,
   "id": "c3dc5b7b",
   "metadata": {},
   "outputs": [
    {
     "data": {
      "image/png": "[encoded data removed]",
      "text/plain": [
       "<Figure size 640x480 with 1 Axes>"
      ]
     },
     "metadata": {},
     "output_type": "display_data"
    }
   ],
   "source": [
    "sns.boxplot(data=df, x='VitD_supp');"
   ]
  },
  {
   "cell_type": "code",
   "execution_count": 16,
   "id": "3bab438e",
   "metadata": {},
   "outputs": [
    {
     "data": {
      "image/png": "[encoded data removed]",
      "text/plain": [
       "<Figure size 640x480 with 1 Axes>"
      ]
     },
     "metadata": {},
     "output_type": "display_data"
    }
   ],
   "source": [
    "sns.boxplot(data=df, x='Initial_days');"
   ]
  },
  {
   "cell_type": "code",
   "execution_count": 17,
   "id": "43bbd10a",
   "metadata": {},
   "outputs": [
    {
     "data": {
      "image/png": "[encoded data removed]",
      "text/plain": [
       "<Figure size 640x480 with 1 Axes>"
      ]
     },
     "metadata": {},
     "output_type": "display_data"
    }
   ],
   "source": [
    "sns.boxplot(data=df, x='TotalCharge');"
   ]
  },
  {
   "cell_type": "code",
   "execution_count": 18,
   "id": "6d5f8fba",
   "metadata": {},
   "outputs": [
    {
     "data": {
      "image/png": "[encoded data removed]",
      "text/plain": [
       "<Figure size 640x480 with 1 Axes>"
      ]
     },
     "metadata": {},
     "output_type": "display_data"
    }
   ],
   "source": [
    "sns.boxplot(data=df, x='Additional_charges');"
   ]
  },
  {
   "cell_type": "markdown",
   "id": "a19d2bc4",
   "metadata": {},
   "source": [
    "## Part III: Data Cleaning (Treatment)"
   ]
  },
  {
   "cell_type": "markdown",
   "id": "90d3d053",
   "metadata": {},
   "source": [
    "### D1: Cleaning Findings\n",
    "\n",
    "No duplicates were found in the dataset.\n",
    "\n",
    "I found nulls in columns 'Children', 'Age', 'Income', 'Soft_drink', 'Overweight', 'Anxiety', and 'Initial_days'.\n",
    "\n",
    "The number of null values are for each column is:\n",
    "\n",
    "*   'Children': 2,588\n",
    "*   'Age': 2,414\n",
    "*   'Income': 2,464\n",
    "*   'Soft_drink': 2,467\n",
    "*   'Overweight': 982\n",
    "*   'Anxiety': 984\n",
    "*   'Initial_days': 1,056\n",
    "\n",
    "I observed outliers in the quantitative variables 'Children', 'Income', 'VitD_levels', 'Full_meals_eaten', 'VitD_supp', and 'Additional_charges'.  There were 3 outlies in 'Children', 2 in 'Full_meats_eaten', 3 in 'VitD_supp', and many outliers in the rest identified in the previous sentence.  All outliers observed were greater than the fourth quartile, with the exception of 'VitD_supp' which had outliers at both extremes."
   ]
  },
  {
   "cell_type": "markdown",
   "id": "0de018ff",
   "metadata": {},
   "source": [
    "### D2: Justification of Mitigation Methods\n",
    "\n",
    "Since there were no duplicates found, no treatment was needed for duplicated rows.\n",
    "\n",
    "To treat missing values, I used the mode to treat qualitative variables, and the median to treat most of the quantitative variables.  I chose the median since the  mean is affected by outliers, and some of the variables have a lot of outliers.  For 'Initial_days' I used the mean to impute tha values of Nan since the data follows a normal distribution.\n",
    "\n",
    "I did not treat the outliers since they appear to be legitimate observations.  For example, it's reasonable that there are some patients that have more  children than others, or more income."
   ]
  },
  {
   "cell_type": "markdown",
   "id": "0c3c6f98",
   "metadata": {},
   "source": [
    "### D3: Summary of the Outcomes\n",
    "\n",
    "I did not treat duplicates or outliers, so no process was performed on these.\n",
    "\n",
    "To treat missing values, I imputed the value using median for 'Children', 'Age', 'Income'; mean for 'Initial_days'; and mode for 'Soft_drink', 'Overweight', and 'Anxiety'.\n",
    "\n",
    "I reviewed the mean before and after the imputation of missing values and although the values changed, it was not by much."
   ]
  },
  {
   "cell_type": "markdown",
   "id": "6c12c060",
   "metadata": {},
   "source": [
    "### D4: Mitigation Code\n",
    "\n",
    "For the code used to impute missing values, I used Dr. Middleton's recording on <i>Welcome to Webinar 2: Getting Started with Missing Data and Outliers</i>."
   ]
  },
  {
   "cell_type": "code",
   "execution_count": 19,
   "id": "ea70dddf",
   "metadata": {},
   "outputs": [],
   "source": [
    "# Treating missing values for 'Children'\n",
    "df['Children'].fillna(df['Children'].median(), inplace=True)"
   ]
  },
  {
   "cell_type": "code",
   "execution_count": 20,
   "id": "0ac0986c",
   "metadata": {},
   "outputs": [],
   "source": [
    "# Treating missing values for 'Age'\n",
    "df['Age'].fillna(df['Age'].median(), inplace=True)"
   ]
  },
  {
   "cell_type": "code",
   "execution_count": 21,
   "id": "83f087e0",
   "metadata": {},
   "outputs": [],
   "source": [
    "# Treating missing values for 'Income'\n",
    "df['Income'].fillna(df['Income'].median(), inplace=True)"
   ]
  },
  {
   "cell_type": "code",
   "execution_count": 22,
   "id": "a8ec81b5",
   "metadata": {},
   "outputs": [],
   "source": [
    "# Treating missing values for 'Soft_drink'\n",
    "df['Soft_drink'] = df['Soft_drink'].fillna(df['Soft_drink'].mode()[0])"
   ]
  },
  {
   "cell_type": "code",
   "execution_count": 23,
   "id": "3d464c70",
   "metadata": {},
   "outputs": [],
   "source": [
    "# Treating missing values for 'Overweight'\n",
    "df['Overweight'] = df['Overweight'].fillna(df['Overweight'].mode()[0])"
   ]
  },
  {
   "cell_type": "code",
   "execution_count": 24,
   "id": "b25ccd3e",
   "metadata": {},
   "outputs": [],
   "source": [
    "# Treating missing values for 'Anxiety'\n",
    "df['Anxiety'] = df['Anxiety'].fillna(df['Anxiety'].mode()[0])"
   ]
  },
  {
   "cell_type": "code",
   "execution_count": 25,
   "id": "a7e3fc6c",
   "metadata": {},
   "outputs": [],
   "source": [
    "# Treating missing values for 'Initial_days'\n",
    "df['Initial_days'].fillna(df['Initial_days'].mean(), inplace=True)"
   ]
  },
  {
   "cell_type": "code",
   "execution_count": 26,
   "id": "5c143545",
   "metadata": {},
   "outputs": [
    {
     "data": {
      "text/plain": [
       "Unnamed: 0            0\n",
       "CaseOrder             0\n",
       "Customer_id           0\n",
       "Interaction           0\n",
       "UID                   0\n",
       "City                  0\n",
       "State                 0\n",
       "County                0\n",
       "Zip                   0\n",
       "Lat                   0\n",
       "Lng                   0\n",
       "Population            0\n",
       "Area                  0\n",
       "Timezone              0\n",
       "Job                   0\n",
       "Children              0\n",
       "Age                   0\n",
       "Education             0\n",
       "Employment            0\n",
       "Income                0\n",
       "Marital               0\n",
       "Gender                0\n",
       "ReAdmis               0\n",
       "VitD_levels           0\n",
       "Doc_visits            0\n",
       "Full_meals_eaten      0\n",
       "VitD_supp             0\n",
       "Soft_drink            0\n",
       "Initial_admin         0\n",
       "HighBlood             0\n",
       "Stroke                0\n",
       "Complication_risk     0\n",
       "Overweight            0\n",
       "Arthritis             0\n",
       "Diabetes              0\n",
       "Hyperlipidemia        0\n",
       "BackPain              0\n",
       "Anxiety               0\n",
       "Allergic_rhinitis     0\n",
       "Reflux_esophagitis    0\n",
       "Asthma                0\n",
       "Services              0\n",
       "Initial_days          0\n",
       "TotalCharge           0\n",
       "Additional_charges    0\n",
       "Item1                 0\n",
       "Item2                 0\n",
       "Item3                 0\n",
       "Item4                 0\n",
       "Item5                 0\n",
       "Item6                 0\n",
       "Item7                 0\n",
       "Item8                 0\n",
       "dtype: int64"
      ]
     },
     "execution_count": 26,
     "metadata": {},
     "output_type": "execute_result"
    }
   ],
   "source": [
    "# Verify all null values have been replaced\n",
    "df.isnull().sum()"
   ]
  },
  {
   "cell_type": "code",
   "execution_count": 27,
   "id": "ea4111be",
   "metadata": {},
   "outputs": [
    {
     "data": {
      "text/html": [
       "<div>\n",
       "<style scoped>\n",
       "    .dataframe tbody tr th:only-of-type {\n",
       "        vertical-align: middle;\n",
       "    }\n",
       "\n",
       "    .dataframe tbody tr th {\n",
       "        vertical-align: top;\n",
       "    }\n",
       "\n",
       "    .dataframe thead th {\n",
       "        text-align: right;\n",
       "    }\n",
       "</style>\n",
       "<table border=\"1\" class=\"dataframe\">\n",
       "  <thead>\n",
       "    <tr style=\"text-align: right;\">\n",
       "      <th></th>\n",
       "      <th>count</th>\n",
       "      <th>mean</th>\n",
       "      <th>std</th>\n",
       "      <th>min</th>\n",
       "      <th>25%</th>\n",
       "      <th>50%</th>\n",
       "      <th>75%</th>\n",
       "      <th>max</th>\n",
       "    </tr>\n",
       "  </thead>\n",
       "  <tbody>\n",
       "    <tr>\n",
       "      <th>Children</th>\n",
       "      <td>10000.0</td>\n",
       "      <td>1.814000</td>\n",
       "      <td>1.916969</td>\n",
       "      <td>0.000000</td>\n",
       "      <td>1.000000</td>\n",
       "      <td>1.000000</td>\n",
       "      <td>3.000000</td>\n",
       "      <td>10.000000</td>\n",
       "    </tr>\n",
       "    <tr>\n",
       "      <th>Age</th>\n",
       "      <td>10000.0</td>\n",
       "      <td>53.224300</td>\n",
       "      <td>17.993820</td>\n",
       "      <td>18.000000</td>\n",
       "      <td>41.000000</td>\n",
       "      <td>53.000000</td>\n",
       "      <td>65.000000</td>\n",
       "      <td>89.000000</td>\n",
       "    </tr>\n",
       "    <tr>\n",
       "      <th>Income</th>\n",
       "      <td>10000.0</td>\n",
       "      <td>38872.450471</td>\n",
       "      <td>25042.796229</td>\n",
       "      <td>154.080000</td>\n",
       "      <td>23956.162500</td>\n",
       "      <td>33942.280000</td>\n",
       "      <td>46466.797500</td>\n",
       "      <td>207249.130000</td>\n",
       "    </tr>\n",
       "    <tr>\n",
       "      <th>Overweight</th>\n",
       "      <td>10000.0</td>\n",
       "      <td>0.737700</td>\n",
       "      <td>0.439907</td>\n",
       "      <td>0.000000</td>\n",
       "      <td>0.000000</td>\n",
       "      <td>1.000000</td>\n",
       "      <td>1.000000</td>\n",
       "      <td>1.000000</td>\n",
       "    </tr>\n",
       "    <tr>\n",
       "      <th>Anxiety</th>\n",
       "      <td>10000.0</td>\n",
       "      <td>0.290600</td>\n",
       "      <td>0.454062</td>\n",
       "      <td>0.000000</td>\n",
       "      <td>0.000000</td>\n",
       "      <td>0.000000</td>\n",
       "      <td>1.000000</td>\n",
       "      <td>1.000000</td>\n",
       "    </tr>\n",
       "    <tr>\n",
       "      <th>Initial_days</th>\n",
       "      <td>10000.0</td>\n",
       "      <td>34.432082</td>\n",
       "      <td>24.860232</td>\n",
       "      <td>1.001981</td>\n",
       "      <td>8.928987</td>\n",
       "      <td>34.432082</td>\n",
       "      <td>59.459981</td>\n",
       "      <td>71.981486</td>\n",
       "    </tr>\n",
       "  </tbody>\n",
       "</table>\n",
       "</div>"
      ],
      "text/plain": [
       "                count          mean           std         min           25%  \\\n",
       "Children      10000.0      1.814000      1.916969    0.000000      1.000000   \n",
       "Age           10000.0     53.224300     17.993820   18.000000     41.000000   \n",
       "Income        10000.0  38872.450471  25042.796229  154.080000  23956.162500   \n",
       "Overweight    10000.0      0.737700      0.439907    0.000000      0.000000   \n",
       "Anxiety       10000.0      0.290600      0.454062    0.000000      0.000000   \n",
       "Initial_days  10000.0     34.432082     24.860232    1.001981      8.928987   \n",
       "\n",
       "                       50%           75%            max  \n",
       "Children          1.000000      3.000000      10.000000  \n",
       "Age              53.000000     65.000000      89.000000  \n",
       "Income        33942.280000  46466.797500  207249.130000  \n",
       "Overweight        1.000000      1.000000       1.000000  \n",
       "Anxiety           0.000000      1.000000       1.000000  \n",
       "Initial_days     34.432082     59.459981      71.981486  "
      ]
     },
     "execution_count": 27,
     "metadata": {},
     "output_type": "execute_result"
    }
   ],
   "source": [
    "# Checking data after imputing null values\n",
    "cat = ['Children', 'Age', 'Income', 'Soft_drink', 'Overweight', 'Anxiety', 'Initial_days']\n",
    "df[cat].describe().T"
   ]
  },
  {
   "cell_type": "markdown",
   "id": "63a4abb9",
   "metadata": {},
   "source": [
    "### D5: Clean Data"
   ]
  },
  {
   "cell_type": "code",
   "execution_count": 28,
   "id": "1cdaa6ea",
   "metadata": {},
   "outputs": [],
   "source": [
    "# Extracting cleaned dataset to CSV file\n",
    "df.to_csv(r'C:/Users/Favio/Documents/Education/WGU/MSDA/D206/PA/Files/medical_raw_data_cleaned.csv')"
   ]
  },
  {
   "cell_type": "markdown",
   "id": "6e1d49e0",
   "metadata": {},
   "source": [
    "### D6: Limitations\n",
    "\n",
    "By using the mean, median, mode for replacing null values, this could alter the distribution of the data which could result in distortion of the data distribution.\n",
    "\n",
    "I did not delete or impute and duplicates or outliers."
   ]
  },
  {
   "cell_type": "markdown",
   "id": "9ba662cb",
   "metadata": {},
   "source": [
    "### D7: Impact of Limitations\n",
    "\n",
    "If a data analyst were to use the resulting cleaned data then they could potentially be using data that has had the distribution altered which would impact the analysis or conclusions.  For example, the alteration could result in grouping of readmissions to change which could affect the results of the research question of whether the number of doctor visits affects the readmission."
   ]
  },
  {
   "cell_type": "markdown",
   "id": "071d30b8",
   "metadata": {},
   "source": [
    "## Part IV: PCA"
   ]
  },
  {
   "cell_type": "markdown",
   "id": "c3c7f2bf",
   "metadata": {},
   "source": [
    "### E1: Principal Components\n",
    "\n",
    "To perform the PCA analysis, I used code from the textbook (Larose, 2019, pp.179-181)."
   ]
  },
  {
   "cell_type": "code",
   "execution_count": 29,
   "id": "a7a11d29",
   "metadata": {},
   "outputs": [],
   "source": [
    "# Importing scikit-learn\n",
    "from sklearn.decomposition import PCA"
   ]
  },
  {
   "cell_type": "code",
   "execution_count": 30,
   "id": "b2e47e05",
   "metadata": {},
   "outputs": [],
   "source": [
    "var_pca = df[['Children', 'Age', 'Income', 'VitD_levels', 'Doc_visits', 'Full_meals_eaten', 'VitD_supp', 'Initial_days', 'TotalCharge', 'Additional_charges']]\n",
    "var_pca_normalized = (var_pca - var_pca.mean())/var_pca.std()"
   ]
  },
  {
   "cell_type": "code",
   "execution_count": 31,
   "id": "5978a983",
   "metadata": {},
   "outputs": [
    {
     "data": {
      "text/html": [
       "<style>#sk-container-id-1 {color: black;}#sk-container-id-1 pre{padding: 0;}#sk-container-id-1 div.sk-toggleable {background-color: white;}#sk-container-id-1 label.sk-toggleable__label {cursor: pointer;display: block;width: 100%;margin-bottom: 0;padding: 0.3em;box-sizing: border-box;text-align: center;}#sk-container-id-1 label.sk-toggleable__label-arrow:before {content: \"▸\";float: left;margin-right: 0.25em;color: #696969;}#sk-container-id-1 label.sk-toggleable__label-arrow:hover:before {color: black;}#sk-container-id-1 div.sk-estimator:hover label.sk-toggleable__label-arrow:before {color: black;}#sk-container-id-1 div.sk-toggleable__content {max-height: 0;max-width: 0;overflow: hidden;text-align: left;background-color: #f0f8ff;}#sk-container-id-1 div.sk-toggleable__content pre {margin: 0.2em;color: black;border-radius: 0.25em;background-color: #f0f8ff;}#sk-container-id-1 input.sk-toggleable__control:checked~div.sk-toggleable__content {max-height: 200px;max-width: 100%;overflow: auto;}#sk-container-id-1 input.sk-toggleable__control:checked~label.sk-toggleable__label-arrow:before {content: \"▾\";}#sk-container-id-1 div.sk-estimator input.sk-toggleable__control:checked~label.sk-toggleable__label {background-color: #d4ebff;}#sk-container-id-1 div.sk-label input.sk-toggleable__control:checked~label.sk-toggleable__label {background-color: #d4ebff;}#sk-container-id-1 input.sk-hidden--visually {border: 0;clip: rect(1px 1px 1px 1px);clip: rect(1px, 1px, 1px, 1px);height: 1px;margin: -1px;overflow: hidden;padding: 0;position: absolute;width: 1px;}#sk-container-id-1 div.sk-estimator {font-family: monospace;background-color: #f0f8ff;border: 1px dotted black;border-radius: 0.25em;box-sizing: border-box;margin-bottom: 0.5em;}#sk-container-id-1 div.sk-estimator:hover {background-color: #d4ebff;}#sk-container-id-1 div.sk-parallel-item::after {content: \"\";width: 100%;border-bottom: 1px solid gray;flex-grow: 1;}#sk-container-id-1 div.sk-label:hover label.sk-toggleable__label {background-color: #d4ebff;}#sk-container-id-1 div.sk-serial::before {content: \"\";position: absolute;border-left: 1px solid gray;box-sizing: border-box;top: 0;bottom: 0;left: 50%;z-index: 0;}#sk-container-id-1 div.sk-serial {display: flex;flex-direction: column;align-items: center;background-color: white;padding-right: 0.2em;padding-left: 0.2em;position: relative;}#sk-container-id-1 div.sk-item {position: relative;z-index: 1;}#sk-container-id-1 div.sk-parallel {display: flex;align-items: stretch;justify-content: center;background-color: white;position: relative;}#sk-container-id-1 div.sk-item::before, #sk-container-id-1 div.sk-parallel-item::before {content: \"\";position: absolute;border-left: 1px solid gray;box-sizing: border-box;top: 0;bottom: 0;left: 50%;z-index: -1;}#sk-container-id-1 div.sk-parallel-item {display: flex;flex-direction: column;z-index: 1;position: relative;background-color: white;}#sk-container-id-1 div.sk-parallel-item:first-child::after {align-self: flex-end;width: 50%;}#sk-container-id-1 div.sk-parallel-item:last-child::after {align-self: flex-start;width: 50%;}#sk-container-id-1 div.sk-parallel-item:only-child::after {width: 0;}#sk-container-id-1 div.sk-dashed-wrapped {border: 1px dashed gray;margin: 0 0.4em 0.5em 0.4em;box-sizing: border-box;padding-bottom: 0.4em;background-color: white;}#sk-container-id-1 div.sk-label label {font-family: monospace;font-weight: bold;display: inline-block;line-height: 1.2em;}#sk-container-id-1 div.sk-label-container {text-align: center;}#sk-container-id-1 div.sk-container {/* jupyter's `normalize.less` sets `[hidden] { display: none; }` but bootstrap.min.css set `[hidden] { display: none !important; }` so we also need the `!important` here to be able to override the default hidden behavior on the sphinx rendered scikit-learn.org. See: https://github.com/scikit-learn/scikit-learn/issues/21755 */display: inline-block !important;position: relative;}#sk-container-id-1 div.sk-text-repr-fallback {display: none;}</style><div id=\"sk-container-id-1\" class=\"sk-top-container\"><div class=\"sk-text-repr-fallback\"><pre>PCA(n_components=10)</pre><b>In a Jupyter environment, please rerun this cell to show the HTML representation or trust the notebook. <br />On GitHub, the HTML representation is unable to render, please try loading this page with nbviewer.org.</b></div><div class=\"sk-container\" hidden><div class=\"sk-item\"><div class=\"sk-estimator sk-toggleable\"><input class=\"sk-toggleable__control sk-hidden--visually\" id=\"sk-estimator-id-1\" type=\"checkbox\" checked><label for=\"sk-estimator-id-1\" class=\"sk-toggleable__label sk-toggleable__label-arrow\">PCA</label><div class=\"sk-toggleable__content\"><pre>PCA(n_components=10)</pre></div></div></div></div></div>"
      ],
      "text/plain": [
       "PCA(n_components=10)"
      ]
     },
     "execution_count": 31,
     "metadata": {},
     "output_type": "execute_result"
    }
   ],
   "source": [
    "pca = PCA(n_components = var_pca.shape[1])\n",
    "pca.fit(var_pca_normalized)"
   ]
  },
  {
   "cell_type": "code",
   "execution_count": 32,
   "id": "901c342a",
   "metadata": {},
   "outputs": [],
   "source": [
    "var_pca2 = pd.DataFrame(pca.transform(var_pca_normalized), columns = ['PC1', 'PC2', 'PC3', 'PC4', 'PC5', 'PC6', 'PC7', 'PC8', 'PC9', 'PC10'])"
   ]
  },
  {
   "cell_type": "code",
   "execution_count": 33,
   "id": "b1412473",
   "metadata": {},
   "outputs": [
    {
     "data": {
      "text/html": [
       "<div>\n",
       "<style scoped>\n",
       "    .dataframe tbody tr th:only-of-type {\n",
       "        vertical-align: middle;\n",
       "    }\n",
       "\n",
       "    .dataframe tbody tr th {\n",
       "        vertical-align: top;\n",
       "    }\n",
       "\n",
       "    .dataframe thead th {\n",
       "        text-align: right;\n",
       "    }\n",
       "</style>\n",
       "<table border=\"1\" class=\"dataframe\">\n",
       "  <thead>\n",
       "    <tr style=\"text-align: right;\">\n",
       "      <th></th>\n",
       "      <th>PC1</th>\n",
       "      <th>PC2</th>\n",
       "      <th>PC3</th>\n",
       "      <th>PC4</th>\n",
       "      <th>PC5</th>\n",
       "      <th>PC6</th>\n",
       "      <th>PC7</th>\n",
       "      <th>PC8</th>\n",
       "      <th>PC9</th>\n",
       "      <th>PC10</th>\n",
       "    </tr>\n",
       "  </thead>\n",
       "  <tbody>\n",
       "    <tr>\n",
       "      <th>Children</th>\n",
       "      <td>0.004161</td>\n",
       "      <td>0.011653</td>\n",
       "      <td>-0.140700</td>\n",
       "      <td>-0.053314</td>\n",
       "      <td>0.888748</td>\n",
       "      <td>-0.176011</td>\n",
       "      <td>-0.386726</td>\n",
       "      <td>0.081893</td>\n",
       "      <td>-0.009249</td>\n",
       "      <td>-0.002507</td>\n",
       "    </tr>\n",
       "    <tr>\n",
       "      <th>Age</th>\n",
       "      <td>0.083659</td>\n",
       "      <td>0.701029</td>\n",
       "      <td>-0.018053</td>\n",
       "      <td>-0.024308</td>\n",
       "      <td>-0.014232</td>\n",
       "      <td>-0.009142</td>\n",
       "      <td>0.015073</td>\n",
       "      <td>-0.025170</td>\n",
       "      <td>-0.706561</td>\n",
       "      <td>-0.016344</td>\n",
       "    </tr>\n",
       "    <tr>\n",
       "      <th>Income</th>\n",
       "      <td>-0.006810</td>\n",
       "      <td>-0.005130</td>\n",
       "      <td>-0.210452</td>\n",
       "      <td>0.623599</td>\n",
       "      <td>0.301187</td>\n",
       "      <td>0.301507</td>\n",
       "      <td>0.456470</td>\n",
       "      <td>-0.420384</td>\n",
       "      <td>-0.007202</td>\n",
       "      <td>-0.001113</td>\n",
       "    </tr>\n",
       "    <tr>\n",
       "      <th>VitD_levels</th>\n",
       "      <td>0.540622</td>\n",
       "      <td>-0.054029</td>\n",
       "      <td>0.337776</td>\n",
       "      <td>0.259324</td>\n",
       "      <td>-0.064129</td>\n",
       "      <td>0.149692</td>\n",
       "      <td>-0.410642</td>\n",
       "      <td>-0.178038</td>\n",
       "      <td>-0.022797</td>\n",
       "      <td>0.544154</td>\n",
       "    </tr>\n",
       "    <tr>\n",
       "      <th>Doc_visits</th>\n",
       "      <td>-0.005532</td>\n",
       "      <td>0.013320</td>\n",
       "      <td>-0.115823</td>\n",
       "      <td>0.626569</td>\n",
       "      <td>-0.171964</td>\n",
       "      <td>-0.683260</td>\n",
       "      <td>-0.063284</td>\n",
       "      <td>0.305501</td>\n",
       "      <td>-0.005960</td>\n",
       "      <td>-0.000244</td>\n",
       "    </tr>\n",
       "    <tr>\n",
       "      <th>Full_meals_eaten</th>\n",
       "      <td>-0.008645</td>\n",
       "      <td>0.035522</td>\n",
       "      <td>0.593182</td>\n",
       "      <td>0.151575</td>\n",
       "      <td>0.237558</td>\n",
       "      <td>0.230523</td>\n",
       "      <td>0.339286</td>\n",
       "      <td>0.631702</td>\n",
       "      <td>-0.009151</td>\n",
       "      <td>-0.001409</td>\n",
       "    </tr>\n",
       "    <tr>\n",
       "      <th>VitD_supp</th>\n",
       "      <td>0.033754</td>\n",
       "      <td>0.010998</td>\n",
       "      <td>-0.557296</td>\n",
       "      <td>0.176512</td>\n",
       "      <td>-0.146986</td>\n",
       "      <td>0.544206</td>\n",
       "      <td>-0.300591</td>\n",
       "      <td>0.498854</td>\n",
       "      <td>-0.005154</td>\n",
       "      <td>-0.001496</td>\n",
       "    </tr>\n",
       "    <tr>\n",
       "      <th>Initial_days</th>\n",
       "      <td>0.446241</td>\n",
       "      <td>-0.073694</td>\n",
       "      <td>-0.381016</td>\n",
       "      <td>-0.306092</td>\n",
       "      <td>0.086502</td>\n",
       "      <td>-0.198260</td>\n",
       "      <td>0.513373</td>\n",
       "      <td>0.206486</td>\n",
       "      <td>-0.006032</td>\n",
       "      <td>0.451174</td>\n",
       "    </tr>\n",
       "    <tr>\n",
       "      <th>TotalCharge</th>\n",
       "      <td>0.702280</td>\n",
       "      <td>-0.079334</td>\n",
       "      <td>0.017672</td>\n",
       "      <td>0.002976</td>\n",
       "      <td>0.002431</td>\n",
       "      <td>-0.012461</td>\n",
       "      <td>0.012105</td>\n",
       "      <td>-0.007379</td>\n",
       "      <td>0.020865</td>\n",
       "      <td>-0.706676</td>\n",
       "    </tr>\n",
       "    <tr>\n",
       "      <th>Additional_charges</th>\n",
       "      <td>0.084223</td>\n",
       "      <td>0.701564</td>\n",
       "      <td>-0.012273</td>\n",
       "      <td>-0.004447</td>\n",
       "      <td>-0.000376</td>\n",
       "      <td>-0.003674</td>\n",
       "      <td>0.007105</td>\n",
       "      <td>-0.017745</td>\n",
       "      <td>0.706751</td>\n",
       "      <td>0.025851</td>\n",
       "    </tr>\n",
       "  </tbody>\n",
       "</table>\n",
       "</div>"
      ],
      "text/plain": [
       "                         PC1       PC2       PC3       PC4       PC5  \\\n",
       "Children            0.004161  0.011653 -0.140700 -0.053314  0.888748   \n",
       "Age                 0.083659  0.701029 -0.018053 -0.024308 -0.014232   \n",
       "Income             -0.006810 -0.005130 -0.210452  0.623599  0.301187   \n",
       "VitD_levels         0.540622 -0.054029  0.337776  0.259324 -0.064129   \n",
       "Doc_visits         -0.005532  0.013320 -0.115823  0.626569 -0.171964   \n",
       "Full_meals_eaten   -0.008645  0.035522  0.593182  0.151575  0.237558   \n",
       "VitD_supp           0.033754  0.010998 -0.557296  0.176512 -0.146986   \n",
       "Initial_days        0.446241 -0.073694 -0.381016 -0.306092  0.086502   \n",
       "TotalCharge         0.702280 -0.079334  0.017672  0.002976  0.002431   \n",
       "Additional_charges  0.084223  0.701564 -0.012273 -0.004447 -0.000376   \n",
       "\n",
       "                         PC6       PC7       PC8       PC9      PC10  \n",
       "Children           -0.176011 -0.386726  0.081893 -0.009249 -0.002507  \n",
       "Age                -0.009142  0.015073 -0.025170 -0.706561 -0.016344  \n",
       "Income              0.301507  0.456470 -0.420384 -0.007202 -0.001113  \n",
       "VitD_levels         0.149692 -0.410642 -0.178038 -0.022797  0.544154  \n",
       "Doc_visits         -0.683260 -0.063284  0.305501 -0.005960 -0.000244  \n",
       "Full_meals_eaten    0.230523  0.339286  0.631702 -0.009151 -0.001409  \n",
       "VitD_supp           0.544206 -0.300591  0.498854 -0.005154 -0.001496  \n",
       "Initial_days       -0.198260  0.513373  0.206486 -0.006032  0.451174  \n",
       "TotalCharge        -0.012461  0.012105 -0.007379  0.020865 -0.706676  \n",
       "Additional_charges -0.003674  0.007105 -0.017745  0.706751  0.025851  "
      ]
     },
     "execution_count": 33,
     "metadata": {},
     "output_type": "execute_result"
    }
   ],
   "source": [
    "loadings = pd.DataFrame(pca.components_.T, columns = ['PC1', 'PC2', 'PC3', 'PC4', 'PC5', 'PC6', 'PC7', 'PC8', 'PC9', 'PC10'], index = var_pca_normalized.columns)\n",
    "loadings"
   ]
  },
  {
   "cell_type": "markdown",
   "id": "2a4d90f2",
   "metadata": {},
   "source": [
    "### E2: Criteria Used\n",
    "\n",
    "Based on the Kaiser Rule and the use of scree plots, PC1, PC2, PC3 and PC4 should be kept since they have an eigenvalue greater or equal to 1 (Middleton, 2022)."
   ]
  },
  {
   "cell_type": "code",
   "execution_count": 34,
   "id": "29327f17",
   "metadata": {},
   "outputs": [],
   "source": [
    "cov_matrix = np.dot(var_pca_normalized.T, var_pca_normalized) / var_pca.shape[0]\n",
    "eigenvalues = [np.dot(eigenvector.T,  np.dot(cov_matrix, eigenvector)) for eigenvector in pca.components_]"
   ]
  },
  {
   "cell_type": "code",
   "execution_count": 36,
   "id": "9ad7e237",
   "metadata": {},
   "outputs": [
    {
     "data": {
      "text/plain": [
       "10000"
      ]
     },
     "execution_count": 36,
     "metadata": {},
     "output_type": "execute_result"
    }
   ],
   "source": [
    "var_pca.shape[0]"
   ]
  },
  {
   "cell_type": "code",
   "execution_count": 35,
   "id": "286798aa",
   "metadata": {},
   "outputs": [
    {
     "data": {
      "image/png": "[encoded data removed]",
      "text/plain": [
       "<Figure size 640x480 with 1 Axes>"
      ]
     },
     "metadata": {},
     "output_type": "display_data"
    }
   ],
   "source": [
    "plt.plot(eigenvalues)\n",
    "plt.xlabel('number of components')\n",
    "plt.ylabel('eigenvalues')\n",
    "plt.axhline(y = 1, color = 'red')\n",
    "plt.show()"
   ]
  },
  {
   "cell_type": "markdown",
   "id": "678e835f",
   "metadata": {},
   "source": [
    "### E3: Benefits\n",
    "\n",
    "Organizations can  benefit  from the results of using PCA to by reducing the variables that are being analyzed through grouping components into principal components for a more efficient analysis.  If the analyst can reduce the number of variables  being assessed, then the analyst time could be shortened."
   ]
  },
  {
   "cell_type": "markdown",
   "id": "2a927b5c",
   "metadata": {},
   "source": [
    "### F: Provide a Panopto Recording\n",
    "\n",
    "https://wgu.hosted.panopto.com/Panopto/Pages/Viewer.aspx?id=67054405-3728-4299-be29-b03c0177efd9"
   ]
  },
  {
   "cell_type": "markdown",
   "id": "1d0303c6",
   "metadata": {},
   "source": [
    "### G: Third-Party Code References\n",
    "\n",
    "Larose, C. D., & Larose, D. T. (2019). <i>Data Science Using Python and R. Wiley Blackwell<i>.\n",
    "    \n",
    "Middleton, Dr. Keiona (2022). <i>D206 - Webinar 2: Getting Started with Missing Data and Outliers - October (2022)<i> [Webinar].\n",
    "    </br>&emsp;&emsp;Western Governors University. https://wgu.hosted.panopto.com/Panopto/Pages/Viewer.aspx?id=d3af9533-0b7f-4d42-9db2-af48002f4799\n",
    "\n",
    "Middleton, Dr. Keiona (2022). <i>D206 - Webinar 4: Getting Started with PCA - November (2022)<i> [Webinar].\n",
    "    </br>&emsp;&emsp;Western Governors University. https://wgu.hosted.panopto.com/Panopto/Pages/Viewer.aspx?id=7b31791b-24e8-4077-ba1a-af5d0005144c"
   ]
  },
  {
   "cell_type": "markdown",
   "id": "e692a5d9",
   "metadata": {},
   "source": [
    "### H: References\n",
    "\n",
    "Larose, C. D., & Larose, D. T. (2019). <i>Data Science Using Python and R. Wiley Blackwell<i>. "
   ]
  }
 ],
 "metadata": {
  "kernelspec": {
   "display_name": "Python 3 (ipykernel)",
   "language": "python",
   "name": "python3"
  },
  "language_info": {
   "codemirror_mode": {
    "name": "ipython",
    "version": 3
   },
   "file_extension": ".py",
   "mimetype": "text/x-python",
   "name": "python",
   "nbconvert_exporter": "python",
   "pygments_lexer": "ipython3",
   "version": "3.10.11"
  }
 },
 "nbformat": 4,
 "nbformat_minor": 5
}
