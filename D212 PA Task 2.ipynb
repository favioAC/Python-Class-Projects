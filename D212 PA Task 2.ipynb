{
 "cells": [
  {
   "cell_type": "markdown",
   "id": "cd169e96",
   "metadata": {},
   "source": [
    "# D212 - Data Mining II Performance Assessment Task 2\n",
    "\n",
    "Assignment Completed by Favio Conde and Submitted August 14, 2023 for WGU - MSDA\n",
    "</br>"
   ]
  },
  {
   "cell_type": "markdown",
   "id": "28e0cc8f",
   "metadata": {},
   "source": [
    "### Table of Contents\n",
    "\n",
    "#### Part I: Research Question\n",
    "<ul>\n",
    "    <li><a href='#a1'>A1: Proposal of Question</a></li>\n",
    "    <li><a href='#a2'>A2: Defined Goal</a></li>\n",
    "</ul>\n",
    " \n",
    "#### Part II: Method Justification\n",
    "<ul>\n",
    "    <li><a href='#b1'>B1. Explanation of PCA</a></li>\n",
    "    <li><a href='#b2'>B2. PCA Assumption</a></li>\n",
    "</ul> \n",
    "\n",
    "#### Part III: Data Preparation\n",
    "<ul>\n",
    "    <li><a href='#c1'>C1: Continuous Dataset Variables</a></li>\n",
    "    <li><a href='#c2'>C2: Standardization of Dataset Variables</a></li>\n",
    "</ul>\n",
    "\n",
    "#### Part IV: Analysis\n",
    "<ul>\n",
    "    <li><a href='#d1'>D1: Principal Components</a></li>\n",
    "    <li><a href='#d2'>D2: Identification of Total Number of Components</a></li>\n",
    "    <li><a href='#d3'>D3: Total Variance of Components</a></li>\n",
    "    <li><a href='#d4'>D4: Total Variance Captured by Components</a></li>\n",
    "    <li><a href='#d5'>D5: Summary of Data Analysis</a></li>\n",
    "</ul>\n",
    "\n",
    "#### Part V: Attachments\n",
    "<ul>\n",
    "    <li><a href='#e'>E. Third-Party Code Reference</a></li>\n",
    "    <li><a href='#f'>F. Sources</a></li>\n",
    "</ul>"
   ]
  },
  {
   "cell_type": "markdown",
   "id": "d91da6b9",
   "metadata": {},
   "source": [
    "### PART I: RESEARCH QUESTION"
   ]
  },
  {
   "cell_type": "markdown",
   "id": "a85ac60a",
   "metadata": {},
   "source": [
    "#### A1. Proposal of Question<a id='a1'></a>\n",
    "\n",
    "Using the continous variables in the dataset, can PCA be used to reduce the variables in the dataset?"
   ]
  },
  {
   "cell_type": "markdown",
   "id": "f912b305",
   "metadata": {},
   "source": [
    "#### A2. Defined Goal<a id='a2'></a>\n",
    "\n",
    "In my analysis, I aim to determine if I can reduce the number of continuous variables to a much smaller number that the hospital can use to analyze and interpret the data more easily."
   ]
  },
  {
   "cell_type": "markdown",
   "id": "fc1ef4a3",
   "metadata": {},
   "source": [
    "### PART II: METHOD JUSTIFICATION"
   ]
  },
  {
   "cell_type": "markdown",
   "id": "2a927b5c",
   "metadata": {},
   "source": [
    "#### B1. Explanation of PCA<a id='b1'></a>\n",
    "\n",
    "Data analysts use Principal Component Analysis to analyze data with many variables.  The process aims to project a dataset with many variables into fewer variables by combining features with high linearity.  PCA uses continuous variables for the analysis.  Collapsing similar variables into fewer variables makes analyzing and visualizing the data easier (Data Camp, 2023).\n",
    "\n",
    "The first step is to select continuous variables and standardize the data so that each point equally contributes to the variance.  Next, a covariance matrix is created from the standardized data, and eigenvalues are calculated.\n",
    "\n",
    "A scree plot is created using the eigenvalues, and based on the Kaiser rule, principal components with an eigenvalue greater than 1 are kept.\n",
    "\n",
    "I expect the PCA process to reduce the number of variables that should be used for analyzing the dataset."
   ]
  },
  {
   "cell_type": "markdown",
   "id": "33a74d5b",
   "metadata": {},
   "source": [
    "#### B2. PCA Assumption<a id='b2'></a>\n",
    "\n",
    "The PCA model assumes that there is a linear relationship between the variables."
   ]
  },
  {
   "cell_type": "markdown",
   "id": "0d583a57",
   "metadata": {},
   "source": [
    "### PART III: DATA PREPARATION"
   ]
  },
  {
   "cell_type": "markdown",
   "id": "112157e7",
   "metadata": {},
   "source": [
    "#### C1. Continuous Dataset Variables<a id='c1'></a>\n",
    "\n",
    "To perform the PCA analysis, I will be using the following continuous vairales:\n",
    "\n",
    "<ul>\n",
    "    <li>Population</li>\n",
    "    <li>Children</li>\n",
    "    <li>Age</li>\n",
    "    <li>Income</li>\n",
    "    <li>VitD_levels</li>\n",
    "    <li>Doc_visits</li>\n",
    "    <li>Full_meals_eaten</li>\n",
    "    <li>vitD_supp</li>\n",
    "    <li>Initial_days</li>\n",
    "    <li>TotalCharge</li>\n",
    "    <li>Additional_charges</li>\n",
    "</ul>\n",
    "\n",
    "The list contains the remaining continuous variables after removing categorical 'numeric' variables like `CaseOrder`, `Zip`, `Lat`, and `Lng` and the survery questions `Item1` through `Item8`."
   ]
  },
  {
   "cell_type": "code",
   "execution_count": 1,
   "id": "7be8aac1",
   "metadata": {},
   "outputs": [],
   "source": [
    "#importing libraries and packages\n",
    "import numpy as np\n",
    "import pandas as pd\n",
    "import matplotlib.pyplot as plt\n",
    "import seaborn as sns\n",
    "from sklearn.preprocessing import StandardScaler\n",
    "from sklearn.decomposition import PCA"
   ]
  },
  {
   "cell_type": "code",
   "execution_count": 2,
   "id": "5fb345a0",
   "metadata": {},
   "outputs": [],
   "source": [
    "#importing CSV file\n",
    "df = pd.read_csv('Files/medical_clean.csv')"
   ]
  },
  {
   "cell_type": "code",
   "execution_count": 3,
   "id": "eae94d90",
   "metadata": {},
   "outputs": [
    {
     "name": "stdout",
     "output_type": "stream",
     "text": [
      "The dataset has 10000 rows and 50 columns\n"
     ]
    }
   ],
   "source": [
    "#checking number of rows and columns in df\n",
    "df.shape\n",
    "print(f'The dataset has {df.shape[0]} rows and {df.shape[1]} columns')"
   ]
  },
  {
   "cell_type": "code",
   "execution_count": 4,
   "id": "5e9f91ee",
   "metadata": {},
   "outputs": [
    {
     "name": "stdout",
     "output_type": "stream",
     "text": [
      "<class 'pandas.core.frame.DataFrame'>\n",
      "RangeIndex: 10000 entries, 0 to 9999\n",
      "Data columns (total 50 columns):\n",
      " #   Column              Non-Null Count  Dtype  \n",
      "---  ------              --------------  -----  \n",
      " 0   CaseOrder           10000 non-null  int64  \n",
      " 1   Customer_id         10000 non-null  object \n",
      " 2   Interaction         10000 non-null  object \n",
      " 3   UID                 10000 non-null  object \n",
      " 4   City                10000 non-null  object \n",
      " 5   State               10000 non-null  object \n",
      " 6   County              10000 non-null  object \n",
      " 7   Zip                 10000 non-null  int64  \n",
      " 8   Lat                 10000 non-null  float64\n",
      " 9   Lng                 10000 non-null  float64\n",
      " 10  Population          10000 non-null  int64  \n",
      " 11  Area                10000 non-null  object \n",
      " 12  TimeZone            10000 non-null  object \n",
      " 13  Job                 10000 non-null  object \n",
      " 14  Children            10000 non-null  int64  \n",
      " 15  Age                 10000 non-null  int64  \n",
      " 16  Income              10000 non-null  float64\n",
      " 17  Marital             10000 non-null  object \n",
      " 18  Gender              10000 non-null  object \n",
      " 19  ReAdmis             10000 non-null  object \n",
      " 20  VitD_levels         10000 non-null  float64\n",
      " 21  Doc_visits          10000 non-null  int64  \n",
      " 22  Full_meals_eaten    10000 non-null  int64  \n",
      " 23  vitD_supp           10000 non-null  int64  \n",
      " 24  Soft_drink          10000 non-null  object \n",
      " 25  Initial_admin       10000 non-null  object \n",
      " 26  HighBlood           10000 non-null  object \n",
      " 27  Stroke              10000 non-null  object \n",
      " 28  Complication_risk   10000 non-null  object \n",
      " 29  Overweight          10000 non-null  object \n",
      " 30  Arthritis           10000 non-null  object \n",
      " 31  Diabetes            10000 non-null  object \n",
      " 32  Hyperlipidemia      10000 non-null  object \n",
      " 33  BackPain            10000 non-null  object \n",
      " 34  Anxiety             10000 non-null  object \n",
      " 35  Allergic_rhinitis   10000 non-null  object \n",
      " 36  Reflux_esophagitis  10000 non-null  object \n",
      " 37  Asthma              10000 non-null  object \n",
      " 38  Services            10000 non-null  object \n",
      " 39  Initial_days        10000 non-null  float64\n",
      " 40  TotalCharge         10000 non-null  float64\n",
      " 41  Additional_charges  10000 non-null  float64\n",
      " 42  Item1               10000 non-null  int64  \n",
      " 43  Item2               10000 non-null  int64  \n",
      " 44  Item3               10000 non-null  int64  \n",
      " 45  Item4               10000 non-null  int64  \n",
      " 46  Item5               10000 non-null  int64  \n",
      " 47  Item6               10000 non-null  int64  \n",
      " 48  Item7               10000 non-null  int64  \n",
      " 49  Item8               10000 non-null  int64  \n",
      "dtypes: float64(7), int64(16), object(27)\n",
      "memory usage: 3.8+ MB\n"
     ]
    }
   ],
   "source": [
    "#checking for null values and data types\n",
    "df.info()"
   ]
  },
  {
   "cell_type": "code",
   "execution_count": 5,
   "id": "f366b88d",
   "metadata": {},
   "outputs": [
    {
     "data": {
      "text/plain": [
       "False    10000\n",
       "dtype: int64"
      ]
     },
     "execution_count": 5,
     "metadata": {},
     "output_type": "execute_result"
    }
   ],
   "source": [
    "#checking for duplicates\n",
    "df.duplicated().value_counts()"
   ]
  },
  {
   "cell_type": "code",
   "execution_count": 6,
   "id": "05dbea99",
   "metadata": {},
   "outputs": [],
   "source": [
    "#dropping all object data type columns\n",
    "df.drop(df[df.select_dtypes('object').columns], axis=1, inplace=True)\n",
    "\n",
    "#creating list of columns to drop\n",
    "drop = ['CaseOrder', 'Zip', 'Lat', 'Lng', 'Item1', 'Item2', 'Item3', 'Item4', 'Item5', 'Item6', 'Item7', 'Item8']\n",
    "\n",
    "#dropping columns in drop list\n",
    "df.drop(df[drop], axis=1, inplace=True)"
   ]
  },
  {
   "cell_type": "code",
   "execution_count": 7,
   "id": "a6c6e203",
   "metadata": {
    "scrolled": true
   },
   "outputs": [
    {
     "data": {
      "text/html": [
       "<div>\n",
       "<style scoped>\n",
       "    .dataframe tbody tr th:only-of-type {\n",
       "        vertical-align: middle;\n",
       "    }\n",
       "\n",
       "    .dataframe tbody tr th {\n",
       "        vertical-align: top;\n",
       "    }\n",
       "\n",
       "    .dataframe thead th {\n",
       "        text-align: right;\n",
       "    }\n",
       "</style>\n",
       "<table border=\"1\" class=\"dataframe\">\n",
       "  <thead>\n",
       "    <tr style=\"text-align: right;\">\n",
       "      <th></th>\n",
       "      <th>count</th>\n",
       "      <th>mean</th>\n",
       "      <th>std</th>\n",
       "      <th>min</th>\n",
       "      <th>25%</th>\n",
       "      <th>50%</th>\n",
       "      <th>75%</th>\n",
       "      <th>max</th>\n",
       "    </tr>\n",
       "  </thead>\n",
       "  <tbody>\n",
       "    <tr>\n",
       "      <th>Population</th>\n",
       "      <td>10000.0</td>\n",
       "      <td>9965.253800</td>\n",
       "      <td>14824.758614</td>\n",
       "      <td>0.000000</td>\n",
       "      <td>694.750000</td>\n",
       "      <td>2769.000000</td>\n",
       "      <td>13945.000000</td>\n",
       "      <td>122814.000000</td>\n",
       "    </tr>\n",
       "    <tr>\n",
       "      <th>Children</th>\n",
       "      <td>10000.0</td>\n",
       "      <td>2.097200</td>\n",
       "      <td>2.163659</td>\n",
       "      <td>0.000000</td>\n",
       "      <td>0.000000</td>\n",
       "      <td>1.000000</td>\n",
       "      <td>3.000000</td>\n",
       "      <td>10.000000</td>\n",
       "    </tr>\n",
       "    <tr>\n",
       "      <th>Age</th>\n",
       "      <td>10000.0</td>\n",
       "      <td>53.511700</td>\n",
       "      <td>20.638538</td>\n",
       "      <td>18.000000</td>\n",
       "      <td>36.000000</td>\n",
       "      <td>53.000000</td>\n",
       "      <td>71.000000</td>\n",
       "      <td>89.000000</td>\n",
       "    </tr>\n",
       "    <tr>\n",
       "      <th>Income</th>\n",
       "      <td>10000.0</td>\n",
       "      <td>40490.495160</td>\n",
       "      <td>28521.153293</td>\n",
       "      <td>154.080000</td>\n",
       "      <td>19598.775000</td>\n",
       "      <td>33768.420000</td>\n",
       "      <td>54296.402500</td>\n",
       "      <td>207249.100000</td>\n",
       "    </tr>\n",
       "    <tr>\n",
       "      <th>VitD_levels</th>\n",
       "      <td>10000.0</td>\n",
       "      <td>17.964262</td>\n",
       "      <td>2.017231</td>\n",
       "      <td>9.806483</td>\n",
       "      <td>16.626439</td>\n",
       "      <td>17.951122</td>\n",
       "      <td>19.347963</td>\n",
       "      <td>26.394449</td>\n",
       "    </tr>\n",
       "    <tr>\n",
       "      <th>Doc_visits</th>\n",
       "      <td>10000.0</td>\n",
       "      <td>5.012200</td>\n",
       "      <td>1.045734</td>\n",
       "      <td>1.000000</td>\n",
       "      <td>4.000000</td>\n",
       "      <td>5.000000</td>\n",
       "      <td>6.000000</td>\n",
       "      <td>9.000000</td>\n",
       "    </tr>\n",
       "    <tr>\n",
       "      <th>Full_meals_eaten</th>\n",
       "      <td>10000.0</td>\n",
       "      <td>1.001400</td>\n",
       "      <td>1.008117</td>\n",
       "      <td>0.000000</td>\n",
       "      <td>0.000000</td>\n",
       "      <td>1.000000</td>\n",
       "      <td>2.000000</td>\n",
       "      <td>7.000000</td>\n",
       "    </tr>\n",
       "    <tr>\n",
       "      <th>vitD_supp</th>\n",
       "      <td>10000.0</td>\n",
       "      <td>0.398900</td>\n",
       "      <td>0.628505</td>\n",
       "      <td>0.000000</td>\n",
       "      <td>0.000000</td>\n",
       "      <td>0.000000</td>\n",
       "      <td>1.000000</td>\n",
       "      <td>5.000000</td>\n",
       "    </tr>\n",
       "    <tr>\n",
       "      <th>Initial_days</th>\n",
       "      <td>10000.0</td>\n",
       "      <td>34.455299</td>\n",
       "      <td>26.309341</td>\n",
       "      <td>1.001981</td>\n",
       "      <td>7.896215</td>\n",
       "      <td>35.836244</td>\n",
       "      <td>61.161020</td>\n",
       "      <td>71.981490</td>\n",
       "    </tr>\n",
       "    <tr>\n",
       "      <th>TotalCharge</th>\n",
       "      <td>10000.0</td>\n",
       "      <td>5312.172769</td>\n",
       "      <td>2180.393838</td>\n",
       "      <td>1938.312067</td>\n",
       "      <td>3179.374015</td>\n",
       "      <td>5213.952000</td>\n",
       "      <td>7459.699750</td>\n",
       "      <td>9180.728000</td>\n",
       "    </tr>\n",
       "    <tr>\n",
       "      <th>Additional_charges</th>\n",
       "      <td>10000.0</td>\n",
       "      <td>12934.528587</td>\n",
       "      <td>6542.601544</td>\n",
       "      <td>3125.703000</td>\n",
       "      <td>7986.487755</td>\n",
       "      <td>11573.977735</td>\n",
       "      <td>15626.490000</td>\n",
       "      <td>30566.070000</td>\n",
       "    </tr>\n",
       "  </tbody>\n",
       "</table>\n",
       "</div>"
      ],
      "text/plain": [
       "                      count          mean           std          min  \\\n",
       "Population          10000.0   9965.253800  14824.758614     0.000000   \n",
       "Children            10000.0      2.097200      2.163659     0.000000   \n",
       "Age                 10000.0     53.511700     20.638538    18.000000   \n",
       "Income              10000.0  40490.495160  28521.153293   154.080000   \n",
       "VitD_levels         10000.0     17.964262      2.017231     9.806483   \n",
       "Doc_visits          10000.0      5.012200      1.045734     1.000000   \n",
       "Full_meals_eaten    10000.0      1.001400      1.008117     0.000000   \n",
       "vitD_supp           10000.0      0.398900      0.628505     0.000000   \n",
       "Initial_days        10000.0     34.455299     26.309341     1.001981   \n",
       "TotalCharge         10000.0   5312.172769   2180.393838  1938.312067   \n",
       "Additional_charges  10000.0  12934.528587   6542.601544  3125.703000   \n",
       "\n",
       "                             25%           50%           75%            max  \n",
       "Population            694.750000   2769.000000  13945.000000  122814.000000  \n",
       "Children                0.000000      1.000000      3.000000      10.000000  \n",
       "Age                    36.000000     53.000000     71.000000      89.000000  \n",
       "Income              19598.775000  33768.420000  54296.402500  207249.100000  \n",
       "VitD_levels            16.626439     17.951122     19.347963      26.394449  \n",
       "Doc_visits              4.000000      5.000000      6.000000       9.000000  \n",
       "Full_meals_eaten        0.000000      1.000000      2.000000       7.000000  \n",
       "vitD_supp               0.000000      0.000000      1.000000       5.000000  \n",
       "Initial_days            7.896215     35.836244     61.161020      71.981490  \n",
       "TotalCharge          3179.374015   5213.952000   7459.699750    9180.728000  \n",
       "Additional_charges   7986.487755  11573.977735  15626.490000   30566.070000  "
      ]
     },
     "execution_count": 7,
     "metadata": {},
     "output_type": "execute_result"
    }
   ],
   "source": [
    "#checking statistical information\n",
    "df.describe().T"
   ]
  },
  {
   "cell_type": "markdown",
   "id": "c2278daf",
   "metadata": {},
   "source": [
    "#### C2. Standardization of Dataset Variables<a id='c2'></a>\n",
    "\n",
    "I standardized the data by using the `StandardScaler()` package from `Sklearn` and I exported the updated dataframe into a CSV file."
   ]
  },
  {
   "cell_type": "code",
   "execution_count": 8,
   "id": "416d4318",
   "metadata": {},
   "outputs": [],
   "source": [
    "#standardizing dataset\n",
    "X = df\n",
    "scaled_df = pd.DataFrame(StandardScaler().fit_transform(X), columns=df.columns)"
   ]
  },
  {
   "cell_type": "code",
   "execution_count": 9,
   "id": "3b9457aa",
   "metadata": {},
   "outputs": [],
   "source": [
    "#saving standardized data to CSV\n",
    "scaled_df.to_csv(r'Files/Task 2/medical_standardized.csv', index=False)"
   ]
  },
  {
   "cell_type": "markdown",
   "id": "8e73061e",
   "metadata": {},
   "source": [
    "### PART IV: ANALYSIS"
   ]
  },
  {
   "cell_type": "markdown",
   "id": "6de75905",
   "metadata": {},
   "source": [
    "#### D1. Principal Components<a id='d1'></a>"
   ]
  },
  {
   "cell_type": "code",
   "execution_count": 10,
   "id": "bcda6ceb",
   "metadata": {},
   "outputs": [
    {
     "data": {
      "text/html": [
       "<style>#sk-container-id-1 {color: black;}#sk-container-id-1 pre{padding: 0;}#sk-container-id-1 div.sk-toggleable {background-color: white;}#sk-container-id-1 label.sk-toggleable__label {cursor: pointer;display: block;width: 100%;margin-bottom: 0;padding: 0.3em;box-sizing: border-box;text-align: center;}#sk-container-id-1 label.sk-toggleable__label-arrow:before {content: \"▸\";float: left;margin-right: 0.25em;color: #696969;}#sk-container-id-1 label.sk-toggleable__label-arrow:hover:before {color: black;}#sk-container-id-1 div.sk-estimator:hover label.sk-toggleable__label-arrow:before {color: black;}#sk-container-id-1 div.sk-toggleable__content {max-height: 0;max-width: 0;overflow: hidden;text-align: left;background-color: #f0f8ff;}#sk-container-id-1 div.sk-toggleable__content pre {margin: 0.2em;color: black;border-radius: 0.25em;background-color: #f0f8ff;}#sk-container-id-1 input.sk-toggleable__control:checked~div.sk-toggleable__content {max-height: 200px;max-width: 100%;overflow: auto;}#sk-container-id-1 input.sk-toggleable__control:checked~label.sk-toggleable__label-arrow:before {content: \"▾\";}#sk-container-id-1 div.sk-estimator input.sk-toggleable__control:checked~label.sk-toggleable__label {background-color: #d4ebff;}#sk-container-id-1 div.sk-label input.sk-toggleable__control:checked~label.sk-toggleable__label {background-color: #d4ebff;}#sk-container-id-1 input.sk-hidden--visually {border: 0;clip: rect(1px 1px 1px 1px);clip: rect(1px, 1px, 1px, 1px);height: 1px;margin: -1px;overflow: hidden;padding: 0;position: absolute;width: 1px;}#sk-container-id-1 div.sk-estimator {font-family: monospace;background-color: #f0f8ff;border: 1px dotted black;border-radius: 0.25em;box-sizing: border-box;margin-bottom: 0.5em;}#sk-container-id-1 div.sk-estimator:hover {background-color: #d4ebff;}#sk-container-id-1 div.sk-parallel-item::after {content: \"\";width: 100%;border-bottom: 1px solid gray;flex-grow: 1;}#sk-container-id-1 div.sk-label:hover label.sk-toggleable__label {background-color: #d4ebff;}#sk-container-id-1 div.sk-serial::before {content: \"\";position: absolute;border-left: 1px solid gray;box-sizing: border-box;top: 0;bottom: 0;left: 50%;z-index: 0;}#sk-container-id-1 div.sk-serial {display: flex;flex-direction: column;align-items: center;background-color: white;padding-right: 0.2em;padding-left: 0.2em;position: relative;}#sk-container-id-1 div.sk-item {position: relative;z-index: 1;}#sk-container-id-1 div.sk-parallel {display: flex;align-items: stretch;justify-content: center;background-color: white;position: relative;}#sk-container-id-1 div.sk-item::before, #sk-container-id-1 div.sk-parallel-item::before {content: \"\";position: absolute;border-left: 1px solid gray;box-sizing: border-box;top: 0;bottom: 0;left: 50%;z-index: -1;}#sk-container-id-1 div.sk-parallel-item {display: flex;flex-direction: column;z-index: 1;position: relative;background-color: white;}#sk-container-id-1 div.sk-parallel-item:first-child::after {align-self: flex-end;width: 50%;}#sk-container-id-1 div.sk-parallel-item:last-child::after {align-self: flex-start;width: 50%;}#sk-container-id-1 div.sk-parallel-item:only-child::after {width: 0;}#sk-container-id-1 div.sk-dashed-wrapped {border: 1px dashed gray;margin: 0 0.4em 0.5em 0.4em;box-sizing: border-box;padding-bottom: 0.4em;background-color: white;}#sk-container-id-1 div.sk-label label {font-family: monospace;font-weight: bold;display: inline-block;line-height: 1.2em;}#sk-container-id-1 div.sk-label-container {text-align: center;}#sk-container-id-1 div.sk-container {/* jupyter's `normalize.less` sets `[hidden] { display: none; }` but bootstrap.min.css set `[hidden] { display: none !important; }` so we also need the `!important` here to be able to override the default hidden behavior on the sphinx rendered scikit-learn.org. See: https://github.com/scikit-learn/scikit-learn/issues/21755 */display: inline-block !important;position: relative;}#sk-container-id-1 div.sk-text-repr-fallback {display: none;}</style><div id=\"sk-container-id-1\" class=\"sk-top-container\"><div class=\"sk-text-repr-fallback\"><pre>PCA(n_components=11)</pre><b>In a Jupyter environment, please rerun this cell to show the HTML representation or trust the notebook. <br />On GitHub, the HTML representation is unable to render, please try loading this page with nbviewer.org.</b></div><div class=\"sk-container\" hidden><div class=\"sk-item\"><div class=\"sk-estimator sk-toggleable\"><input class=\"sk-toggleable__control sk-hidden--visually\" id=\"sk-estimator-id-1\" type=\"checkbox\" checked><label for=\"sk-estimator-id-1\" class=\"sk-toggleable__label sk-toggleable__label-arrow\">PCA</label><div class=\"sk-toggleable__content\"><pre>PCA(n_components=11)</pre></div></div></div></div></div>"
      ],
      "text/plain": [
       "PCA(n_components=11)"
      ]
     },
     "execution_count": 10,
     "metadata": {},
     "output_type": "execute_result"
    }
   ],
   "source": [
    "#using sklearn for the number of PCA\n",
    "pca = PCA(n_components = scaled_df.shape[1])\n",
    "pca.fit(scaled_df)"
   ]
  },
  {
   "cell_type": "code",
   "execution_count": 11,
   "id": "1ce43947",
   "metadata": {},
   "outputs": [],
   "source": [
    "#creating PC column names\n",
    "columns = []\n",
    "\n",
    "for col in range(1,12):\n",
    "    columns.append(f'PC{col}')"
   ]
  },
  {
   "cell_type": "code",
   "execution_count": 12,
   "id": "d26ec134",
   "metadata": {},
   "outputs": [],
   "source": [
    "#transforming scaled_df\n",
    "pca2 = pd.DataFrame(pca.transform(scaled_df), columns = columns)"
   ]
  },
  {
   "cell_type": "code",
   "execution_count": 13,
   "id": "d0eedd95",
   "metadata": {},
   "outputs": [
    {
     "data": {
      "text/html": [
       "<div>\n",
       "<style scoped>\n",
       "    .dataframe tbody tr th:only-of-type {\n",
       "        vertical-align: middle;\n",
       "    }\n",
       "\n",
       "    .dataframe tbody tr th {\n",
       "        vertical-align: top;\n",
       "    }\n",
       "\n",
       "    .dataframe thead th {\n",
       "        text-align: right;\n",
       "    }\n",
       "</style>\n",
       "<table border=\"1\" class=\"dataframe\">\n",
       "  <thead>\n",
       "    <tr style=\"text-align: right;\">\n",
       "      <th></th>\n",
       "      <th>PC1</th>\n",
       "      <th>PC2</th>\n",
       "      <th>PC3</th>\n",
       "      <th>PC4</th>\n",
       "      <th>PC5</th>\n",
       "      <th>PC6</th>\n",
       "      <th>PC7</th>\n",
       "      <th>PC8</th>\n",
       "      <th>PC9</th>\n",
       "      <th>PC10</th>\n",
       "      <th>PC11</th>\n",
       "    </tr>\n",
       "  </thead>\n",
       "  <tbody>\n",
       "    <tr>\n",
       "      <th>Population</th>\n",
       "      <td>0.024451</td>\n",
       "      <td>-0.028354</td>\n",
       "      <td>0.421855</td>\n",
       "      <td>0.370209</td>\n",
       "      <td>-0.235896</td>\n",
       "      <td>0.349305</td>\n",
       "      <td>-0.479600</td>\n",
       "      <td>0.222540</td>\n",
       "      <td>0.475576</td>\n",
       "      <td>0.014389</td>\n",
       "      <td>-0.000930</td>\n",
       "    </tr>\n",
       "    <tr>\n",
       "      <th>Children</th>\n",
       "      <td>0.034520</td>\n",
       "      <td>0.017410</td>\n",
       "      <td>-0.096731</td>\n",
       "      <td>0.349000</td>\n",
       "      <td>0.518807</td>\n",
       "      <td>0.626415</td>\n",
       "      <td>0.279715</td>\n",
       "      <td>-0.352459</td>\n",
       "      <td>0.057534</td>\n",
       "      <td>0.003628</td>\n",
       "      <td>-0.000922</td>\n",
       "    </tr>\n",
       "    <tr>\n",
       "      <th>Age</th>\n",
       "      <td>0.084872</td>\n",
       "      <td>0.700762</td>\n",
       "      <td>0.023524</td>\n",
       "      <td>-0.017159</td>\n",
       "      <td>0.006689</td>\n",
       "      <td>-0.003294</td>\n",
       "      <td>-0.024529</td>\n",
       "      <td>0.008834</td>\n",
       "      <td>-0.014554</td>\n",
       "      <td>0.706573</td>\n",
       "      <td>0.026245</td>\n",
       "    </tr>\n",
       "    <tr>\n",
       "      <th>Income</th>\n",
       "      <td>-0.020184</td>\n",
       "      <td>-0.019046</td>\n",
       "      <td>0.325252</td>\n",
       "      <td>0.196995</td>\n",
       "      <td>0.658378</td>\n",
       "      <td>-0.322788</td>\n",
       "      <td>0.081858</td>\n",
       "      <td>0.554281</td>\n",
       "      <td>-0.055190</td>\n",
       "      <td>0.002259</td>\n",
       "      <td>0.001296</td>\n",
       "    </tr>\n",
       "    <tr>\n",
       "      <th>VitD_levels</th>\n",
       "      <td>-0.002039</td>\n",
       "      <td>0.020437</td>\n",
       "      <td>-0.359913</td>\n",
       "      <td>0.572300</td>\n",
       "      <td>-0.328573</td>\n",
       "      <td>0.133583</td>\n",
       "      <td>0.092902</td>\n",
       "      <td>0.414384</td>\n",
       "      <td>-0.486165</td>\n",
       "      <td>-0.002326</td>\n",
       "      <td>-0.001492</td>\n",
       "    </tr>\n",
       "    <tr>\n",
       "      <th>Doc_visits</th>\n",
       "      <td>-0.006889</td>\n",
       "      <td>0.015447</td>\n",
       "      <td>0.213144</td>\n",
       "      <td>0.593922</td>\n",
       "      <td>-0.106642</td>\n",
       "      <td>-0.545545</td>\n",
       "      <td>0.072843</td>\n",
       "      <td>-0.535509</td>\n",
       "      <td>0.021685</td>\n",
       "      <td>0.001013</td>\n",
       "      <td>-0.001099</td>\n",
       "    </tr>\n",
       "    <tr>\n",
       "      <th>Full_meals_eaten</th>\n",
       "      <td>-0.020703</td>\n",
       "      <td>0.032146</td>\n",
       "      <td>-0.603613</td>\n",
       "      <td>0.129858</td>\n",
       "      <td>0.030406</td>\n",
       "      <td>-0.228783</td>\n",
       "      <td>0.172002</td>\n",
       "      <td>0.184049</td>\n",
       "      <td>0.707448</td>\n",
       "      <td>0.010803</td>\n",
       "      <td>-0.001629</td>\n",
       "    </tr>\n",
       "    <tr>\n",
       "      <th>vitD_supp</th>\n",
       "      <td>0.025366</td>\n",
       "      <td>0.014522</td>\n",
       "      <td>0.407015</td>\n",
       "      <td>-0.069521</td>\n",
       "      <td>-0.348283</td>\n",
       "      <td>0.106250</td>\n",
       "      <td>0.799985</td>\n",
       "      <td>0.161924</td>\n",
       "      <td>0.172815</td>\n",
       "      <td>0.000433</td>\n",
       "      <td>-0.000599</td>\n",
       "    </tr>\n",
       "    <tr>\n",
       "      <th>Initial_days</th>\n",
       "      <td>0.700222</td>\n",
       "      <td>-0.090235</td>\n",
       "      <td>-0.018411</td>\n",
       "      <td>-0.005489</td>\n",
       "      <td>0.006565</td>\n",
       "      <td>-0.034373</td>\n",
       "      <td>-0.005664</td>\n",
       "      <td>0.009234</td>\n",
       "      <td>-0.004640</td>\n",
       "      <td>0.031468</td>\n",
       "      <td>-0.706275</td>\n",
       "    </tr>\n",
       "    <tr>\n",
       "      <th>TotalCharge</th>\n",
       "      <td>0.701358</td>\n",
       "      <td>-0.079643</td>\n",
       "      <td>-0.019610</td>\n",
       "      <td>-0.002230</td>\n",
       "      <td>0.004801</td>\n",
       "      <td>-0.033307</td>\n",
       "      <td>-0.005328</td>\n",
       "      <td>0.009057</td>\n",
       "      <td>-0.002110</td>\n",
       "      <td>-0.031443</td>\n",
       "      <td>0.706490</td>\n",
       "    </tr>\n",
       "    <tr>\n",
       "      <th>Additional_charges</th>\n",
       "      <td>0.085223</td>\n",
       "      <td>0.700769</td>\n",
       "      <td>0.025242</td>\n",
       "      <td>-0.006438</td>\n",
       "      <td>0.007919</td>\n",
       "      <td>0.001302</td>\n",
       "      <td>-0.029719</td>\n",
       "      <td>0.014130</td>\n",
       "      <td>0.007697</td>\n",
       "      <td>-0.705993</td>\n",
       "      <td>-0.036721</td>\n",
       "    </tr>\n",
       "  </tbody>\n",
       "</table>\n",
       "</div>"
      ],
      "text/plain": [
       "                         PC1       PC2       PC3       PC4       PC5  \\\n",
       "Population          0.024451 -0.028354  0.421855  0.370209 -0.235896   \n",
       "Children            0.034520  0.017410 -0.096731  0.349000  0.518807   \n",
       "Age                 0.084872  0.700762  0.023524 -0.017159  0.006689   \n",
       "Income             -0.020184 -0.019046  0.325252  0.196995  0.658378   \n",
       "VitD_levels        -0.002039  0.020437 -0.359913  0.572300 -0.328573   \n",
       "Doc_visits         -0.006889  0.015447  0.213144  0.593922 -0.106642   \n",
       "Full_meals_eaten   -0.020703  0.032146 -0.603613  0.129858  0.030406   \n",
       "vitD_supp           0.025366  0.014522  0.407015 -0.069521 -0.348283   \n",
       "Initial_days        0.700222 -0.090235 -0.018411 -0.005489  0.006565   \n",
       "TotalCharge         0.701358 -0.079643 -0.019610 -0.002230  0.004801   \n",
       "Additional_charges  0.085223  0.700769  0.025242 -0.006438  0.007919   \n",
       "\n",
       "                         PC6       PC7       PC8       PC9      PC10      PC11  \n",
       "Population          0.349305 -0.479600  0.222540  0.475576  0.014389 -0.000930  \n",
       "Children            0.626415  0.279715 -0.352459  0.057534  0.003628 -0.000922  \n",
       "Age                -0.003294 -0.024529  0.008834 -0.014554  0.706573  0.026245  \n",
       "Income             -0.322788  0.081858  0.554281 -0.055190  0.002259  0.001296  \n",
       "VitD_levels         0.133583  0.092902  0.414384 -0.486165 -0.002326 -0.001492  \n",
       "Doc_visits         -0.545545  0.072843 -0.535509  0.021685  0.001013 -0.001099  \n",
       "Full_meals_eaten   -0.228783  0.172002  0.184049  0.707448  0.010803 -0.001629  \n",
       "vitD_supp           0.106250  0.799985  0.161924  0.172815  0.000433 -0.000599  \n",
       "Initial_days       -0.034373 -0.005664  0.009234 -0.004640  0.031468 -0.706275  \n",
       "TotalCharge        -0.033307 -0.005328  0.009057 -0.002110 -0.031443  0.706490  \n",
       "Additional_charges  0.001302 -0.029719  0.014130  0.007697 -0.705993 -0.036721  "
      ]
     },
     "execution_count": 13,
     "metadata": {},
     "output_type": "execute_result"
    }
   ],
   "source": [
    "#creating maxtrix of all PCs\n",
    "load = pd.DataFrame(pca.components_.T, columns = columns, index = scaled_df.columns)\n",
    "load"
   ]
  },
  {
   "cell_type": "markdown",
   "id": "46d15df4",
   "metadata": {},
   "source": [
    "#### D2. Identification of Total Number of Components<a id='d2'></a>\n",
    "\n",
    "Based on the Kaiser Rule and the use of a scree plot, PC1, PC2, PC3 and PC4 should be kept since they have an eigenvalue greater than 1."
   ]
  },
  {
   "cell_type": "code",
   "execution_count": 14,
   "id": "f88e3981",
   "metadata": {},
   "outputs": [],
   "source": [
    "#creating covariance matrix\n",
    "cov_matrix = np.dot(scaled_df.T, scaled_df / scaled_df.shape[0] )\n",
    "eigenvalues = [np.dot(eigenvector.T, np.dot(cov_matrix, eigenvector)) for eigenvector in pca.components_]"
   ]
  },
  {
   "cell_type": "code",
   "execution_count": 15,
   "id": "2001d230",
   "metadata": {
    "scrolled": false
   },
   "outputs": [
    {
     "data": {
      "image/png": "[encoded data removed]",
      "text/plain": [
       "<Figure size 640x480 with 1 Axes>"
      ]
     },
     "metadata": {},
     "output_type": "display_data"
    }
   ],
   "source": [
    "#creating scree plot\n",
    "plt.plot(eigenvalues)\n",
    "plt.xlabel('Number of Components')\n",
    "plt.ylabel('Eigenvalues')\n",
    "plt.axhline(y = 1, color = 'red')\n",
    "plt.show()"
   ]
  },
  {
   "cell_type": "markdown",
   "id": "99b17617",
   "metadata": {},
   "source": [
    "#### D3. Total Variance of Components<a id='d3'></a>"
   ]
  },
  {
   "cell_type": "code",
   "execution_count": 16,
   "id": "4fb17adb",
   "metadata": {},
   "outputs": [],
   "source": [
    "#creating variable to capture total variance by PC\n",
    "pca_var = pca.explained_variance_ratio_*100"
   ]
  },
  {
   "cell_type": "code",
   "execution_count": 17,
   "id": "0277d85f",
   "metadata": {},
   "outputs": [
    {
     "data": {
      "text/html": [
       "<div>\n",
       "<style scoped>\n",
       "    .dataframe tbody tr th:only-of-type {\n",
       "        vertical-align: middle;\n",
       "    }\n",
       "\n",
       "    .dataframe tbody tr th {\n",
       "        vertical-align: top;\n",
       "    }\n",
       "\n",
       "    .dataframe thead th {\n",
       "        text-align: right;\n",
       "    }\n",
       "</style>\n",
       "<table border=\"1\" class=\"dataframe\">\n",
       "  <thead>\n",
       "    <tr style=\"text-align: right;\">\n",
       "      <th></th>\n",
       "      <th>Total PC Variance</th>\n",
       "    </tr>\n",
       "  </thead>\n",
       "  <tbody>\n",
       "    <tr>\n",
       "      <th>PC1</th>\n",
       "      <td>18.14</td>\n",
       "    </tr>\n",
       "    <tr>\n",
       "      <th>PC2</th>\n",
       "      <td>15.59</td>\n",
       "    </tr>\n",
       "    <tr>\n",
       "      <th>PC3</th>\n",
       "      <td>9.55</td>\n",
       "    </tr>\n",
       "    <tr>\n",
       "      <th>PC4</th>\n",
       "      <td>9.27</td>\n",
       "    </tr>\n",
       "    <tr>\n",
       "      <th>PC5</th>\n",
       "      <td>9.15</td>\n",
       "    </tr>\n",
       "    <tr>\n",
       "      <th>PC6</th>\n",
       "      <td>9.06</td>\n",
       "    </tr>\n",
       "    <tr>\n",
       "      <th>PC7</th>\n",
       "      <td>8.97</td>\n",
       "    </tr>\n",
       "    <tr>\n",
       "      <th>PC8</th>\n",
       "      <td>8.82</td>\n",
       "    </tr>\n",
       "    <tr>\n",
       "      <th>PC9</th>\n",
       "      <td>8.76</td>\n",
       "    </tr>\n",
       "    <tr>\n",
       "      <th>PC10</th>\n",
       "      <td>2.58</td>\n",
       "    </tr>\n",
       "    <tr>\n",
       "      <th>PC11</th>\n",
       "      <td>0.11</td>\n",
       "    </tr>\n",
       "  </tbody>\n",
       "</table>\n",
       "</div>"
      ],
      "text/plain": [
       "      Total PC Variance\n",
       "PC1               18.14\n",
       "PC2               15.59\n",
       "PC3                9.55\n",
       "PC4                9.27\n",
       "PC5                9.15\n",
       "PC6                9.06\n",
       "PC7                8.97\n",
       "PC8                8.82\n",
       "PC9                8.76\n",
       "PC10               2.58\n",
       "PC11               0.11"
      ]
     },
     "execution_count": 17,
     "metadata": {},
     "output_type": "execute_result"
    }
   ],
   "source": [
    "#creating table to showcase variance by PC\n",
    "df_pca_var = pd.DataFrame({'Total PC Variance': pca_var.round(2)}, index=columns)\n",
    "df_pca_var"
   ]
  },
  {
   "cell_type": "markdown",
   "id": "cece4b6b",
   "metadata": {},
   "source": [
    "#### D4. Total Variance Captured by Components<a id='d4'></a>"
   ]
  },
  {
   "cell_type": "code",
   "execution_count": 18,
   "id": "3b17d511",
   "metadata": {},
   "outputs": [
    {
     "data": {
      "text/html": [
       "<div>\n",
       "<style scoped>\n",
       "    .dataframe tbody tr th:only-of-type {\n",
       "        vertical-align: middle;\n",
       "    }\n",
       "\n",
       "    .dataframe tbody tr th {\n",
       "        vertical-align: top;\n",
       "    }\n",
       "\n",
       "    .dataframe thead th {\n",
       "        text-align: right;\n",
       "    }\n",
       "</style>\n",
       "<table border=\"1\" class=\"dataframe\">\n",
       "  <thead>\n",
       "    <tr style=\"text-align: right;\">\n",
       "      <th></th>\n",
       "      <th>Total PC Variance</th>\n",
       "    </tr>\n",
       "  </thead>\n",
       "  <tbody>\n",
       "    <tr>\n",
       "      <th>PC1</th>\n",
       "      <td>18.14</td>\n",
       "    </tr>\n",
       "    <tr>\n",
       "      <th>PC2</th>\n",
       "      <td>15.59</td>\n",
       "    </tr>\n",
       "    <tr>\n",
       "      <th>PC3</th>\n",
       "      <td>9.55</td>\n",
       "    </tr>\n",
       "    <tr>\n",
       "      <th>PC4</th>\n",
       "      <td>9.27</td>\n",
       "    </tr>\n",
       "    <tr>\n",
       "      <th>PC5</th>\n",
       "      <td>9.15</td>\n",
       "    </tr>\n",
       "  </tbody>\n",
       "</table>\n",
       "</div>"
      ],
      "text/plain": [
       "     Total PC Variance\n",
       "PC1              18.14\n",
       "PC2              15.59\n",
       "PC3               9.55\n",
       "PC4               9.27\n",
       "PC5               9.15"
      ]
     },
     "execution_count": 18,
     "metadata": {},
     "output_type": "execute_result"
    }
   ],
   "source": [
    "#showing only PCs identified in D2: PC1, PC2, PC3, PC4 and PC5\n",
    "df_pca_var.iloc[0:5]"
   ]
  },
  {
   "cell_type": "code",
   "execution_count": 19,
   "id": "e0a884ae",
   "metadata": {},
   "outputs": [
    {
     "name": "stdout",
     "output_type": "stream",
     "text": [
      "Sum of the variance captured by PC1, PC2, PC3, PC4 and PC5 is 61.7%\n"
     ]
    }
   ],
   "source": [
    "#summing variance captured by D4\n",
    "print(f'Sum of the variance captured by PC1, PC2, PC3, PC4 and PC5 is {df_pca_var.iloc[0:5][\"Total PC Variance\"].sum().round(2)}%')"
   ]
  },
  {
   "cell_type": "markdown",
   "id": "0bf8e648",
   "metadata": {},
   "source": [
    "#### D5. Summary of Data Analysis<a id='d5'></a>\n",
    "\n",
    "For the PCA analysis, I used `PCA` from `Sklearn` to set the number of PCA components and create a matrix using all the PCs, which I standardized in C2.\n",
    "\n",
    "In D2, I calculated and plotted the eigenvalues to apply the Kaiser rule to reduce the number of PCs in my analysis.  The Kaiser rule states that you should keep PCs with an eigenvalue greater than 1.  As a result of this step, I ended up with 5 PCs.\n",
    "\n",
    "In D3, I summed all of the variance across all 11 PCs, which totaled 100%.\n",
    "\n",
    "In D4, we can see that PC1, PC2, PC3, PC4 and PC5 captures 62.7% of the total variance in the dataset."
   ]
  },
  {
   "cell_type": "markdown",
   "id": "f930c316",
   "metadata": {},
   "source": [
    "### PART V: ATTACHMENTS"
   ]
  },
  {
   "cell_type": "markdown",
   "id": "7b6b509b",
   "metadata": {},
   "source": [
    "#### E. Third-Party Code References<a id='e'></a>\n",
    "\n",
    "Middleton, Dr. Keiona (2022). <i>D206 - Webinar 4: Getting Started with PCA - November (2022)</i> [Webinar].\n",
    "    </br>&emsp;&emsp;Western Governors University. https://wgu.hosted.panopto.com/Panopto/Pages/Viewer.aspx?id=7b31791b-24e8-4077-ba1a-af5d0005144c\n",
    "    \n",
    "Scikit-learn (n.d.).  <i>sklearn.decomposition.PCA</i>. Scikit-learn.\n",
    "    </br>&emsp;&emsp;Retrieved August 14, 2023, from https://scikit-learn.org/stable/modules/generated/sklearn.decomposition.PCA.html\n",
    "    \n",
    "Scikit-learn (n.d.).  <i>sklearn.preprocessing.StandardScaler</i>. Scikit-learn.\n",
    "    </br>&emsp;&emsp;Retrieved August 14, 2023, from https://scikit-learn.org/stable/modules/generated/sklearn.preprocessing.StandardScaler.html"
   ]
  },
  {
   "cell_type": "markdown",
   "id": "e93fb6c8",
   "metadata": {},
   "source": [
    "#### F. Sources<a id='f'></a>\n",
    "\n",
    "Data Camp (2023, February).  <i>Principal Component Analysis in R Tutorial</i>.  Data Camp.\n",
    "    </br>&emsp;&emsp;Retrieved August 14, 2023, from https://www.datacamp.com/tutorial/pca-analysis-r\n",
    "\n",
    "Great Learning Team (2022, November 21).  <i>Understanding Principal Component Analysis and their Applications</i>.  Great Learning.\n",
    "    </br>&emsp;&emsp;Retrieved August 14, 2023, from https://www.datacamp.com/tutorial/pca-analysis-r"
   ]
  }
 ],
 "metadata": {
  "kernelspec": {
   "display_name": "Python 3 (ipykernel)",
   "language": "python",
   "name": "python3"
  },
  "language_info": {
   "codemirror_mode": {
    "name": "ipython",
    "version": 3
   },
   "file_extension": ".py",
   "mimetype": "text/x-python",
   "name": "python",
   "nbconvert_exporter": "python",
   "pygments_lexer": "ipython3",
   "version": "3.10.11"
  }
 },
 "nbformat": 4,
 "nbformat_minor": 5
}
