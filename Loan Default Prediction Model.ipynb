{
 "cells": [
  {
   "cell_type": "markdown",
   "id": "cd169e96",
   "metadata": {},
   "source": [
    "# D214 - Data Analytics Graduate Capstone Performance Assessment Task 2\n",
    "\n",
    "Assignment Completed by Favio Conde and Submitted August 24, 2023 for WGU - MSDA\n",
    "</br>"
   ]
  },
  {
   "cell_type": "markdown",
   "id": "28e0cc8f",
   "metadata": {},
   "source": [
    "### Table of Contents\n",
    "\n",
    "#### Part I: Research Question\n",
    "<ul>\n",
    "    <li><a href='#a'>A: Research Question</a></li>\n",
    "</ul>\n",
    " \n",
    "#### Part II: Data Collection\n",
    "<ul>\n",
    "    <li><a href='#b'>B. Data Collection</a></li>\n",
    "</ul> \n",
    "\n",
    "#### Part III: Data Extraction and Preparation\n",
    "<ul>\n",
    "    <li><a href='#c'>C: Data Extraction  and Preparation</a></li>\n",
    "</ul>\n",
    "\n",
    "#### Part IV: Analysis\n",
    "<ul>\n",
    "    <li><a href='#d'>D: Analysis</a></li>\n",
    "</ul>\n",
    "\n",
    "#### Part V: Data Summary and Implications\n",
    "<ul>\n",
    "    <li><a href='#e'>E: Summary and Implications</a></li>\n",
    "    <li><a href='#f'>F. Sources</a></li>\n",
    "</ul>"
   ]
  },
  {
   "cell_type": "markdown",
   "id": "d91da6b9",
   "metadata": {},
   "source": [
    "### PART A: RESEARCH QUESTION<a id='a'></a>"
   ]
  },
  {
   "cell_type": "markdown",
   "id": "a85ac60a",
   "metadata": {},
   "source": [
    "To what extent do Client_income, House_Own, Credit_Amount, Loan_Annuity, Client_Education, Client_Marital_Status, Loan_Contract_Type, Score_Source_1, Score_Source_2, and Score_Source_3 predict loan defaults?\n",
    "\n",
    "H<sub>0</sub>: The selected features in the data can significantly predict loan defaults in the data set.</br>\n",
    "H<sub>a</sub>: The selected features in the data cannot significantly predict loan defaults in the data set.\n",
    "\n",
    "Financial institutions extend credit to the customer. In the current market, where rates are rising, and liquidity has increasingly become a concern, lenders are more selective to whom they extend credit. Lenders should diversify their loan portfolio to include high-grade (A- and B-paper) and lower-grade paper. The lower-grade paper presents a higher risk and an opportunity for a higher yield. If the lender can better determine creditworthiness once they navigate into applications in the lower credit score range, this could benefit the lender. By mitigating risk on the front end, the lender can hedge against losses, resulting in more cash available to lend, which means that lenders don't have to borrow money to lend money, which also means savings for customers through lower interest rates."
   ]
  },
  {
   "cell_type": "markdown",
   "id": "fc1ef4a3",
   "metadata": {},
   "source": [
    "### PART B: DATA COLLECTION<a id='b'></a>"
   ]
  },
  {
   "cell_type": "markdown",
   "id": "2a927b5c",
   "metadata": {},
   "source": [
    "I downloaded the data set I used for the logistic regression analysis from <i>Kaggle</i>.  The data from Kaggle consists of information from NBFI, a non-bank financial company.  Meastanmay defines NBFI as a financial institution that doesn't have the authorization to operate as a bank and is not supervised by banking regulatory agencies like FDIC or NCUA.\n",
    "\n",
    "The data set has a lot of information for borrowers with auto loans, including borrowers who have defaulted and who are paying as agreed.  The current economic environment consists of rising gas prices, increasing fed rates, causing lenders to raise rates and mass layoffs.  Disposable income is decreasing for some, which makes it more difficult to pay on loans.  Many laid-off borrowers have to surrender their vehicle if they can't afford the payment, which increases the difficulty of finding employment if they must commute to work. A critical calculation to consider while developing a loan default prediction model is payment-to-income (PTI).  PTI was not in the data, but `Loan_annuity` and `Client_income` were, so I will use this information to add a column in the data set and use that as one of my independent variables in the analysis.\n",
    "\n",
    "Most lenders use the borrowers' FICO as a tool to determine creditworthiness.  The data set has three different credit scores, but the author needed to provide background information to understand the type of scores.  They could be standard FICO scores, auto-enhanced FICO scores, or LexisNexis scores.  Unfortunately, the author provided no clarification.\n",
    "\n",
    "A benefit of the data set is that it is a CSV file, which makes it convenient to import and analyze using Python.  However, the provided data set was already split into train and test sets.  The test set did not have the `Default` column that I could use to validate the model.  As a result, I will be using only the train data set and splitting that into train and test sets.  The train set has 121,857 records with several null values dispersed in the data."
   ]
  },
  {
   "cell_type": "markdown",
   "id": "0d583a57",
   "metadata": {},
   "source": [
    "### PART C: DATA EXTRACTION AND PREPARATION<a id='c'></a>"
   ]
  },
  {
   "cell_type": "markdown",
   "id": "112157e7",
   "metadata": {},
   "source": [
    "I order to analyze the data, I started off by importing the CSV file into my Jupyter Notebook.  I imported the following libraries and packages:\n",
    "<ul>\n",
    "    <li>NumPy</li>\n",
    "    <li>Pandas</li>\n",
    "    <li>Matplotlib</li>\n",
    "    <li>Seaborn</li>\n",
    "    <li>Statsmodels</li>\n",
    "    <li>Sklearn</li>\n",
    "</ul>\n",
    "\n",
    "I had identified certain independent variables I wanted to use in the analysis, so I dropped the features that I had not selected from the data frame.\n",
    "\n",
    "I kept the following categorical independent variables:\n",
    "\n",
    "<ul>\n",
    "    <li>Car_Owned</li>\n",
    "    <li>Active_Loan</li>\n",
    "    <li>House_Own</li>\n",
    "    <li>Client_Education</li>\n",
    "    <li>Client_Marital_Status</li>\n",
    "    <li>Client_Gender</li>\n",
    "</ul>\n",
    "\n",
    "For the numerica independent variables, I kept:\n",
    "\n",
    "<ul>\n",
    "    <li>Client_Income</li>\n",
    "    <li>Credit_Amount</li>\n",
    "    <li>Loan_Annuity</li>\n",
    "    <li>Age_Days</li>\n",
    "    <li>Credit_Bureau</li>\n",
    "</ul>\n",
    "\n",
    "I removed `$` from the columns and replaced them with `NAN`, since the fields with a `$` had no data.  Next, I checked for null values.  There were many null values, so I checked the categorical variable distribution to determine if I could impute null values.\n",
    "\n",
    "I filled null values in  `Client_Education` with `Secondary`, `Client_Marital_Status` with `M`, `Client_Gender` with `Other`, and `Age_Days` and `Credit_Bureau` with the column medians.\n",
    "\n",
    "I converted all categorical variables to `category` data type and changed numeric values to either `float` or `int`.\n",
    "\n",
    "I inspected the data set dimensions using `.shape`, and I checked for null values again.  In the next step, I dropped any remaining null values and confirmed they were all dropped by checking for null values again using `.isnull().sum()`.\n",
    "\n",
    "I wanted to add `Payment_to_Income` to my data, so I divided `Loan_Annuity` by `Client_Income` and added the result.  I then created `num_var` to gather all numeric variables and `cat_var` to gather all categorical variables.\n",
    "\n",
    "In the EDA process, I plotted a box plot to check for outliers since logistic regression is sensitive to outliers.  I dropped `Client_Income`, `Credit_Amount`, `Loan_Annuity`, and `Credit_Bureau` based on extreme outliers.  `Payment_to_Income` also had a lot of outliers, but I dropped anything above a PTI of 40%.  I used `.describe()` on the remaining numeric variables, `Age_Days` and `Payment_to_Income`, and rechecked the box plots.  I plotted each numeric variable along with `Default` for the bivariate analysis.\n",
    "\n",
    "To inspect the categorical variables, I used `.describe()` on the variables.  `Car_Owned`, `Active_Loan`, and `House_Own` were changed from `0.0`/`1.0` to `0`/`1`.  I used one hot encoding on `Client_Education`, `Client_Marital_Status`, and `Client_Gender`, dropping the first column in each encoding.\n",
    "\n",
    "After these steps, I had my prepared data and exported it as a CSV file.\n",
    "\n",
    "Before any cleaning, only 8.08% of customers had defaulted on loans, so any cleaning that removed rows where the default was yes decreased this further.\n",
    "\n",
    "For the analysis I used the following libraries:\n",
    "\n",
    "<ul>\n",
    "    <li>NumPy: used to perform a number of mathematical operations on arrays</li>\n",
    "    <li>Pandas: used for importing data sets into data frames and allows data cleaning, exploration and manipulation of data sets</li>\n",
    "    <li>Matplotlib: used to make visualizations</li>\n",
    "    <li>Seaborn: used to make visualizations</li>\n",
    "    <li>Sklearn: used for statistical and machine learning modelling</li>\n",
    "    <ul>\n",
    "        <li>Sklearn.linear_model: used to analyze logistic and linear regression models</li>\n",
    "        <li>Sklearn.metrics: used to calculate the confusion matrix</li>\n",
    "    </ul>\n",
    "    <li>Statsmodels.stats.outliers_influces: used to calculate VIF to reduce features for multicollinearity</li>\n",
    "</ul>\n",
    "\n",
    "I imputed as many null values as I could.  The data cannot have any null values for the model to work correctly, so an advantage of assigning the null values is that `.median()`, or other methods can easily be used.  With a single line of code, `df['Credit_Bureau'] = df['Credit_Bureau'].fillna(df['Credit_Bureau'].median())`, for example, I was able to fill in all missing `Credit_Bureau` values with the column median.  However, the ease of imputation using this method is also a disadvantage.  There may be a scenario where using the median is inappropriate and could negatively alter the data distribution, affecting the analysis results.  Another disadvantage is that I wasn't able to apply an imputing method using `.mode()`.  There's a different method to do so, but I relied on the `.value_counts()` to determine the feature mode."
   ]
  },
  {
   "cell_type": "code",
   "execution_count": 1,
   "id": "5b4af216",
   "metadata": {},
   "outputs": [],
   "source": [
    "#importing libraries and packages\n",
    "import numpy as np\n",
    "import pandas as  pd\n",
    "import matplotlib.pyplot as plt\n",
    "import seaborn as sns\n",
    "import statsmodels.api as sm\n",
    "from sklearn.linear_model import LogisticRegression\n",
    "from sklearn.metrics import confusion_matrix\n",
    "from statsmodels.stats.outliers_influence import variance_inflation_factor\n",
    "from sklearn.linear_model import LinearRegression\n",
    "from sklearn import metrics"
   ]
  },
  {
   "cell_type": "code",
   "execution_count": 2,
   "id": "b35d4da1",
   "metadata": {},
   "outputs": [
    {
     "data": {
      "text/html": [
       "<div>\n",
       "<style scoped>\n",
       "    .dataframe tbody tr th:only-of-type {\n",
       "        vertical-align: middle;\n",
       "    }\n",
       "\n",
       "    .dataframe tbody tr th {\n",
       "        vertical-align: top;\n",
       "    }\n",
       "\n",
       "    .dataframe thead th {\n",
       "        text-align: right;\n",
       "    }\n",
       "</style>\n",
       "<table border=\"1\" class=\"dataframe\">\n",
       "  <thead>\n",
       "    <tr style=\"text-align: right;\">\n",
       "      <th></th>\n",
       "      <th>Client_Income</th>\n",
       "      <th>Car_Owned</th>\n",
       "      <th>Active_Loan</th>\n",
       "      <th>House_Own</th>\n",
       "      <th>Credit_Amount</th>\n",
       "      <th>Loan_Annuity</th>\n",
       "      <th>Client_Education</th>\n",
       "      <th>Client_Marital_Status</th>\n",
       "      <th>Client_Gender</th>\n",
       "      <th>Age_Days</th>\n",
       "      <th>Credit_Bureau</th>\n",
       "      <th>Default</th>\n",
       "    </tr>\n",
       "  </thead>\n",
       "  <tbody>\n",
       "    <tr>\n",
       "      <th>0</th>\n",
       "      <td>6750</td>\n",
       "      <td>0.0</td>\n",
       "      <td>1.0</td>\n",
       "      <td>0.0</td>\n",
       "      <td>61190.55</td>\n",
       "      <td>3416.85</td>\n",
       "      <td>Secondary</td>\n",
       "      <td>M</td>\n",
       "      <td>Male</td>\n",
       "      <td>13957</td>\n",
       "      <td>NaN</td>\n",
       "      <td>0</td>\n",
       "    </tr>\n",
       "    <tr>\n",
       "      <th>1</th>\n",
       "      <td>20250</td>\n",
       "      <td>1.0</td>\n",
       "      <td>1.0</td>\n",
       "      <td>NaN</td>\n",
       "      <td>15282</td>\n",
       "      <td>1826.55</td>\n",
       "      <td>Graduation</td>\n",
       "      <td>M</td>\n",
       "      <td>Male</td>\n",
       "      <td>14162</td>\n",
       "      <td>NaN</td>\n",
       "      <td>0</td>\n",
       "    </tr>\n",
       "    <tr>\n",
       "      <th>2</th>\n",
       "      <td>18000</td>\n",
       "      <td>0.0</td>\n",
       "      <td>1.0</td>\n",
       "      <td>0.0</td>\n",
       "      <td>59527.35</td>\n",
       "      <td>2788.2</td>\n",
       "      <td>Graduation dropout</td>\n",
       "      <td>W</td>\n",
       "      <td>Male</td>\n",
       "      <td>16790</td>\n",
       "      <td>0.0</td>\n",
       "      <td>0</td>\n",
       "    </tr>\n",
       "    <tr>\n",
       "      <th>3</th>\n",
       "      <td>15750</td>\n",
       "      <td>0.0</td>\n",
       "      <td>1.0</td>\n",
       "      <td>1.0</td>\n",
       "      <td>53870.4</td>\n",
       "      <td>2295.45</td>\n",
       "      <td>Secondary</td>\n",
       "      <td>M</td>\n",
       "      <td>Male</td>\n",
       "      <td>23195</td>\n",
       "      <td>3.0</td>\n",
       "      <td>0</td>\n",
       "    </tr>\n",
       "    <tr>\n",
       "      <th>4</th>\n",
       "      <td>33750</td>\n",
       "      <td>1.0</td>\n",
       "      <td>1.0</td>\n",
       "      <td>0.0</td>\n",
       "      <td>133988.4</td>\n",
       "      <td>3547.35</td>\n",
       "      <td>Secondary</td>\n",
       "      <td>M</td>\n",
       "      <td>Female</td>\n",
       "      <td>11366</td>\n",
       "      <td>1.0</td>\n",
       "      <td>0</td>\n",
       "    </tr>\n",
       "  </tbody>\n",
       "</table>\n",
       "</div>"
      ],
      "text/plain": [
       "  Client_Income  Car_Owned  Active_Loan  House_Own Credit_Amount Loan_Annuity  \\\n",
       "0          6750        0.0          1.0        0.0      61190.55      3416.85   \n",
       "1         20250        1.0          1.0        NaN         15282      1826.55   \n",
       "2         18000        0.0          1.0        0.0      59527.35       2788.2   \n",
       "3         15750        0.0          1.0        1.0       53870.4      2295.45   \n",
       "4         33750        1.0          1.0        0.0      133988.4      3547.35   \n",
       "\n",
       "     Client_Education Client_Marital_Status Client_Gender Age_Days  \\\n",
       "0           Secondary                     M          Male    13957   \n",
       "1          Graduation                     M          Male    14162   \n",
       "2  Graduation dropout                     W          Male    16790   \n",
       "3           Secondary                     M          Male    23195   \n",
       "4           Secondary                     M        Female    11366   \n",
       "\n",
       "   Credit_Bureau  Default  \n",
       "0            NaN        0  \n",
       "1            NaN        0  \n",
       "2            0.0        0  \n",
       "3            3.0        0  \n",
       "4            1.0        0  "
      ]
     },
     "execution_count": 2,
     "metadata": {},
     "output_type": "execute_result"
    }
   ],
   "source": [
    "#importing CSV files\n",
    "df = pd.read_csv('Files/Train_Dataset.csv', low_memory=False, na_values=np.nan)\n",
    "\n",
    "#setting up list of independent variables I will keep for analysis\n",
    "var = ['Client_Income', 'Car_Owned', 'Active_Loan', 'House_Own', 'Credit_Amount', 'Loan_Annuity', 'Client_Education', \n",
    "       'Client_Marital_Status', 'Client_Gender', 'Age_Days', 'Credit_Bureau', 'Default']\n",
    "\n",
    "#updating df to keep selected independent variables and the target variable\n",
    "df = df[var]\n",
    "df.head()"
   ]
  },
  {
   "cell_type": "code",
   "execution_count": 3,
   "id": "ac002996",
   "metadata": {},
   "outputs": [
    {
     "data": {
      "text/plain": [
       "Client_Income             3622\n",
       "Car_Owned                 3581\n",
       "Active_Loan               3635\n",
       "House_Own                 3661\n",
       "Credit_Amount             3637\n",
       "Loan_Annuity              4813\n",
       "Client_Education          3645\n",
       "Client_Marital_Status     3473\n",
       "Client_Gender             2413\n",
       "Age_Days                  3600\n",
       "Credit_Bureau            18540\n",
       "Default                      0\n",
       "dtype: int64"
      ]
     },
     "execution_count": 3,
     "metadata": {},
     "output_type": "execute_result"
    }
   ],
   "source": [
    "#removing '$' and replacing with NAN\n",
    "clean_up = ['Client_Income', 'Credit_Amount', 'Loan_Annuity', 'Age_Days', 'Credit_Bureau']\n",
    "\n",
    "for i in clean_up:\n",
    "    df[i].replace('$', np.nan, inplace=True)\n",
    "    \n",
    "#checking for null values\n",
    "df.isnull().sum()"
   ]
  },
  {
   "cell_type": "code",
   "execution_count": 4,
   "id": "a88797e3",
   "metadata": {},
   "outputs": [
    {
     "name": "stdout",
     "output_type": "stream",
     "text": [
      "Car_Owned\n",
      "0.0    65.714648\n",
      "1.0    34.285352\n",
      "Name: Car_Owned, dtype: float64\n",
      "---------------------------------------------\n",
      "Active_Loan\n",
      "0.0    50.082473\n",
      "1.0    49.917527\n",
      "Name: Active_Loan, dtype: float64\n",
      "---------------------------------------------\n",
      "House_Own\n",
      "1.0    69.205973\n",
      "0.0    30.794027\n",
      "Name: House_Own, dtype: float64\n",
      "---------------------------------------------\n",
      "Client_Education\n",
      "Secondary             70.984088\n",
      "Graduation            24.379288\n",
      "Graduation dropout     3.349942\n",
      "Junior secondary       1.230850\n",
      "Post Grad              0.055832\n",
      "Name: Client_Education, dtype: float64\n",
      "---------------------------------------------\n",
      "Client_Marital_Status\n",
      "M    73.785087\n",
      "S    14.701435\n",
      "D     6.382673\n",
      "W     5.130804\n",
      "Name: Client_Marital_Status, dtype: float64\n",
      "---------------------------------------------\n",
      "Client_Gender\n",
      "Male      65.690748\n",
      "Female    34.306740\n",
      "XNA        0.002512\n",
      "Name: Client_Gender, dtype: float64\n",
      "---------------------------------------------\n"
     ]
    }
   ],
   "source": [
    "#checking distribution\n",
    "check = ['Car_Owned', 'Active_Loan', 'House_Own', 'Client_Education', 'Client_Marital_Status', 'Client_Gender']\n",
    "count = 0\n",
    "\n",
    "for i in check:\n",
    "    print(f'{i}')\n",
    "    print(df[i].value_counts(normalize=True)*100)\n",
    "    print('-'*45)\n",
    "    count += 1"
   ]
  },
  {
   "cell_type": "code",
   "execution_count": 5,
   "id": "f352b063",
   "metadata": {},
   "outputs": [],
   "source": [
    "#converting values to numeric to impute null values\n",
    "df['Age_Days'] = pd.to_numeric(df['Age_Days'], errors='coerce')\n",
    "df['Credit_Bureau'] = pd.to_numeric(df['Credit_Bureau'], errors='coerce')\n",
    "\n",
    "#imputing null values\n",
    "df['Client_Education'] = df['Client_Education'].fillna('Secondary')\n",
    "df['Client_Marital_Status'] = df['Client_Marital_Status'].fillna('M')\n",
    "df['Client_Gender'] = df['Client_Gender'].fillna('Other')\n",
    "df['Age_Days'] = df['Age_Days'].fillna(df['Age_Days'].median())\n",
    "df['Credit_Bureau'] = df['Credit_Bureau'].fillna(df['Credit_Bureau'].median())"
   ]
  },
  {
   "cell_type": "code",
   "execution_count": 6,
   "id": "d80199d8",
   "metadata": {},
   "outputs": [],
   "source": [
    "#converting variables to category\n",
    "to_cat = ['Car_Owned', 'Active_Loan', 'House_Own', 'Client_Education', \n",
    "                'Client_Marital_Status', 'Client_Gender', 'Default']\n",
    "\n",
    "for i in to_cat:\n",
    "    df[i] = df[i].astype('category')\n",
    "    \n",
    "#converting variables to int\n",
    "to_int = ['Age_Days', 'Credit_Bureau']\n",
    "\n",
    "for i in to_int:\n",
    "    df[i] = pd.to_numeric(df[i], errors='coerce')\n",
    "    df[i] = df[i].astype(int)\n",
    "    \n",
    "#converting variables to float\n",
    "to_float = ['Client_Income', 'Credit_Amount', 'Loan_Annuity']\n",
    "\n",
    "for i in to_float:\n",
    "    df[i] = pd.to_numeric(df[i], errors='coerce')\n",
    "    df[i] = df[i].astype(float)"
   ]
  },
  {
   "cell_type": "code",
   "execution_count": 7,
   "id": "b96db575",
   "metadata": {},
   "outputs": [
    {
     "name": "stdout",
     "output_type": "stream",
     "text": [
      "The data set has 121856 rows and 12 columns\n",
      "----------------------------------------------------------------------------------------------------\n",
      "<class 'pandas.core.frame.DataFrame'>\n",
      "RangeIndex: 121856 entries, 0 to 121855\n",
      "Data columns (total 12 columns):\n",
      " #   Column                 Non-Null Count   Dtype   \n",
      "---  ------                 --------------   -----   \n",
      " 0   Client_Income          118234 non-null  float64 \n",
      " 1   Car_Owned              118275 non-null  category\n",
      " 2   Active_Loan            118221 non-null  category\n",
      " 3   House_Own              118195 non-null  category\n",
      " 4   Credit_Amount          118219 non-null  float64 \n",
      " 5   Loan_Annuity           117030 non-null  float64 \n",
      " 6   Client_Education       121856 non-null  category\n",
      " 7   Client_Marital_Status  121856 non-null  category\n",
      " 8   Client_Gender          121856 non-null  category\n",
      " 9   Age_Days               121856 non-null  int32   \n",
      " 10  Credit_Bureau          121856 non-null  int32   \n",
      " 11  Default                121856 non-null  category\n",
      "dtypes: category(7), float64(3), int32(2)\n",
      "memory usage: 4.5 MB\n"
     ]
    }
   ],
   "source": [
    "#checking data\n",
    "print(f'The data set has {df.shape[0]} rows and {df.shape[1]} columns')\n",
    "print('-'*100)\n",
    "df.info()"
   ]
  },
  {
   "cell_type": "code",
   "execution_count": 8,
   "id": "62c9cd5d",
   "metadata": {},
   "outputs": [
    {
     "data": {
      "text/plain": [
       "Client_Income            3622\n",
       "Car_Owned                3581\n",
       "Active_Loan              3635\n",
       "House_Own                3661\n",
       "Credit_Amount            3637\n",
       "Loan_Annuity             4826\n",
       "Client_Education            0\n",
       "Client_Marital_Status       0\n",
       "Client_Gender               0\n",
       "Age_Days                    0\n",
       "Credit_Bureau               0\n",
       "Default                     0\n",
       "dtype: int64"
      ]
     },
     "execution_count": 8,
     "metadata": {},
     "output_type": "execute_result"
    }
   ],
   "source": [
    "#checking null values\n",
    "df.isnull().sum()"
   ]
  },
  {
   "cell_type": "code",
   "execution_count": 9,
   "id": "f96d8751",
   "metadata": {},
   "outputs": [
    {
     "data": {
      "text/plain": [
       "Client_Income            0\n",
       "Car_Owned                0\n",
       "Active_Loan              0\n",
       "House_Own                0\n",
       "Credit_Amount            0\n",
       "Loan_Annuity             0\n",
       "Client_Education         0\n",
       "Client_Marital_Status    0\n",
       "Client_Gender            0\n",
       "Age_Days                 0\n",
       "Credit_Bureau            0\n",
       "Default                  0\n",
       "dtype: int64"
      ]
     },
     "execution_count": 9,
     "metadata": {},
     "output_type": "execute_result"
    }
   ],
   "source": [
    "#dropping null values\n",
    "df = df.dropna()\n",
    "\n",
    "#confirming null values dropped\n",
    "df.isnull().sum()"
   ]
  },
  {
   "cell_type": "code",
   "execution_count": 10,
   "id": "d0fafd55",
   "metadata": {},
   "outputs": [],
   "source": [
    "#addign PTI to df\n",
    "df['Payment_to_Income'] = (df['Loan_Annuity'] / (df['Client_Income']))*100"
   ]
  },
  {
   "cell_type": "code",
   "execution_count": 11,
   "id": "9f43d821",
   "metadata": {},
   "outputs": [
    {
     "data": {
      "image/png": "[encoded data removed]",
      "text/plain": [
       "<Figure size 640x480 with 1 Axes>"
      ]
     },
     "metadata": {},
     "output_type": "display_data"
    },
    {
     "data": {
      "image/png": "[encoded data removed]",
      "text/plain": [
       "<Figure size 640x480 with 1 Axes>"
      ]
     },
     "metadata": {},
     "output_type": "display_data"
    },
    {
     "data": {
      "image/png": "[encoded data removed]",
      "text/plain": [
       "<Figure size 640x480 with 1 Axes>"
      ]
     },
     "metadata": {},
     "output_type": "display_data"
    },
    {
     "data": {
      "image/png": "[encoded data removed]",
      "text/plain": [
       "<Figure size 640x480 with 1 Axes>"
      ]
     },
     "metadata": {},
     "output_type": "display_data"
    },
    {
     "data": {
      "image/png": "[encoded data removed]",
      "text/plain": [
       "<Figure size 640x480 with 1 Axes>"
      ]
     },
     "metadata": {},
     "output_type": "display_data"
    },
    {
     "data": {
      "image/png": "[encoded data removed]",
      "text/plain": [
       "<Figure size 640x480 with 1 Axes>"
      ]
     },
     "metadata": {},
     "output_type": "display_data"
    }
   ],
   "source": [
    "#creating variables for numeric and categorical variables for EDA, removing target variable\n",
    "num_var = ['Client_Income', 'Credit_Amount', 'Loan_Annuity', 'Age_Days', 'Credit_Bureau', 'Payment_to_Income']\n",
    "cat_var = ['Car_Owned', 'Active_Loan', 'House_Own', 'Client_Education', 'Client_Marital_Status', 'Client_Gender']\n",
    "\n",
    "#creating num_var graphs\n",
    "for col in num_var:\n",
    "    sns.boxplot(data=df, x=col)\n",
    "    plt.show()"
   ]
  },
  {
   "cell_type": "code",
   "execution_count": 12,
   "id": "0aacc5ac",
   "metadata": {},
   "outputs": [],
   "source": [
    "#since logistic regression is sensitive to outliers, dropping all num_var except for Age_Days, and and Payemtn_to_Income\n",
    "num_drop = ['Client_Income', 'Credit_Amount', 'Loan_Annuity', 'Credit_Bureau']\n",
    "df.drop(num_drop, axis=1, inplace=True)"
   ]
  },
  {
   "cell_type": "code",
   "execution_count": 13,
   "id": "73aad460",
   "metadata": {},
   "outputs": [],
   "source": [
    "#removing PTI > 40\n",
    "df = df[df['Payment_to_Income'] <= 40]\n",
    "\n",
    "#resetting index after dropping rows\n",
    "df = df.reset_index(drop=True)"
   ]
  },
  {
   "cell_type": "code",
   "execution_count": 14,
   "id": "e73eba22",
   "metadata": {},
   "outputs": [
    {
     "data": {
      "text/html": [
       "<div>\n",
       "<style scoped>\n",
       "    .dataframe tbody tr th:only-of-type {\n",
       "        vertical-align: middle;\n",
       "    }\n",
       "\n",
       "    .dataframe tbody tr th {\n",
       "        vertical-align: top;\n",
       "    }\n",
       "\n",
       "    .dataframe thead th {\n",
       "        text-align: right;\n",
       "    }\n",
       "</style>\n",
       "<table border=\"1\" class=\"dataframe\">\n",
       "  <thead>\n",
       "    <tr style=\"text-align: right;\">\n",
       "      <th></th>\n",
       "      <th>count</th>\n",
       "      <th>mean</th>\n",
       "      <th>std</th>\n",
       "      <th>min</th>\n",
       "      <th>25%</th>\n",
       "      <th>50%</th>\n",
       "      <th>75%</th>\n",
       "      <th>max</th>\n",
       "    </tr>\n",
       "  </thead>\n",
       "  <tbody>\n",
       "    <tr>\n",
       "      <th>Age_Days</th>\n",
       "      <td>98004.0</td>\n",
       "      <td>15994.379699</td>\n",
       "      <td>4301.244039</td>\n",
       "      <td>7676.000000</td>\n",
       "      <td>12491.750</td>\n",
       "      <td>15734.00</td>\n",
       "      <td>19497.000000</td>\n",
       "      <td>25201.0</td>\n",
       "    </tr>\n",
       "    <tr>\n",
       "      <th>Payment_to_Income</th>\n",
       "      <td>98004.0</td>\n",
       "      <td>17.323226</td>\n",
       "      <td>7.912790</td>\n",
       "      <td>0.384973</td>\n",
       "      <td>11.336</td>\n",
       "      <td>16.12</td>\n",
       "      <td>22.322222</td>\n",
       "      <td>40.0</td>\n",
       "    </tr>\n",
       "  </tbody>\n",
       "</table>\n",
       "</div>"
      ],
      "text/plain": [
       "                     count          mean          std          min        25%  \\\n",
       "Age_Days           98004.0  15994.379699  4301.244039  7676.000000  12491.750   \n",
       "Payment_to_Income  98004.0     17.323226     7.912790     0.384973     11.336   \n",
       "\n",
       "                        50%           75%      max  \n",
       "Age_Days           15734.00  19497.000000  25201.0  \n",
       "Payment_to_Income     16.12     22.322222     40.0  "
      ]
     },
     "execution_count": 14,
     "metadata": {},
     "output_type": "execute_result"
    }
   ],
   "source": [
    "#statistical information of numeric variables\n",
    "df.describe().T"
   ]
  },
  {
   "cell_type": "code",
   "execution_count": 15,
   "id": "2c2d02c4",
   "metadata": {},
   "outputs": [
    {
     "data": {
      "image/png": "[encoded data removed]",
      "text/plain": [
       "<Figure size 640x480 with 1 Axes>"
      ]
     },
     "metadata": {},
     "output_type": "display_data"
    },
    {
     "data": {
      "image/png": "[encoded data removed]",
      "text/plain": [
       "<Figure size 640x480 with 1 Axes>"
      ]
     },
     "metadata": {},
     "output_type": "display_data"
    }
   ],
   "source": [
    "#checking updated box plots\n",
    "num_var = ['Age_Days', 'Payment_to_Income']\n",
    "\n",
    "#creating num_var graphs\n",
    "for col in num_var:\n",
    "    plt.title(col)\n",
    "    sns.boxplot(data=df, x=col)\n",
    "    plt.show()"
   ]
  },
  {
   "cell_type": "code",
   "execution_count": 16,
   "id": "fabe1cda",
   "metadata": {},
   "outputs": [
    {
     "data": {
      "image/png": "[encoded data removed]",
      "text/plain": [
       "<Figure size 640x480 with 1 Axes>"
      ]
     },
     "metadata": {},
     "output_type": "display_data"
    },
    {
     "data": {
      "image/png": "[encoded data removed]",
      "text/plain": [
       "<Figure size 640x480 with 1 Axes>"
      ]
     },
     "metadata": {},
     "output_type": "display_data"
    }
   ],
   "source": [
    "#creating bivariate plots for numeric variables\n",
    "for col in num_var:\n",
    "    plt.title(f'Scatter Plot of {col} vs. Defaults')\n",
    "    sns.boxplot(data=df, x='Default', y=col)\n",
    "    plt.show()"
   ]
  },
  {
   "cell_type": "code",
   "execution_count": 17,
   "id": "78b0757c",
   "metadata": {},
   "outputs": [
    {
     "data": {
      "text/html": [
       "<div>\n",
       "<style scoped>\n",
       "    .dataframe tbody tr th:only-of-type {\n",
       "        vertical-align: middle;\n",
       "    }\n",
       "\n",
       "    .dataframe tbody tr th {\n",
       "        vertical-align: top;\n",
       "    }\n",
       "\n",
       "    .dataframe thead th {\n",
       "        text-align: right;\n",
       "    }\n",
       "</style>\n",
       "<table border=\"1\" class=\"dataframe\">\n",
       "  <thead>\n",
       "    <tr style=\"text-align: right;\">\n",
       "      <th></th>\n",
       "      <th>count</th>\n",
       "      <th>unique</th>\n",
       "      <th>top</th>\n",
       "      <th>freq</th>\n",
       "    </tr>\n",
       "  </thead>\n",
       "  <tbody>\n",
       "    <tr>\n",
       "      <th>Car_Owned</th>\n",
       "      <td>98004.0</td>\n",
       "      <td>2.0</td>\n",
       "      <td>0.0</td>\n",
       "      <td>64243.0</td>\n",
       "    </tr>\n",
       "    <tr>\n",
       "      <th>Active_Loan</th>\n",
       "      <td>98004.0</td>\n",
       "      <td>2.0</td>\n",
       "      <td>0.0</td>\n",
       "      <td>49105.0</td>\n",
       "    </tr>\n",
       "    <tr>\n",
       "      <th>House_Own</th>\n",
       "      <td>98004.0</td>\n",
       "      <td>2.0</td>\n",
       "      <td>1.0</td>\n",
       "      <td>67911.0</td>\n",
       "    </tr>\n",
       "    <tr>\n",
       "      <th>Client_Education</th>\n",
       "      <td>98004</td>\n",
       "      <td>5</td>\n",
       "      <td>Secondary</td>\n",
       "      <td>70219</td>\n",
       "    </tr>\n",
       "    <tr>\n",
       "      <th>Client_Marital_Status</th>\n",
       "      <td>98004</td>\n",
       "      <td>4</td>\n",
       "      <td>M</td>\n",
       "      <td>72514</td>\n",
       "    </tr>\n",
       "    <tr>\n",
       "      <th>Client_Gender</th>\n",
       "      <td>98004</td>\n",
       "      <td>4</td>\n",
       "      <td>Male</td>\n",
       "      <td>62689</td>\n",
       "    </tr>\n",
       "  </tbody>\n",
       "</table>\n",
       "</div>"
      ],
      "text/plain": [
       "                         count unique        top     freq\n",
       "Car_Owned              98004.0    2.0        0.0  64243.0\n",
       "Active_Loan            98004.0    2.0        0.0  49105.0\n",
       "House_Own              98004.0    2.0        1.0  67911.0\n",
       "Client_Education         98004      5  Secondary    70219\n",
       "Client_Marital_Status    98004      4          M    72514\n",
       "Client_Gender            98004      4       Male    62689"
      ]
     },
     "execution_count": 17,
     "metadata": {},
     "output_type": "execute_result"
    }
   ],
   "source": [
    "#statistical information of categorical variables\n",
    "df[cat_var].describe().T"
   ]
  },
  {
   "cell_type": "code",
   "execution_count": 18,
   "id": "2564fa82",
   "metadata": {},
   "outputs": [],
   "source": [
    "#re-expressing 0.0/1.0 to 0/1\n",
    "re_cat = ['Car_Owned', 'Active_Loan', 'House_Own']\n",
    "\n",
    "for item in re_cat:\n",
    "    df[item] = df[item].map({0.0: 0, 1.0: 1})"
   ]
  },
  {
   "cell_type": "code",
   "execution_count": 19,
   "id": "0dfa2d37",
   "metadata": {},
   "outputs": [
    {
     "name": "stdout",
     "output_type": "stream",
     "text": [
      "Car_Owned\n",
      "0    65.551406\n",
      "1    34.448594\n",
      "Name: Car_Owned, dtype: float64\n",
      "---------------------------------------------\n",
      "Active_Loan\n",
      "0    50.105098\n",
      "1    49.894902\n",
      "Name: Active_Loan, dtype: float64\n",
      "---------------------------------------------\n",
      "House_Own\n",
      "1    69.29411\n",
      "0    30.70589\n",
      "Name: House_Own, dtype: float64\n",
      "---------------------------------------------\n",
      "Client_Education\n",
      "Secondary             71.649116\n",
      "Graduation            23.818416\n",
      "Graduation dropout     3.293743\n",
      "Junior secondary       1.182605\n",
      "Post Grad              0.056120\n",
      "Name: Client_Education, dtype: float64\n",
      "---------------------------------------------\n",
      "Client_Marital_Status\n",
      "M    73.990858\n",
      "S    14.619811\n",
      "D     6.320150\n",
      "W     5.069181\n",
      "Name: Client_Marital_Status, dtype: float64\n",
      "---------------------------------------------\n",
      "Client_Gender\n",
      "Male      63.965756\n",
      "Female    34.046570\n",
      "Other      1.984613\n",
      "XNA        0.003061\n",
      "Name: Client_Gender, dtype: float64\n",
      "---------------------------------------------\n"
     ]
    }
   ],
   "source": [
    "#checking statistics again\n",
    "count = 0\n",
    "\n",
    "for i in cat_var:\n",
    "    print(f'{i}')\n",
    "    print(df[i].value_counts(normalize=True)*100)\n",
    "    print('-'*45)\n",
    "    count += 1"
   ]
  },
  {
   "cell_type": "code",
   "execution_count": 20,
   "id": "3b6b5cd2",
   "metadata": {},
   "outputs": [],
   "source": [
    "#re-expressing Client_Education, Client_Marital_Status and Client_Gender\n",
    "ohe1 = pd.get_dummies(df['Client_Education'], drop_first=True)\n",
    "\n",
    "# Adding new columns to main df\n",
    "for item in ohe1.columns:\n",
    "    df[item] = ohe1[item]\n",
    "\n",
    "# Deleting the 'Gender' column since I have used one-hot encoding\n",
    "del df['Client_Education']"
   ]
  },
  {
   "cell_type": "code",
   "execution_count": 21,
   "id": "c1fcbcf3",
   "metadata": {},
   "outputs": [],
   "source": [
    "#re-expressing Client_Education, Client_Marital_Status and Client_Gender\n",
    "ohe2 = pd.get_dummies(df['Client_Marital_Status'], drop_first=True)\n",
    "\n",
    "# Adding new columns to main df\n",
    "for item in ohe2.columns:\n",
    "    df[item] = ohe2[item]\n",
    "\n",
    "# Deleting the 'Gender' column since I have used one-hot encoding\n",
    "del df['Client_Marital_Status']"
   ]
  },
  {
   "cell_type": "code",
   "execution_count": 22,
   "id": "8988c15f",
   "metadata": {},
   "outputs": [],
   "source": [
    "#re-expressing Client_Education, Client_Marital_Status and Client_Gender\n",
    "ohe3 = pd.get_dummies(df['Client_Gender'], drop_first=True)\n",
    "\n",
    "# Adding new columns to main df\n",
    "for item in ohe3.columns:\n",
    "    df[item] = ohe3[item]\n",
    "\n",
    "# Deleting the 'Gender' column since I have used one-hot encoding\n",
    "del df['Client_Gender']"
   ]
  },
  {
   "cell_type": "code",
   "execution_count": 23,
   "id": "b6543669",
   "metadata": {},
   "outputs": [
    {
     "name": "stdout",
     "output_type": "stream",
     "text": [
      "Graduation dropout Counts\n",
      "0    94776\n",
      "1     3228\n",
      "Name: Graduation dropout, dtype: int64\n",
      "----------------------------------------------------------------------------------------------------\n",
      "Junior secondary Counts\n",
      "0    96845\n",
      "1     1159\n",
      "Name: Junior secondary, dtype: int64\n",
      "----------------------------------------------------------------------------------------------------\n",
      "Post Grad Counts\n",
      "0    97949\n",
      "1       55\n",
      "Name: Post Grad, dtype: int64\n",
      "----------------------------------------------------------------------------------------------------\n",
      "Secondary Counts\n",
      "1    70219\n",
      "0    27785\n",
      "Name: Secondary, dtype: int64\n",
      "----------------------------------------------------------------------------------------------------\n",
      "M Counts\n",
      "1    72514\n",
      "0    25490\n",
      "Name: M, dtype: int64\n",
      "----------------------------------------------------------------------------------------------------\n",
      "S Counts\n",
      "0    83676\n",
      "1    14328\n",
      "Name: S, dtype: int64\n",
      "----------------------------------------------------------------------------------------------------\n",
      "W Counts\n",
      "0    93036\n",
      "1     4968\n",
      "Name: W, dtype: int64\n",
      "----------------------------------------------------------------------------------------------------\n",
      "Male Counts\n",
      "1    62689\n",
      "0    35315\n",
      "Name: Male, dtype: int64\n",
      "----------------------------------------------------------------------------------------------------\n",
      "Other Counts\n",
      "0    96059\n",
      "1     1945\n",
      "Name: Other, dtype: int64\n",
      "----------------------------------------------------------------------------------------------------\n",
      "XNA Counts\n",
      "0    98001\n",
      "1        3\n",
      "Name: XNA, dtype: int64\n",
      "----------------------------------------------------------------------------------------------------\n"
     ]
    }
   ],
   "source": [
    "#checking statistics for ohe variables\n",
    "for item in ohe1.columns:\n",
    "    print(f'{item} Counts')\n",
    "    print(df[item].value_counts())\n",
    "    print('-'*100)\n",
    "\n",
    "for item in ohe2.columns:\n",
    "    print(f'{item} Counts')\n",
    "    print(df[item].value_counts())\n",
    "    print('-'*100)\n",
    "\n",
    "for item in ohe3.columns:\n",
    "    print(f'{item} Counts')\n",
    "    print(df[item].value_counts())\n",
    "    print('-'*100)"
   ]
  },
  {
   "cell_type": "code",
   "execution_count": 24,
   "id": "1ca34296",
   "metadata": {},
   "outputs": [],
   "source": [
    "#extracting prepared data set to CSV file\n",
    "df.to_csv(r'Files/prepared_dataset.csv')"
   ]
  },
  {
   "cell_type": "code",
   "execution_count": 25,
   "id": "e178eebe",
   "metadata": {
    "scrolled": false
   },
   "outputs": [
    {
     "name": "stdout",
     "output_type": "stream",
     "text": [
      "Warning: Maximum number of iterations has been exceeded.\n",
      "         Current function value: 0.272723\n",
      "         Iterations: 35\n"
     ]
    },
    {
     "name": "stderr",
     "output_type": "stream",
     "text": [
      "C:\\Users\\Favio\\anaconda3\\lib\\site-packages\\statsmodels\\base\\model.py:604: ConvergenceWarning: Maximum Likelihood optimization failed to converge. Check mle_retvals\n",
      "  warnings.warn(\"Maximum Likelihood optimization failed to \"\n"
     ]
    },
    {
     "data": {
      "text/html": [
       "<table class=\"simpletable\">\n",
       "<caption>Logit Regression Results</caption>\n",
       "<tr>\n",
       "  <th>Dep. Variable:</th>        <td>Default</td>     <th>  No. Observations:  </th>   <td> 98004</td>  \n",
       "</tr>\n",
       "<tr>\n",
       "  <th>Model:</th>                 <td>Logit</td>      <th>  Df Residuals:      </th>   <td> 97988</td>  \n",
       "</tr>\n",
       "<tr>\n",
       "  <th>Method:</th>                 <td>MLE</td>       <th>  Df Model:          </th>   <td>    15</td>  \n",
       "</tr>\n",
       "<tr>\n",
       "  <th>Date:</th>            <td>Thu, 24 Aug 2023</td> <th>  Pseudo R-squ.:     </th>   <td>0.02687</td> \n",
       "</tr>\n",
       "<tr>\n",
       "  <th>Time:</th>                <td>22:41:44</td>     <th>  Log-Likelihood:    </th>  <td> -26728.</td> \n",
       "</tr>\n",
       "<tr>\n",
       "  <th>converged:</th>             <td>False</td>      <th>  LL-Null:           </th>  <td> -27466.</td> \n",
       "</tr>\n",
       "<tr>\n",
       "  <th>Covariance Type:</th>     <td>nonrobust</td>    <th>  LLR p-value:       </th> <td>6.598e-306</td>\n",
       "</tr>\n",
       "</table>\n",
       "<table class=\"simpletable\">\n",
       "<tr>\n",
       "           <td></td>             <th>coef</th>     <th>std err</th>      <th>z</th>      <th>P>|z|</th>  <th>[0.025</th>    <th>0.975]</th>  \n",
       "</tr>\n",
       "<tr>\n",
       "  <th>const</th>              <td>   -1.6521</td> <td>    0.079</td> <td>  -20.824</td> <td> 0.000</td> <td>   -1.808</td> <td>   -1.497</td>\n",
       "</tr>\n",
       "<tr>\n",
       "  <th>Car_Owned</th>          <td>   -0.3345</td> <td>    0.027</td> <td>  -12.198</td> <td> 0.000</td> <td>   -0.388</td> <td>   -0.281</td>\n",
       "</tr>\n",
       "<tr>\n",
       "  <th>Active_Loan</th>        <td>    0.0223</td> <td>    0.024</td> <td>    0.941</td> <td> 0.347</td> <td>   -0.024</td> <td>    0.069</td>\n",
       "</tr>\n",
       "<tr>\n",
       "  <th>House_Own</th>          <td>    0.0692</td> <td>    0.026</td> <td>    2.685</td> <td> 0.007</td> <td>    0.019</td> <td>    0.120</td>\n",
       "</tr>\n",
       "<tr>\n",
       "  <th>Age_Days</th>           <td>-7.169e-05</td> <td> 3.05e-06</td> <td>  -23.468</td> <td> 0.000</td> <td>-7.77e-05</td> <td>-6.57e-05</td>\n",
       "</tr>\n",
       "<tr>\n",
       "  <th>Payment_to_Income</th>  <td>    0.0097</td> <td>    0.002</td> <td>    6.469</td> <td> 0.000</td> <td>    0.007</td> <td>    0.013</td>\n",
       "</tr>\n",
       "<tr>\n",
       "  <th>Graduation dropout</th> <td>    0.3402</td> <td>    0.071</td> <td>    4.804</td> <td> 0.000</td> <td>    0.201</td> <td>    0.479</td>\n",
       "</tr>\n",
       "<tr>\n",
       "  <th>Junior secondary</th>   <td>    0.8055</td> <td>    0.103</td> <td>    7.833</td> <td> 0.000</td> <td>    0.604</td> <td>    1.007</td>\n",
       "</tr>\n",
       "<tr>\n",
       "  <th>Post Grad</th>          <td>   -0.9305</td> <td>    1.011</td> <td>   -0.920</td> <td> 0.357</td> <td>   -2.912</td> <td>    1.051</td>\n",
       "</tr>\n",
       "<tr>\n",
       "  <th>Secondary</th>          <td>    0.6585</td> <td>    0.033</td> <td>   19.831</td> <td> 0.000</td> <td>    0.593</td> <td>    0.724</td>\n",
       "</tr>\n",
       "<tr>\n",
       "  <th>M</th>                  <td>   -0.0752</td> <td>    0.051</td> <td>   -1.487</td> <td> 0.137</td> <td>   -0.174</td> <td>    0.024</td>\n",
       "</tr>\n",
       "<tr>\n",
       "  <th>S</th>                  <td>    0.0365</td> <td>    0.057</td> <td>    0.643</td> <td> 0.520</td> <td>   -0.075</td> <td>    0.148</td>\n",
       "</tr>\n",
       "<tr>\n",
       "  <th>W</th>                  <td>    0.0677</td> <td>    0.077</td> <td>    0.884</td> <td> 0.377</td> <td>   -0.082</td> <td>    0.218</td>\n",
       "</tr>\n",
       "<tr>\n",
       "  <th>Male</th>               <td>   -0.4298</td> <td>    0.026</td> <td>  -16.351</td> <td> 0.000</td> <td>   -0.481</td> <td>   -0.378</td>\n",
       "</tr>\n",
       "<tr>\n",
       "  <th>Other</th>              <td>   -0.2951</td> <td>    0.087</td> <td>   -3.382</td> <td> 0.001</td> <td>   -0.466</td> <td>   -0.124</td>\n",
       "</tr>\n",
       "<tr>\n",
       "  <th>XNA</th>                <td>  -15.1030</td> <td> 2798.513</td> <td>   -0.005</td> <td> 0.996</td> <td>-5500.087</td> <td> 5469.881</td>\n",
       "</tr>\n",
       "</table>"
      ],
      "text/plain": [
       "<class 'statsmodels.iolib.summary.Summary'>\n",
       "\"\"\"\n",
       "                           Logit Regression Results                           \n",
       "==============================================================================\n",
       "Dep. Variable:                Default   No. Observations:                98004\n",
       "Model:                          Logit   Df Residuals:                    97988\n",
       "Method:                           MLE   Df Model:                           15\n",
       "Date:                Thu, 24 Aug 2023   Pseudo R-squ.:                 0.02687\n",
       "Time:                        22:41:44   Log-Likelihood:                -26728.\n",
       "converged:                      False   LL-Null:                       -27466.\n",
       "Covariance Type:            nonrobust   LLR p-value:                6.598e-306\n",
       "======================================================================================\n",
       "                         coef    std err          z      P>|z|      [0.025      0.975]\n",
       "--------------------------------------------------------------------------------------\n",
       "const                 -1.6521      0.079    -20.824      0.000      -1.808      -1.497\n",
       "Car_Owned             -0.3345      0.027    -12.198      0.000      -0.388      -0.281\n",
       "Active_Loan            0.0223      0.024      0.941      0.347      -0.024       0.069\n",
       "House_Own              0.0692      0.026      2.685      0.007       0.019       0.120\n",
       "Age_Days           -7.169e-05   3.05e-06    -23.468      0.000   -7.77e-05   -6.57e-05\n",
       "Payment_to_Income      0.0097      0.002      6.469      0.000       0.007       0.013\n",
       "Graduation dropout     0.3402      0.071      4.804      0.000       0.201       0.479\n",
       "Junior secondary       0.8055      0.103      7.833      0.000       0.604       1.007\n",
       "Post Grad             -0.9305      1.011     -0.920      0.357      -2.912       1.051\n",
       "Secondary              0.6585      0.033     19.831      0.000       0.593       0.724\n",
       "M                     -0.0752      0.051     -1.487      0.137      -0.174       0.024\n",
       "S                      0.0365      0.057      0.643      0.520      -0.075       0.148\n",
       "W                      0.0677      0.077      0.884      0.377      -0.082       0.218\n",
       "Male                  -0.4298      0.026    -16.351      0.000      -0.481      -0.378\n",
       "Other                 -0.2951      0.087     -3.382      0.001      -0.466      -0.124\n",
       "XNA                  -15.1030   2798.513     -0.005      0.996   -5500.087    5469.881\n",
       "======================================================================================\n",
       "\"\"\""
      ]
     },
     "execution_count": 25,
     "metadata": {},
     "output_type": "execute_result"
    }
   ],
   "source": [
    "#defining x as all independent variables, and y as the dependent variable\n",
    "x = df.drop('Default', axis=1)\n",
    "y = df['Default']\n",
    "\n",
    "Logit_model = sm.Logit(y, sm.add_constant(x)).fit()\n",
    "Logit_model.summary()"
   ]
  },
  {
   "cell_type": "code",
   "execution_count": 26,
   "id": "25e983f3",
   "metadata": {},
   "outputs": [
    {
     "data": {
      "text/plain": [
       "0.9193910452634586"
      ]
     },
     "execution_count": 26,
     "metadata": {},
     "output_type": "execute_result"
    }
   ],
   "source": [
    "#checking model accuracy\n",
    "model = LogisticRegression(solver='liblinear', random_state=0)\n",
    "model.fit(x, y)\n",
    "LogisticRegression(C=1.0, class_weight=None, dual=False, fit_intercept=True,\n",
    "                  intercept_scaling=1, l1_ratio=None, max_iter=100,\n",
    "                  multi_class='warn', n_jobs=None, penalty='l2',\n",
    "                  random_state=0, solver='liblinear', tol=0.0001, verbose=0,\n",
    "                  warm_start=False)\n",
    "model.classes_\n",
    "model.intercept_\n",
    "model.coef_\n",
    "model.predict_proba(x)\n",
    "model.predict(x)\n",
    "model.score(x, y)"
   ]
  },
  {
   "cell_type": "code",
   "execution_count": 27,
   "id": "86eb5b67",
   "metadata": {},
   "outputs": [
    {
     "name": "stdout",
     "output_type": "stream",
     "text": [
      "               Feature        VIF\n",
      "3             Age_Days  11.819901\n",
      "9                    M   8.457601\n",
      "4    Payment_to_Income   5.626853\n",
      "8            Secondary   3.953179\n",
      "2            House_Own   3.237270\n",
      "12                Male   3.220673\n",
      "10                   S   2.224053\n",
      "1          Active_Loan   1.948464\n",
      "11                   W   1.705692\n",
      "0            Car_Owned   1.687906\n",
      "5   Graduation dropout   1.120574\n",
      "13               Other   1.061012\n",
      "6     Junior secondary   1.054731\n",
      "7            Post Grad   1.002422\n",
      "14                 XNA   1.000237\n"
     ]
    }
   ],
   "source": [
    "#using VIF to test for multicollinearity\n",
    "vif_data = pd.DataFrame()\n",
    "vif_data['Feature'] = x.columns\n",
    "vif_data['VIF'] = [variance_inflation_factor(x.values, i) for i in range(len(x.columns))]\n",
    "\n",
    "vif_data.sort_values('VIF', axis=0, ascending=False, inplace=True)\n",
    "\n",
    "print(vif_data)"
   ]
  },
  {
   "cell_type": "code",
   "execution_count": 28,
   "id": "b5a55b70",
   "metadata": {},
   "outputs": [
    {
     "name": "stdout",
     "output_type": "stream",
     "text": [
      "               Feature       VIF\n",
      "8                    M  6.950152\n",
      "3    Payment_to_Income  5.328566\n",
      "7            Secondary  3.671139\n",
      "2            House_Own  3.053150\n",
      "11                Male  3.008698\n",
      "9                    S  1.996989\n",
      "1          Active_Loan  1.925240\n",
      "0            Car_Owned  1.675658\n",
      "10                   W  1.449424\n",
      "4   Graduation dropout  1.120574\n",
      "12               Other  1.056341\n",
      "5     Junior secondary  1.045955\n",
      "6            Post Grad  1.001966\n",
      "13                 XNA  1.000228\n"
     ]
    }
   ],
   "source": [
    "#dropping Age_Days since VIF > 10\n",
    "\n",
    "x.pop('Age_Days')\n",
    "\n",
    "vif_data = pd.DataFrame()\n",
    "vif_data['Feature'] = x.columns\n",
    "vif_data['VIF'] = [variance_inflation_factor(x.values, i) for i in range(len(x.columns))]\n",
    "\n",
    "vif_data.sort_values('VIF', axis=0, ascending=False, inplace=True)\n",
    "\n",
    "print(vif_data)"
   ]
  },
  {
   "cell_type": "code",
   "execution_count": 29,
   "id": "e6f292f0",
   "metadata": {},
   "outputs": [
    {
     "name": "stdout",
     "output_type": "stream",
     "text": [
      "Warning: Maximum number of iterations has been exceeded.\n",
      "         Current function value: 0.275625\n",
      "         Iterations: 35\n"
     ]
    },
    {
     "name": "stderr",
     "output_type": "stream",
     "text": [
      "C:\\Users\\Favio\\anaconda3\\lib\\site-packages\\statsmodels\\base\\model.py:604: ConvergenceWarning: Maximum Likelihood optimization failed to converge. Check mle_retvals\n",
      "  warnings.warn(\"Maximum Likelihood optimization failed to \"\n"
     ]
    },
    {
     "data": {
      "text/html": [
       "<table class=\"simpletable\">\n",
       "<caption>Logit Regression Results</caption>\n",
       "<tr>\n",
       "  <th>Dep. Variable:</th>        <td>Default</td>     <th>  No. Observations:  </th>   <td> 98004</td>  \n",
       "</tr>\n",
       "<tr>\n",
       "  <th>Model:</th>                 <td>Logit</td>      <th>  Df Residuals:      </th>   <td> 97989</td>  \n",
       "</tr>\n",
       "<tr>\n",
       "  <th>Method:</th>                 <td>MLE</td>       <th>  Df Model:          </th>   <td>    14</td>  \n",
       "</tr>\n",
       "<tr>\n",
       "  <th>Date:</th>            <td>Thu, 24 Aug 2023</td> <th>  Pseudo R-squ.:     </th>   <td>0.01652</td> \n",
       "</tr>\n",
       "<tr>\n",
       "  <th>Time:</th>                <td>22:41:47</td>     <th>  Log-Likelihood:    </th>  <td> -27012.</td> \n",
       "</tr>\n",
       "<tr>\n",
       "  <th>converged:</th>             <td>False</td>      <th>  LL-Null:           </th>  <td> -27466.</td> \n",
       "</tr>\n",
       "<tr>\n",
       "  <th>Covariance Type:</th>     <td>nonrobust</td>    <th>  LLR p-value:       </th> <td>1.157e-184</td>\n",
       "</tr>\n",
       "</table>\n",
       "<table class=\"simpletable\">\n",
       "<tr>\n",
       "           <td></td>             <th>coef</th>     <th>std err</th>      <th>z</th>      <th>P>|z|</th>  <th>[0.025</th>    <th>0.975]</th>  \n",
       "</tr>\n",
       "<tr>\n",
       "  <th>const</th>              <td>   -2.6717</td> <td>    0.067</td> <td>  -40.005</td> <td> 0.000</td> <td>   -2.803</td> <td>   -2.541</td>\n",
       "</tr>\n",
       "<tr>\n",
       "  <th>Car_Owned</th>          <td>   -0.3029</td> <td>    0.027</td> <td>  -11.027</td> <td> 0.000</td> <td>   -0.357</td> <td>   -0.249</td>\n",
       "</tr>\n",
       "<tr>\n",
       "  <th>Active_Loan</th>        <td>    0.0221</td> <td>    0.024</td> <td>    0.936</td> <td> 0.349</td> <td>   -0.024</td> <td>    0.068</td>\n",
       "</tr>\n",
       "<tr>\n",
       "  <th>House_Own</th>          <td>    0.0016</td> <td>    0.026</td> <td>    0.064</td> <td> 0.949</td> <td>   -0.048</td> <td>    0.052</td>\n",
       "</tr>\n",
       "<tr>\n",
       "  <th>Payment_to_Income</th>  <td>    0.0079</td> <td>    0.001</td> <td>    5.274</td> <td> 0.000</td> <td>    0.005</td> <td>    0.011</td>\n",
       "</tr>\n",
       "<tr>\n",
       "  <th>Graduation dropout</th> <td>    0.4890</td> <td>    0.070</td> <td>    6.944</td> <td> 0.000</td> <td>    0.351</td> <td>    0.627</td>\n",
       "</tr>\n",
       "<tr>\n",
       "  <th>Junior secondary</th>   <td>    0.6786</td> <td>    0.102</td> <td>    6.638</td> <td> 0.000</td> <td>    0.478</td> <td>    0.879</td>\n",
       "</tr>\n",
       "<tr>\n",
       "  <th>Post Grad</th>          <td>   -1.0685</td> <td>    1.010</td> <td>   -1.057</td> <td> 0.290</td> <td>   -3.049</td> <td>    0.912</td>\n",
       "</tr>\n",
       "<tr>\n",
       "  <th>Secondary</th>          <td>    0.5928</td> <td>    0.033</td> <td>   17.957</td> <td> 0.000</td> <td>    0.528</td> <td>    0.658</td>\n",
       "</tr>\n",
       "<tr>\n",
       "  <th>M</th>                  <td>   -0.0156</td> <td>    0.050</td> <td>   -0.310</td> <td> 0.757</td> <td>   -0.114</td> <td>    0.083</td>\n",
       "</tr>\n",
       "<tr>\n",
       "  <th>S</th>                  <td>    0.2100</td> <td>    0.056</td> <td>    3.748</td> <td> 0.000</td> <td>    0.100</td> <td>    0.320</td>\n",
       "</tr>\n",
       "<tr>\n",
       "  <th>W</th>                  <td>   -0.1939</td> <td>    0.075</td> <td>   -2.568</td> <td> 0.010</td> <td>   -0.342</td> <td>   -0.046</td>\n",
       "</tr>\n",
       "<tr>\n",
       "  <th>Male</th>               <td>   -0.4898</td> <td>    0.026</td> <td>  -18.715</td> <td> 0.000</td> <td>   -0.541</td> <td>   -0.439</td>\n",
       "</tr>\n",
       "<tr>\n",
       "  <th>Other</th>              <td>   -0.3377</td> <td>    0.087</td> <td>   -3.883</td> <td> 0.000</td> <td>   -0.508</td> <td>   -0.167</td>\n",
       "</tr>\n",
       "<tr>\n",
       "  <th>XNA</th>                <td>  -10.1703</td> <td>  266.993</td> <td>   -0.038</td> <td> 0.970</td> <td> -533.466</td> <td>  513.126</td>\n",
       "</tr>\n",
       "</table>"
      ],
      "text/plain": [
       "<class 'statsmodels.iolib.summary.Summary'>\n",
       "\"\"\"\n",
       "                           Logit Regression Results                           \n",
       "==============================================================================\n",
       "Dep. Variable:                Default   No. Observations:                98004\n",
       "Model:                          Logit   Df Residuals:                    97989\n",
       "Method:                           MLE   Df Model:                           14\n",
       "Date:                Thu, 24 Aug 2023   Pseudo R-squ.:                 0.01652\n",
       "Time:                        22:41:47   Log-Likelihood:                -27012.\n",
       "converged:                      False   LL-Null:                       -27466.\n",
       "Covariance Type:            nonrobust   LLR p-value:                1.157e-184\n",
       "======================================================================================\n",
       "                         coef    std err          z      P>|z|      [0.025      0.975]\n",
       "--------------------------------------------------------------------------------------\n",
       "const                 -2.6717      0.067    -40.005      0.000      -2.803      -2.541\n",
       "Car_Owned             -0.3029      0.027    -11.027      0.000      -0.357      -0.249\n",
       "Active_Loan            0.0221      0.024      0.936      0.349      -0.024       0.068\n",
       "House_Own              0.0016      0.026      0.064      0.949      -0.048       0.052\n",
       "Payment_to_Income      0.0079      0.001      5.274      0.000       0.005       0.011\n",
       "Graduation dropout     0.4890      0.070      6.944      0.000       0.351       0.627\n",
       "Junior secondary       0.6786      0.102      6.638      0.000       0.478       0.879\n",
       "Post Grad             -1.0685      1.010     -1.057      0.290      -3.049       0.912\n",
       "Secondary              0.5928      0.033     17.957      0.000       0.528       0.658\n",
       "M                     -0.0156      0.050     -0.310      0.757      -0.114       0.083\n",
       "S                      0.2100      0.056      3.748      0.000       0.100       0.320\n",
       "W                     -0.1939      0.075     -2.568      0.010      -0.342      -0.046\n",
       "Male                  -0.4898      0.026    -18.715      0.000      -0.541      -0.439\n",
       "Other                 -0.3377      0.087     -3.883      0.000      -0.508      -0.167\n",
       "XNA                  -10.1703    266.993     -0.038      0.970    -533.466     513.126\n",
       "======================================================================================\n",
       "\"\"\""
      ]
     },
     "execution_count": 29,
     "metadata": {},
     "output_type": "execute_result"
    }
   ],
   "source": [
    "Logit_model = sm.Logit(y, sm.add_constant(x)).fit()\n",
    "Logit_model.summary()"
   ]
  },
  {
   "cell_type": "code",
   "execution_count": 30,
   "id": "93bc2229",
   "metadata": {},
   "outputs": [
    {
     "name": "stdout",
     "output_type": "stream",
     "text": [
      "Optimization terminated successfully.\n",
      "         Current function value: 0.275629\n",
      "         Iterations 8\n"
     ]
    },
    {
     "data": {
      "text/html": [
       "<table class=\"simpletable\">\n",
       "<caption>Logit Regression Results</caption>\n",
       "<tr>\n",
       "  <th>Dep. Variable:</th>        <td>Default</td>     <th>  No. Observations:  </th>   <td> 98004</td>  \n",
       "</tr>\n",
       "<tr>\n",
       "  <th>Model:</th>                 <td>Logit</td>      <th>  Df Residuals:      </th>   <td> 97990</td>  \n",
       "</tr>\n",
       "<tr>\n",
       "  <th>Method:</th>                 <td>MLE</td>       <th>  Df Model:          </th>   <td>    13</td>  \n",
       "</tr>\n",
       "<tr>\n",
       "  <th>Date:</th>            <td>Thu, 24 Aug 2023</td> <th>  Pseudo R-squ.:     </th>   <td>0.01650</td> \n",
       "</tr>\n",
       "<tr>\n",
       "  <th>Time:</th>                <td>22:41:47</td>     <th>  Log-Likelihood:    </th>  <td> -27013.</td> \n",
       "</tr>\n",
       "<tr>\n",
       "  <th>converged:</th>             <td>True</td>       <th>  LL-Null:           </th>  <td> -27466.</td> \n",
       "</tr>\n",
       "<tr>\n",
       "  <th>Covariance Type:</th>     <td>nonrobust</td>    <th>  LLR p-value:       </th> <td>1.908e-185</td>\n",
       "</tr>\n",
       "</table>\n",
       "<table class=\"simpletable\">\n",
       "<tr>\n",
       "           <td></td>             <th>coef</th>     <th>std err</th>      <th>z</th>      <th>P>|z|</th>  <th>[0.025</th>    <th>0.975]</th>  \n",
       "</tr>\n",
       "<tr>\n",
       "  <th>const</th>              <td>   -2.6718</td> <td>    0.067</td> <td>  -40.005</td> <td> 0.000</td> <td>   -2.803</td> <td>   -2.541</td>\n",
       "</tr>\n",
       "<tr>\n",
       "  <th>Car_Owned</th>          <td>   -0.3028</td> <td>    0.027</td> <td>  -11.024</td> <td> 0.000</td> <td>   -0.357</td> <td>   -0.249</td>\n",
       "</tr>\n",
       "<tr>\n",
       "  <th>Active_Loan</th>        <td>    0.0220</td> <td>    0.024</td> <td>    0.934</td> <td> 0.350</td> <td>   -0.024</td> <td>    0.068</td>\n",
       "</tr>\n",
       "<tr>\n",
       "  <th>House_Own</th>          <td>    0.0016</td> <td>    0.026</td> <td>    0.061</td> <td> 0.951</td> <td>   -0.049</td> <td>    0.052</td>\n",
       "</tr>\n",
       "<tr>\n",
       "  <th>Payment_to_Income</th>  <td>    0.0079</td> <td>    0.001</td> <td>    5.276</td> <td> 0.000</td> <td>    0.005</td> <td>    0.011</td>\n",
       "</tr>\n",
       "<tr>\n",
       "  <th>Graduation dropout</th> <td>    0.4886</td> <td>    0.070</td> <td>    6.940</td> <td> 0.000</td> <td>    0.351</td> <td>    0.627</td>\n",
       "</tr>\n",
       "<tr>\n",
       "  <th>Junior secondary</th>   <td>    0.6786</td> <td>    0.102</td> <td>    6.638</td> <td> 0.000</td> <td>    0.478</td> <td>    0.879</td>\n",
       "</tr>\n",
       "<tr>\n",
       "  <th>Post Grad</th>          <td>   -1.0685</td> <td>    1.010</td> <td>   -1.057</td> <td> 0.290</td> <td>   -3.049</td> <td>    0.912</td>\n",
       "</tr>\n",
       "<tr>\n",
       "  <th>Secondary</th>          <td>    0.5928</td> <td>    0.033</td> <td>   17.955</td> <td> 0.000</td> <td>    0.528</td> <td>    0.657</td>\n",
       "</tr>\n",
       "<tr>\n",
       "  <th>M</th>                  <td>   -0.0157</td> <td>    0.050</td> <td>   -0.311</td> <td> 0.756</td> <td>   -0.114</td> <td>    0.083</td>\n",
       "</tr>\n",
       "<tr>\n",
       "  <th>S</th>                  <td>    0.2101</td> <td>    0.056</td> <td>    3.748</td> <td> 0.000</td> <td>    0.100</td> <td>    0.320</td>\n",
       "</tr>\n",
       "<tr>\n",
       "  <th>W</th>                  <td>   -0.1939</td> <td>    0.075</td> <td>   -2.568</td> <td> 0.010</td> <td>   -0.342</td> <td>   -0.046</td>\n",
       "</tr>\n",
       "<tr>\n",
       "  <th>Male</th>               <td>   -0.4897</td> <td>    0.026</td> <td>  -18.710</td> <td> 0.000</td> <td>   -0.541</td> <td>   -0.438</td>\n",
       "</tr>\n",
       "<tr>\n",
       "  <th>Other</th>              <td>   -0.3376</td> <td>    0.087</td> <td>   -3.881</td> <td> 0.000</td> <td>   -0.508</td> <td>   -0.167</td>\n",
       "</tr>\n",
       "</table>"
      ],
      "text/plain": [
       "<class 'statsmodels.iolib.summary.Summary'>\n",
       "\"\"\"\n",
       "                           Logit Regression Results                           \n",
       "==============================================================================\n",
       "Dep. Variable:                Default   No. Observations:                98004\n",
       "Model:                          Logit   Df Residuals:                    97990\n",
       "Method:                           MLE   Df Model:                           13\n",
       "Date:                Thu, 24 Aug 2023   Pseudo R-squ.:                 0.01650\n",
       "Time:                        22:41:47   Log-Likelihood:                -27013.\n",
       "converged:                       True   LL-Null:                       -27466.\n",
       "Covariance Type:            nonrobust   LLR p-value:                1.908e-185\n",
       "======================================================================================\n",
       "                         coef    std err          z      P>|z|      [0.025      0.975]\n",
       "--------------------------------------------------------------------------------------\n",
       "const                 -2.6718      0.067    -40.005      0.000      -2.803      -2.541\n",
       "Car_Owned             -0.3028      0.027    -11.024      0.000      -0.357      -0.249\n",
       "Active_Loan            0.0220      0.024      0.934      0.350      -0.024       0.068\n",
       "House_Own              0.0016      0.026      0.061      0.951      -0.049       0.052\n",
       "Payment_to_Income      0.0079      0.001      5.276      0.000       0.005       0.011\n",
       "Graduation dropout     0.4886      0.070      6.940      0.000       0.351       0.627\n",
       "Junior secondary       0.6786      0.102      6.638      0.000       0.478       0.879\n",
       "Post Grad             -1.0685      1.010     -1.057      0.290      -3.049       0.912\n",
       "Secondary              0.5928      0.033     17.955      0.000       0.528       0.657\n",
       "M                     -0.0157      0.050     -0.311      0.756      -0.114       0.083\n",
       "S                      0.2101      0.056      3.748      0.000       0.100       0.320\n",
       "W                     -0.1939      0.075     -2.568      0.010      -0.342      -0.046\n",
       "Male                  -0.4897      0.026    -18.710      0.000      -0.541      -0.438\n",
       "Other                 -0.3376      0.087     -3.881      0.000      -0.508      -0.167\n",
       "======================================================================================\n",
       "\"\"\""
      ]
     },
     "execution_count": 30,
     "metadata": {},
     "output_type": "execute_result"
    }
   ],
   "source": [
    "# Dropping 'XNA' as an independent variable\n",
    "x.drop('XNA', axis=1, inplace=True)\n",
    "\n",
    "Logit_model = sm.Logit(y, sm.add_constant(x)).fit()\n",
    "Logit_model.summary()"
   ]
  },
  {
   "cell_type": "code",
   "execution_count": 31,
   "id": "e6aa1f97",
   "metadata": {},
   "outputs": [
    {
     "name": "stdout",
     "output_type": "stream",
     "text": [
      "Optimization terminated successfully.\n",
      "         Current function value: 0.275629\n",
      "         Iterations 8\n"
     ]
    },
    {
     "data": {
      "text/html": [
       "<table class=\"simpletable\">\n",
       "<caption>Logit Regression Results</caption>\n",
       "<tr>\n",
       "  <th>Dep. Variable:</th>        <td>Default</td>     <th>  No. Observations:  </th>   <td> 98004</td>  \n",
       "</tr>\n",
       "<tr>\n",
       "  <th>Model:</th>                 <td>Logit</td>      <th>  Df Residuals:      </th>   <td> 97991</td>  \n",
       "</tr>\n",
       "<tr>\n",
       "  <th>Method:</th>                 <td>MLE</td>       <th>  Df Model:          </th>   <td>    12</td>  \n",
       "</tr>\n",
       "<tr>\n",
       "  <th>Date:</th>            <td>Thu, 24 Aug 2023</td> <th>  Pseudo R-squ.:     </th>   <td>0.01650</td> \n",
       "</tr>\n",
       "<tr>\n",
       "  <th>Time:</th>                <td>22:41:48</td>     <th>  Log-Likelihood:    </th>  <td> -27013.</td> \n",
       "</tr>\n",
       "<tr>\n",
       "  <th>converged:</th>             <td>True</td>       <th>  LL-Null:           </th>  <td> -27466.</td> \n",
       "</tr>\n",
       "<tr>\n",
       "  <th>Covariance Type:</th>     <td>nonrobust</td>    <th>  LLR p-value:       </th> <td>2.151e-186</td>\n",
       "</tr>\n",
       "</table>\n",
       "<table class=\"simpletable\">\n",
       "<tr>\n",
       "           <td></td>             <th>coef</th>     <th>std err</th>      <th>z</th>      <th>P>|z|</th>  <th>[0.025</th>    <th>0.975]</th>  \n",
       "</tr>\n",
       "<tr>\n",
       "  <th>const</th>              <td>   -2.6708</td> <td>    0.065</td> <td>  -41.306</td> <td> 0.000</td> <td>   -2.798</td> <td>   -2.544</td>\n",
       "</tr>\n",
       "<tr>\n",
       "  <th>Car_Owned</th>          <td>   -0.3028</td> <td>    0.027</td> <td>  -11.024</td> <td> 0.000</td> <td>   -0.357</td> <td>   -0.249</td>\n",
       "</tr>\n",
       "<tr>\n",
       "  <th>Active_Loan</th>        <td>    0.0220</td> <td>    0.024</td> <td>    0.934</td> <td> 0.351</td> <td>   -0.024</td> <td>    0.068</td>\n",
       "</tr>\n",
       "<tr>\n",
       "  <th>Payment_to_Income</th>  <td>    0.0079</td> <td>    0.001</td> <td>    5.277</td> <td> 0.000</td> <td>    0.005</td> <td>    0.011</td>\n",
       "</tr>\n",
       "<tr>\n",
       "  <th>Graduation dropout</th> <td>    0.4886</td> <td>    0.070</td> <td>    6.939</td> <td> 0.000</td> <td>    0.351</td> <td>    0.627</td>\n",
       "</tr>\n",
       "<tr>\n",
       "  <th>Junior secondary</th>   <td>    0.6785</td> <td>    0.102</td> <td>    6.638</td> <td> 0.000</td> <td>    0.478</td> <td>    0.879</td>\n",
       "</tr>\n",
       "<tr>\n",
       "  <th>Post Grad</th>          <td>   -1.0684</td> <td>    1.010</td> <td>   -1.057</td> <td> 0.290</td> <td>   -3.049</td> <td>    0.912</td>\n",
       "</tr>\n",
       "<tr>\n",
       "  <th>Secondary</th>          <td>    0.5928</td> <td>    0.033</td> <td>   17.960</td> <td> 0.000</td> <td>    0.528</td> <td>    0.658</td>\n",
       "</tr>\n",
       "<tr>\n",
       "  <th>M</th>                  <td>   -0.0156</td> <td>    0.050</td> <td>   -0.310</td> <td> 0.756</td> <td>   -0.114</td> <td>    0.083</td>\n",
       "</tr>\n",
       "<tr>\n",
       "  <th>S</th>                  <td>    0.2100</td> <td>    0.056</td> <td>    3.748</td> <td> 0.000</td> <td>    0.100</td> <td>    0.320</td>\n",
       "</tr>\n",
       "<tr>\n",
       "  <th>W</th>                  <td>   -0.1938</td> <td>    0.075</td> <td>   -2.567</td> <td> 0.010</td> <td>   -0.342</td> <td>   -0.046</td>\n",
       "</tr>\n",
       "<tr>\n",
       "  <th>Male</th>               <td>   -0.4896</td> <td>    0.026</td> <td>  -18.727</td> <td> 0.000</td> <td>   -0.541</td> <td>   -0.438</td>\n",
       "</tr>\n",
       "<tr>\n",
       "  <th>Other</th>              <td>   -0.3375</td> <td>    0.087</td> <td>   -3.881</td> <td> 0.000</td> <td>   -0.508</td> <td>   -0.167</td>\n",
       "</tr>\n",
       "</table>"
      ],
      "text/plain": [
       "<class 'statsmodels.iolib.summary.Summary'>\n",
       "\"\"\"\n",
       "                           Logit Regression Results                           \n",
       "==============================================================================\n",
       "Dep. Variable:                Default   No. Observations:                98004\n",
       "Model:                          Logit   Df Residuals:                    97991\n",
       "Method:                           MLE   Df Model:                           12\n",
       "Date:                Thu, 24 Aug 2023   Pseudo R-squ.:                 0.01650\n",
       "Time:                        22:41:48   Log-Likelihood:                -27013.\n",
       "converged:                       True   LL-Null:                       -27466.\n",
       "Covariance Type:            nonrobust   LLR p-value:                2.151e-186\n",
       "======================================================================================\n",
       "                         coef    std err          z      P>|z|      [0.025      0.975]\n",
       "--------------------------------------------------------------------------------------\n",
       "const                 -2.6708      0.065    -41.306      0.000      -2.798      -2.544\n",
       "Car_Owned             -0.3028      0.027    -11.024      0.000      -0.357      -0.249\n",
       "Active_Loan            0.0220      0.024      0.934      0.351      -0.024       0.068\n",
       "Payment_to_Income      0.0079      0.001      5.277      0.000       0.005       0.011\n",
       "Graduation dropout     0.4886      0.070      6.939      0.000       0.351       0.627\n",
       "Junior secondary       0.6785      0.102      6.638      0.000       0.478       0.879\n",
       "Post Grad             -1.0684      1.010     -1.057      0.290      -3.049       0.912\n",
       "Secondary              0.5928      0.033     17.960      0.000       0.528       0.658\n",
       "M                     -0.0156      0.050     -0.310      0.756      -0.114       0.083\n",
       "S                      0.2100      0.056      3.748      0.000       0.100       0.320\n",
       "W                     -0.1938      0.075     -2.567      0.010      -0.342      -0.046\n",
       "Male                  -0.4896      0.026    -18.727      0.000      -0.541      -0.438\n",
       "Other                 -0.3375      0.087     -3.881      0.000      -0.508      -0.167\n",
       "======================================================================================\n",
       "\"\"\""
      ]
     },
     "execution_count": 31,
     "metadata": {},
     "output_type": "execute_result"
    }
   ],
   "source": [
    "# Dropping 'House_Own' as an independent variable\n",
    "x.drop('House_Own', axis=1, inplace=True)\n",
    "\n",
    "Logit_model = sm.Logit(y, sm.add_constant(x)).fit()\n",
    "Logit_model.summary()"
   ]
  },
  {
   "cell_type": "code",
   "execution_count": 32,
   "id": "11d5b9d3",
   "metadata": {},
   "outputs": [
    {
     "name": "stdout",
     "output_type": "stream",
     "text": [
      "Optimization terminated successfully.\n",
      "         Current function value: 0.275629\n",
      "         Iterations 8\n"
     ]
    },
    {
     "data": {
      "text/html": [
       "<table class=\"simpletable\">\n",
       "<caption>Logit Regression Results</caption>\n",
       "<tr>\n",
       "  <th>Dep. Variable:</th>        <td>Default</td>     <th>  No. Observations:  </th>   <td> 98004</td>  \n",
       "</tr>\n",
       "<tr>\n",
       "  <th>Model:</th>                 <td>Logit</td>      <th>  Df Residuals:      </th>   <td> 97992</td>  \n",
       "</tr>\n",
       "<tr>\n",
       "  <th>Method:</th>                 <td>MLE</td>       <th>  Df Model:          </th>   <td>    11</td>  \n",
       "</tr>\n",
       "<tr>\n",
       "  <th>Date:</th>            <td>Thu, 24 Aug 2023</td> <th>  Pseudo R-squ.:     </th>   <td>0.01650</td> \n",
       "</tr>\n",
       "<tr>\n",
       "  <th>Time:</th>                <td>22:41:48</td>     <th>  Log-Likelihood:    </th>  <td> -27013.</td> \n",
       "</tr>\n",
       "<tr>\n",
       "  <th>converged:</th>             <td>True</td>       <th>  LL-Null:           </th>  <td> -27466.</td> \n",
       "</tr>\n",
       "<tr>\n",
       "  <th>Covariance Type:</th>     <td>nonrobust</td>    <th>  LLR p-value:       </th> <td>2.426e-187</td>\n",
       "</tr>\n",
       "</table>\n",
       "<table class=\"simpletable\">\n",
       "<tr>\n",
       "           <td></td>             <th>coef</th>     <th>std err</th>      <th>z</th>      <th>P>|z|</th>  <th>[0.025</th>    <th>0.975]</th>  \n",
       "</tr>\n",
       "<tr>\n",
       "  <th>const</th>              <td>   -2.6848</td> <td>    0.046</td> <td>  -58.017</td> <td> 0.000</td> <td>   -2.775</td> <td>   -2.594</td>\n",
       "</tr>\n",
       "<tr>\n",
       "  <th>Car_Owned</th>          <td>   -0.3033</td> <td>    0.027</td> <td>  -11.057</td> <td> 0.000</td> <td>   -0.357</td> <td>   -0.250</td>\n",
       "</tr>\n",
       "<tr>\n",
       "  <th>Active_Loan</th>        <td>    0.0220</td> <td>    0.024</td> <td>    0.934</td> <td> 0.350</td> <td>   -0.024</td> <td>    0.068</td>\n",
       "</tr>\n",
       "<tr>\n",
       "  <th>Payment_to_Income</th>  <td>    0.0079</td> <td>    0.001</td> <td>    5.268</td> <td> 0.000</td> <td>    0.005</td> <td>    0.011</td>\n",
       "</tr>\n",
       "<tr>\n",
       "  <th>Graduation dropout</th> <td>    0.4885</td> <td>    0.070</td> <td>    6.938</td> <td> 0.000</td> <td>    0.350</td> <td>    0.626</td>\n",
       "</tr>\n",
       "<tr>\n",
       "  <th>Junior secondary</th>   <td>    0.6785</td> <td>    0.102</td> <td>    6.638</td> <td> 0.000</td> <td>    0.478</td> <td>    0.879</td>\n",
       "</tr>\n",
       "<tr>\n",
       "  <th>Post Grad</th>          <td>   -1.0681</td> <td>    1.010</td> <td>   -1.057</td> <td> 0.290</td> <td>   -3.048</td> <td>    0.912</td>\n",
       "</tr>\n",
       "<tr>\n",
       "  <th>Secondary</th>          <td>    0.5928</td> <td>    0.033</td> <td>   17.959</td> <td> 0.000</td> <td>    0.528</td> <td>    0.657</td>\n",
       "</tr>\n",
       "<tr>\n",
       "  <th>S</th>                  <td>    0.2244</td> <td>    0.032</td> <td>    7.088</td> <td> 0.000</td> <td>    0.162</td> <td>    0.286</td>\n",
       "</tr>\n",
       "<tr>\n",
       "  <th>W</th>                  <td>   -0.1797</td> <td>    0.060</td> <td>   -2.982</td> <td> 0.003</td> <td>   -0.298</td> <td>   -0.062</td>\n",
       "</tr>\n",
       "<tr>\n",
       "  <th>Male</th>               <td>   -0.4891</td> <td>    0.026</td> <td>  -18.746</td> <td> 0.000</td> <td>   -0.540</td> <td>   -0.438</td>\n",
       "</tr>\n",
       "<tr>\n",
       "  <th>Other</th>              <td>   -0.3371</td> <td>    0.087</td> <td>   -3.877</td> <td> 0.000</td> <td>   -0.508</td> <td>   -0.167</td>\n",
       "</tr>\n",
       "</table>"
      ],
      "text/plain": [
       "<class 'statsmodels.iolib.summary.Summary'>\n",
       "\"\"\"\n",
       "                           Logit Regression Results                           \n",
       "==============================================================================\n",
       "Dep. Variable:                Default   No. Observations:                98004\n",
       "Model:                          Logit   Df Residuals:                    97992\n",
       "Method:                           MLE   Df Model:                           11\n",
       "Date:                Thu, 24 Aug 2023   Pseudo R-squ.:                 0.01650\n",
       "Time:                        22:41:48   Log-Likelihood:                -27013.\n",
       "converged:                       True   LL-Null:                       -27466.\n",
       "Covariance Type:            nonrobust   LLR p-value:                2.426e-187\n",
       "======================================================================================\n",
       "                         coef    std err          z      P>|z|      [0.025      0.975]\n",
       "--------------------------------------------------------------------------------------\n",
       "const                 -2.6848      0.046    -58.017      0.000      -2.775      -2.594\n",
       "Car_Owned             -0.3033      0.027    -11.057      0.000      -0.357      -0.250\n",
       "Active_Loan            0.0220      0.024      0.934      0.350      -0.024       0.068\n",
       "Payment_to_Income      0.0079      0.001      5.268      0.000       0.005       0.011\n",
       "Graduation dropout     0.4885      0.070      6.938      0.000       0.350       0.626\n",
       "Junior secondary       0.6785      0.102      6.638      0.000       0.478       0.879\n",
       "Post Grad             -1.0681      1.010     -1.057      0.290      -3.048       0.912\n",
       "Secondary              0.5928      0.033     17.959      0.000       0.528       0.657\n",
       "S                      0.2244      0.032      7.088      0.000       0.162       0.286\n",
       "W                     -0.1797      0.060     -2.982      0.003      -0.298      -0.062\n",
       "Male                  -0.4891      0.026    -18.746      0.000      -0.540      -0.438\n",
       "Other                 -0.3371      0.087     -3.877      0.000      -0.508      -0.167\n",
       "======================================================================================\n",
       "\"\"\""
      ]
     },
     "execution_count": 32,
     "metadata": {},
     "output_type": "execute_result"
    }
   ],
   "source": [
    "# Dropping 'M' as an independent variable\n",
    "x.drop('M', axis=1, inplace=True)\n",
    "\n",
    "Logit_model = sm.Logit(y, sm.add_constant(x)).fit()\n",
    "Logit_model.summary()"
   ]
  },
  {
   "cell_type": "code",
   "execution_count": 33,
   "id": "d98de0de",
   "metadata": {},
   "outputs": [
    {
     "name": "stdout",
     "output_type": "stream",
     "text": [
      "Optimization terminated successfully.\n",
      "         Current function value: 0.275634\n",
      "         Iterations 8\n"
     ]
    },
    {
     "data": {
      "text/html": [
       "<table class=\"simpletable\">\n",
       "<caption>Logit Regression Results</caption>\n",
       "<tr>\n",
       "  <th>Dep. Variable:</th>        <td>Default</td>     <th>  No. Observations:  </th>   <td> 98004</td>  \n",
       "</tr>\n",
       "<tr>\n",
       "  <th>Model:</th>                 <td>Logit</td>      <th>  Df Residuals:      </th>   <td> 97993</td>  \n",
       "</tr>\n",
       "<tr>\n",
       "  <th>Method:</th>                 <td>MLE</td>       <th>  Df Model:          </th>   <td>    10</td>  \n",
       "</tr>\n",
       "<tr>\n",
       "  <th>Date:</th>            <td>Thu, 24 Aug 2023</td> <th>  Pseudo R-squ.:     </th>   <td>0.01649</td> \n",
       "</tr>\n",
       "<tr>\n",
       "  <th>Time:</th>                <td>22:41:48</td>     <th>  Log-Likelihood:    </th>  <td> -27013.</td> \n",
       "</tr>\n",
       "<tr>\n",
       "  <th>converged:</th>             <td>True</td>       <th>  LL-Null:           </th>  <td> -27466.</td> \n",
       "</tr>\n",
       "<tr>\n",
       "  <th>Covariance Type:</th>     <td>nonrobust</td>    <th>  LLR p-value:       </th> <td>3.826e-188</td>\n",
       "</tr>\n",
       "</table>\n",
       "<table class=\"simpletable\">\n",
       "<tr>\n",
       "           <td></td>             <th>coef</th>     <th>std err</th>      <th>z</th>      <th>P>|z|</th>  <th>[0.025</th>    <th>0.975]</th>  \n",
       "</tr>\n",
       "<tr>\n",
       "  <th>const</th>              <td>   -2.6736</td> <td>    0.045</td> <td>  -59.838</td> <td> 0.000</td> <td>   -2.761</td> <td>   -2.586</td>\n",
       "</tr>\n",
       "<tr>\n",
       "  <th>Car_Owned</th>          <td>   -0.3033</td> <td>    0.027</td> <td>  -11.059</td> <td> 0.000</td> <td>   -0.357</td> <td>   -0.250</td>\n",
       "</tr>\n",
       "<tr>\n",
       "  <th>Payment_to_Income</th>  <td>    0.0079</td> <td>    0.001</td> <td>    5.262</td> <td> 0.000</td> <td>    0.005</td> <td>    0.011</td>\n",
       "</tr>\n",
       "<tr>\n",
       "  <th>Graduation dropout</th> <td>    0.4883</td> <td>    0.070</td> <td>    6.935</td> <td> 0.000</td> <td>    0.350</td> <td>    0.626</td>\n",
       "</tr>\n",
       "<tr>\n",
       "  <th>Junior secondary</th>   <td>    0.6782</td> <td>    0.102</td> <td>    6.636</td> <td> 0.000</td> <td>    0.478</td> <td>    0.879</td>\n",
       "</tr>\n",
       "<tr>\n",
       "  <th>Post Grad</th>          <td>   -1.0678</td> <td>    1.010</td> <td>   -1.057</td> <td> 0.291</td> <td>   -3.048</td> <td>    0.912</td>\n",
       "</tr>\n",
       "<tr>\n",
       "  <th>Secondary</th>          <td>    0.5927</td> <td>    0.033</td> <td>   17.956</td> <td> 0.000</td> <td>    0.528</td> <td>    0.657</td>\n",
       "</tr>\n",
       "<tr>\n",
       "  <th>S</th>                  <td>    0.2244</td> <td>    0.032</td> <td>    7.089</td> <td> 0.000</td> <td>    0.162</td> <td>    0.286</td>\n",
       "</tr>\n",
       "<tr>\n",
       "  <th>W</th>                  <td>   -0.1794</td> <td>    0.060</td> <td>   -2.978</td> <td> 0.003</td> <td>   -0.298</td> <td>   -0.061</td>\n",
       "</tr>\n",
       "<tr>\n",
       "  <th>Male</th>               <td>   -0.4890</td> <td>    0.026</td> <td>  -18.744</td> <td> 0.000</td> <td>   -0.540</td> <td>   -0.438</td>\n",
       "</tr>\n",
       "<tr>\n",
       "  <th>Other</th>              <td>   -0.3367</td> <td>    0.087</td> <td>   -3.872</td> <td> 0.000</td> <td>   -0.507</td> <td>   -0.166</td>\n",
       "</tr>\n",
       "</table>"
      ],
      "text/plain": [
       "<class 'statsmodels.iolib.summary.Summary'>\n",
       "\"\"\"\n",
       "                           Logit Regression Results                           \n",
       "==============================================================================\n",
       "Dep. Variable:                Default   No. Observations:                98004\n",
       "Model:                          Logit   Df Residuals:                    97993\n",
       "Method:                           MLE   Df Model:                           10\n",
       "Date:                Thu, 24 Aug 2023   Pseudo R-squ.:                 0.01649\n",
       "Time:                        22:41:48   Log-Likelihood:                -27013.\n",
       "converged:                       True   LL-Null:                       -27466.\n",
       "Covariance Type:            nonrobust   LLR p-value:                3.826e-188\n",
       "======================================================================================\n",
       "                         coef    std err          z      P>|z|      [0.025      0.975]\n",
       "--------------------------------------------------------------------------------------\n",
       "const                 -2.6736      0.045    -59.838      0.000      -2.761      -2.586\n",
       "Car_Owned             -0.3033      0.027    -11.059      0.000      -0.357      -0.250\n",
       "Payment_to_Income      0.0079      0.001      5.262      0.000       0.005       0.011\n",
       "Graduation dropout     0.4883      0.070      6.935      0.000       0.350       0.626\n",
       "Junior secondary       0.6782      0.102      6.636      0.000       0.478       0.879\n",
       "Post Grad             -1.0678      1.010     -1.057      0.291      -3.048       0.912\n",
       "Secondary              0.5927      0.033     17.956      0.000       0.528       0.657\n",
       "S                      0.2244      0.032      7.089      0.000       0.162       0.286\n",
       "W                     -0.1794      0.060     -2.978      0.003      -0.298      -0.061\n",
       "Male                  -0.4890      0.026    -18.744      0.000      -0.540      -0.438\n",
       "Other                 -0.3367      0.087     -3.872      0.000      -0.507      -0.166\n",
       "======================================================================================\n",
       "\"\"\""
      ]
     },
     "execution_count": 33,
     "metadata": {},
     "output_type": "execute_result"
    }
   ],
   "source": [
    "# Dropping 'Active_Loan' as an independent variable\n",
    "x.drop('Active_Loan', axis=1, inplace=True)\n",
    "\n",
    "Logit_model = sm.Logit(y, sm.add_constant(x)).fit()\n",
    "Logit_model.summary()"
   ]
  },
  {
   "cell_type": "code",
   "execution_count": 34,
   "id": "d188a712",
   "metadata": {},
   "outputs": [
    {
     "name": "stdout",
     "output_type": "stream",
     "text": [
      "Optimization terminated successfully.\n",
      "         Current function value: 0.275642\n",
      "         Iterations 7\n"
     ]
    },
    {
     "data": {
      "text/html": [
       "<table class=\"simpletable\">\n",
       "<caption>Logit Regression Results</caption>\n",
       "<tr>\n",
       "  <th>Dep. Variable:</th>        <td>Default</td>     <th>  No. Observations:  </th>   <td> 98004</td>  \n",
       "</tr>\n",
       "<tr>\n",
       "  <th>Model:</th>                 <td>Logit</td>      <th>  Df Residuals:      </th>   <td> 97994</td>  \n",
       "</tr>\n",
       "<tr>\n",
       "  <th>Method:</th>                 <td>MLE</td>       <th>  Df Model:          </th>   <td>     9</td>  \n",
       "</tr>\n",
       "<tr>\n",
       "  <th>Date:</th>            <td>Thu, 24 Aug 2023</td> <th>  Pseudo R-squ.:     </th>   <td>0.01646</td> \n",
       "</tr>\n",
       "<tr>\n",
       "  <th>Time:</th>                <td>22:41:49</td>     <th>  Log-Likelihood:    </th>  <td> -27014.</td> \n",
       "</tr>\n",
       "<tr>\n",
       "  <th>converged:</th>             <td>True</td>       <th>  LL-Null:           </th>  <td> -27466.</td> \n",
       "</tr>\n",
       "<tr>\n",
       "  <th>Covariance Type:</th>     <td>nonrobust</td>    <th>  LLR p-value:       </th> <td>8.236e-189</td>\n",
       "</tr>\n",
       "</table>\n",
       "<table class=\"simpletable\">\n",
       "<tr>\n",
       "           <td></td>             <th>coef</th>     <th>std err</th>      <th>z</th>      <th>P>|z|</th>  <th>[0.025</th>    <th>0.975]</th>  \n",
       "</tr>\n",
       "<tr>\n",
       "  <th>const</th>              <td>   -2.6753</td> <td>    0.045</td> <td>  -59.895</td> <td> 0.000</td> <td>   -2.763</td> <td>   -2.588</td>\n",
       "</tr>\n",
       "<tr>\n",
       "  <th>Car_Owned</th>          <td>   -0.3032</td> <td>    0.027</td> <td>  -11.056</td> <td> 0.000</td> <td>   -0.357</td> <td>   -0.249</td>\n",
       "</tr>\n",
       "<tr>\n",
       "  <th>Payment_to_Income</th>  <td>    0.0079</td> <td>    0.001</td> <td>    5.264</td> <td> 0.000</td> <td>    0.005</td> <td>    0.011</td>\n",
       "</tr>\n",
       "<tr>\n",
       "  <th>Graduation dropout</th> <td>    0.4899</td> <td>    0.070</td> <td>    6.959</td> <td> 0.000</td> <td>    0.352</td> <td>    0.628</td>\n",
       "</tr>\n",
       "<tr>\n",
       "  <th>Junior secondary</th>   <td>    0.6799</td> <td>    0.102</td> <td>    6.652</td> <td> 0.000</td> <td>    0.480</td> <td>    0.880</td>\n",
       "</tr>\n",
       "<tr>\n",
       "  <th>Secondary</th>          <td>    0.5943</td> <td>    0.033</td> <td>   18.013</td> <td> 0.000</td> <td>    0.530</td> <td>    0.659</td>\n",
       "</tr>\n",
       "<tr>\n",
       "  <th>S</th>                  <td>    0.2244</td> <td>    0.032</td> <td>    7.090</td> <td> 0.000</td> <td>    0.162</td> <td>    0.286</td>\n",
       "</tr>\n",
       "<tr>\n",
       "  <th>W</th>                  <td>   -0.1794</td> <td>    0.060</td> <td>   -2.978</td> <td> 0.003</td> <td>   -0.298</td> <td>   -0.061</td>\n",
       "</tr>\n",
       "<tr>\n",
       "  <th>Male</th>               <td>   -0.4890</td> <td>    0.026</td> <td>  -18.742</td> <td> 0.000</td> <td>   -0.540</td> <td>   -0.438</td>\n",
       "</tr>\n",
       "<tr>\n",
       "  <th>Other</th>              <td>   -0.3366</td> <td>    0.087</td> <td>   -3.871</td> <td> 0.000</td> <td>   -0.507</td> <td>   -0.166</td>\n",
       "</tr>\n",
       "</table>"
      ],
      "text/plain": [
       "<class 'statsmodels.iolib.summary.Summary'>\n",
       "\"\"\"\n",
       "                           Logit Regression Results                           \n",
       "==============================================================================\n",
       "Dep. Variable:                Default   No. Observations:                98004\n",
       "Model:                          Logit   Df Residuals:                    97994\n",
       "Method:                           MLE   Df Model:                            9\n",
       "Date:                Thu, 24 Aug 2023   Pseudo R-squ.:                 0.01646\n",
       "Time:                        22:41:49   Log-Likelihood:                -27014.\n",
       "converged:                       True   LL-Null:                       -27466.\n",
       "Covariance Type:            nonrobust   LLR p-value:                8.236e-189\n",
       "======================================================================================\n",
       "                         coef    std err          z      P>|z|      [0.025      0.975]\n",
       "--------------------------------------------------------------------------------------\n",
       "const                 -2.6753      0.045    -59.895      0.000      -2.763      -2.588\n",
       "Car_Owned             -0.3032      0.027    -11.056      0.000      -0.357      -0.249\n",
       "Payment_to_Income      0.0079      0.001      5.264      0.000       0.005       0.011\n",
       "Graduation dropout     0.4899      0.070      6.959      0.000       0.352       0.628\n",
       "Junior secondary       0.6799      0.102      6.652      0.000       0.480       0.880\n",
       "Secondary              0.5943      0.033     18.013      0.000       0.530       0.659\n",
       "S                      0.2244      0.032      7.090      0.000       0.162       0.286\n",
       "W                     -0.1794      0.060     -2.978      0.003      -0.298      -0.061\n",
       "Male                  -0.4890      0.026    -18.742      0.000      -0.540      -0.438\n",
       "Other                 -0.3366      0.087     -3.871      0.000      -0.507      -0.166\n",
       "======================================================================================\n",
       "\"\"\""
      ]
     },
     "execution_count": 34,
     "metadata": {},
     "output_type": "execute_result"
    }
   ],
   "source": [
    "# Dropping 'Post Grad' as an independent variable\n",
    "x.drop('Post Grad', axis=1, inplace=True)\n",
    "\n",
    "Logit_model = sm.Logit(y, sm.add_constant(x)).fit()\n",
    "Logit_model.summary()"
   ]
  },
  {
   "cell_type": "code",
   "execution_count": 35,
   "id": "6a72d6e1",
   "metadata": {},
   "outputs": [
    {
     "data": {
      "text/plain": [
       "0.9193910452634586"
      ]
     },
     "execution_count": 35,
     "metadata": {},
     "output_type": "execute_result"
    }
   ],
   "source": [
    "#checking model accuracy again\n",
    "model = LogisticRegression(solver='liblinear', random_state=0)\n",
    "model.fit(x, y)\n",
    "LogisticRegression(C=1.0, class_weight=None, dual=False, fit_intercept=True,\n",
    "                  intercept_scaling=1, l1_ratio=None, max_iter=100,\n",
    "                  multi_class='warn', n_jobs=None, penalty='l2',\n",
    "                  random_state=0, solver='liblinear', tol=0.0001, verbose=0,\n",
    "                  warm_start=False)\n",
    "model.classes_\n",
    "model.intercept_\n",
    "model.coef_\n",
    "model.predict_proba(x)\n",
    "model.predict(x)\n",
    "model.score(x, y)"
   ]
  },
  {
   "cell_type": "code",
   "execution_count": 36,
   "id": "6b381291",
   "metadata": {},
   "outputs": [
    {
     "data": {
      "text/plain": [
       "array([[90104,     0],\n",
       "       [ 7900,     0]], dtype=int64)"
      ]
     },
     "execution_count": 36,
     "metadata": {},
     "output_type": "execute_result"
    }
   ],
   "source": [
    "#creating confusion matrix\n",
    "linear_regress = LinearRegression()\n",
    "linear_regress.fit(x, y)\n",
    "LinearRegression(fit_intercept=True, copy_X=True, n_jobs=None)\n",
    "y_pred = linear_regress.predict(x)\n",
    "model.classes_\n",
    "model.intercept_\n",
    "model.coef_\n",
    "model.predict_proba(x)\n",
    "\n",
    "model.predict(x)\n",
    "model.score(x, y)\n",
    "confusion_matrix(y, model.predict(x))"
   ]
  },
  {
   "cell_type": "code",
   "execution_count": 37,
   "id": "ee017971",
   "metadata": {},
   "outputs": [
    {
     "data": {
      "image/png": "[encoded data removed]",
      "text/plain": [
       "<Figure size 640x480 with 2 Axes>"
      ]
     },
     "metadata": {},
     "output_type": "display_data"
    }
   ],
   "source": [
    "#creating confusion matrix chart\n",
    "confusion_matrix = confusion_matrix(y, model.predict(x))\n",
    "\n",
    "cm_display = metrics.ConfusionMatrixDisplay(confusion_matrix = confusion_matrix, display_labels=[True, False])\n",
    "\n",
    "cm_display.plot()\n",
    "plt.show()"
   ]
  },
  {
   "cell_type": "code",
   "execution_count": 38,
   "id": "9b243899",
   "metadata": {},
   "outputs": [
    {
     "name": "stdout",
     "output_type": "stream",
     "text": [
      "The accuracy calculation is 91.9%.\n"
     ]
    }
   ],
   "source": [
    "print(f'The accuracy calculation is {round(model.score(x, y)*100,1)}%.')"
   ]
  },
  {
   "cell_type": "markdown",
   "id": "8e73061e",
   "metadata": {},
   "source": [
    "### PART IV: ANALYSIS"
   ]
  },
  {
   "cell_type": "markdown",
   "id": "6de75905",
   "metadata": {},
   "source": [
    "#### D. Analysis<a id='d'></a>\n",
    "\n",
    "Prior to any model reduction, my inital model had a model accuracy of 91.9%, but the model failed to converge.  For the first round of model reduction, I used variable inflaction factor to check for multicollinearity.  From this analysis, `Age_Days` was the only feature removed since it had VIF values higher than 10.  After dropping `Age_Days`, I checked VIF values again but this time all values were less than 10, so I stopped reducing my model based on VIF.\n",
    "\n",
    "Next, I analyzed the data using the Logit Regression Results method.  I iterated the logit method and removed the independent variable with the highest p-value each time.  Here is an ordered lists of the variables, along with its p-value, I removed on each iteration:\n",
    "\n",
    "<ul>\n",
    "    <li>XNA: p-value 0.970</li>\n",
    "    <li>House_Own: p-value 0.951</li>\n",
    "    <li>M: p-value 0.756</li>\n",
    "    <li>Active_Loan: p-value 0.350</li>\n",
    "    <li>Post Grad: p-value 0.291</li>\n",
    "</ul>\n",
    "\n",
    "After removing the five independent variables above, I had my reduced model.  Based on the logistic regression score,  the reduced model's accuracy score remained the same at 91.9%, but now the model converged.  The 91.9% is confirmed in confusion matrix.\n",
    "\n",
    "I  used `variance inflaction factor` from `statsmodels` to reduce my model.  An advantage is that it's relatively easy to run the code and reduce the features in the model.  However, a disadvantage is that it's a very manual process. I run VIF and have to look for the highest VIF to eliminate and re-run VIF.  The manual nature of this process makes it extremely easy for there to be human error.  If I erroneously eliminate a feature, this could impact the model and the analysis results."
   ]
  },
  {
   "cell_type": "markdown",
   "id": "f930c316",
   "metadata": {},
   "source": [
    "### PART V: DATA SUMMARY AND IMPLICATIONS"
   ]
  },
  {
   "cell_type": "markdown",
   "id": "2f9e411c",
   "metadata": {},
   "source": [
    "#### E. Summary and Implications<a id='e'></a>\n",
    "\n",
    "In the initial model I had 15 explanatory variables, and in the reduced model I had 9 explanatory variables. The log-likelihood of the initial model was -26728, and -27014 in the reduced model. Since the initial model has the higher log-likelihood value, this suggest that the initial model is the better fit for the data.\n",
    "\n",
    "Both models had identical LL-Null values (-27466) and a very small LLRp-value, and similar Pseudo R-Squred values .\n",
    "\n",
    "Both models had an accuracy score of 91.9%.\n",
    "\n",
    "Based on the Logit Regression Results, the regression equation would be:\n",
    "\n",
    "y = -2.6753 - 0.3032*(Car_Owned) + 0.0079*(Payment_to_Income) + 0.4899*(Graduation dropout) + 0.6799*(Junior secondary) + 0.5943*(Secondary) + 0.2244*(S) - 0.1794*(W) - 0.4890*(Male) - 0.3366*(Other).\n",
    "\n",
    "If all else is kept constant, the coefficients indicates that:\n",
    "\n",
    "<ul>\n",
    "    <li>The ‘Car_Owned’ coefficient tells us that customers who own cars have a lower probability of default.</li>\n",
    "    <li>The ‘Payment_to_Income’ coefficient tell us that customers with higher PTI have higher probability of default.</li>\n",
    "    <li>The ‘Graduation dropout’ coefficient tell us that customer who dropped out have a higher probability of default.</li>\n",
    "    <li>The ‘Junior secondary’ coefficient tells us that customers with the highest level of education of junior secondary have a higher probability of default.</li>\n",
    "    <li>The ‘Secondary’ coefficient tells us that customers with the highest level of education of secondary have a higher probability of default.</li>\n",
    "    <li>The ‘S’ coefficient tells us that customers who are single have a higher probability of default.</li>\n",
    "    <li>The ‘W’ coefficient tells us that customers who are widowed have a lower probability of default.</li>\n",
    "    <li>The ‘Male’ coefficient tells us that customers who identify as male have a lower probability of default.</li>\n",
    "    <li>The ‘Other’ coefficient tells us that customers who identify as other have a lower probability of default.</li>\n",
    "</ul>\n",
    "\n",
    "Based on the reduced model's Pseudo R-Squared value of 0.01646, the model has very low statistical significance.  This implies that the selected explanatory variables used in the reduced regression model don't appropriately model the data.\n",
    "\n",
    "However, the statistical insignificance doesn't imply practical triviality.  Based on the y-intercept, it doesn't make sense that before any variables are taken into account, the customer is highly unlikely to default when most of the independent variables increase default probability.  The model nonsensically applies that Payment_to_Income has the most negligible impact on the likelihood of default when it is one of the more significant predictors of default.\n",
    "\n",
    "A limitation of this data analysis is that more information is needed.  Very few customers had loan defaults, so any model will predict that the loan will not default and most likely get it correct.  Better definitions are needed on what the data has.  For example, it's not clear if `Client_Income` is a monthly figure.\n",
    "\n",
    "Based on the default frequency in the data, the lender appears to be risk-averse.  More data is needed on loans that default to create a model that can better predict the likelihood of default.  One direction the financial institution could pursue is adding the actual credit score to the data and creating score buckets to asses risk separately.  In the 600-640 range, perhaps the main predictor of default is PTI, but in the 700+ score range, it's the average credit age.  More granularity within buckets helps the financial institution predict defaults more accurately, which results in more accurate loss estimation and lower rates in the tiers where losses are expected to be less.\n",
    "\n",
    "Another direction the financial institution could take is that if the data set is representative of their current lending practices, the results suggest that the financial institution can take on more risk.  More risk usually results in higher yields.  If the institution can create a model that better predicts an applicant's creditworthiness, the result would be mitigating the risk on the front end, before the loan originates, and capturing a higher yielding loan by approving and funding loans in the lower credit score space.  The result would be that the lender uses data analytics to make better decisions when the loan's risk increases."
   ]
  },
  {
   "cell_type": "markdown",
   "id": "0c9d4054",
   "metadata": {},
   "source": [
    "#### F. Sources<a id='f'></a>\n",
    "\n",
    "Meastanmay (n.d.).  <i>NBFI Vehicle Loan repayment Dataset</i>.  Kaggle.\n",
    "    </br>&emsp;&emsp;Retrieved August 21, 2023 from https://www.kaggle.com/datasets/meastanmay/nbfi-vehicle-loan-repayment-dataset\n",
    "    \n",
    "Middleton, Dr. Keiona (2022). D208 - Webinar: Getting Started with D208 Part I (November 2022) [Webinar].\n",
    "    </br>&emsp;&emsp;Western Governors University. https://wgu.hosted.panopto.com/Panopto/Pages/Viewer.aspx?id=15e09c73-c5aa-439d-852f-af47001b8970\n",
    "\n",
    "Middleton, Dr. Keiona (2022). D208 - Webinar: Getting Started with D208 Part II (November) [Webinar].\n",
    "    </br>&emsp;&emsp;Western Governors University. https://wgu.hosted.panopto.com/Panopto/Pages/Viewer.aspx?id=39bbe2db-de7d-4bf5-913b-af5c0003da9d\n",
    "\n",
    "Sewell, Dr. William (2017). Dr. Sewell D208_Predictive_Modeling_Webinar_Episode 1t [PowerPoint Slide 27].\n",
    "    </br>&emsp;&emsp;Western Governors University. https://westerngovernorsuniversity.sharepoint.com/sites/DataScienceTeam/Shared%20Documents/Forms/AllItems.aspx?csf=1&web=1&e=9ccodm&cid=b8189c62%2D0063%2D4435%2Db439%2D04b9108b3e81&RootFolder=%2Fsites%2FDataScienceTeam%2FShared%20Documents%2FGraduate%20Team%2FD208%2FStudent%20Facing%20Resources&FolderCTID=0x01200022092E63FD85A64A8ABFB4F5AEA4839A\n",
    "    \n",
    "W3Schools (Unknown). Machine Learning - Confusion Matrix.\n",
    "    </br>&emsp;&emsp;Retrieved July 22, 2023, from https://www.w3schools.com/python/python_ml_confusion_matrix.asp#:~:text=In%20order%20to%20create%20the,metrics%20from%20the%20sklearn%20module.&text=Once%20metrics%20is%20imported%20we,our%20actual%20and%20predicted%20values.&text=To%20create%20a%20more%20interpretable,into%20a%20confusion%20matrix%20display."
   ]
  }
 ],
 "metadata": {
  "kernelspec": {
   "display_name": "Python 3 (ipykernel)",
   "language": "python",
   "name": "python3"
  },
  "language_info": {
   "codemirror_mode": {
    "name": "ipython",
    "version": 3
   },
   "file_extension": ".py",
   "mimetype": "text/x-python",
   "name": "python",
   "nbconvert_exporter": "python",
   "pygments_lexer": "ipython3",
   "version": "3.10.11"
  }
 },
 "nbformat": 4,
 "nbformat_minor": 5
}
