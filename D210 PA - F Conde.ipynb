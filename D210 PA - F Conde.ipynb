{
 "cells": [
  {
   "cell_type": "markdown",
   "id": "cd169e96",
   "metadata": {},
   "source": [
    "# D210 - Representation and Reporting Performance Assessment\n",
    "\n",
    "Assignment Completed by Favio Conde and Submitted August 2, 2023 for WGU - MSDA"
   ]
  },
  {
   "cell_type": "markdown",
   "id": "28e0cc8f",
   "metadata": {},
   "source": [
    "### Table of Contents\n",
    "\n",
    "#### Part I: Interactive Data Dashboard\n",
    "<ul>\n",
    "    <li><a href='#a1'>A1: Data Sets</a></li>\n",
    "    <li><a href='#a2'>A2: Installation Instructions</a></li>\n",
    "    <li><a href='#a3'>A3: Navigation Instructions</a></li>\n",
    "</ul>\n",
    " \n",
    "#### Part II: Storytelling with Data\n",
    "<ul>\n",
    "    <li><a href='#b'>B. Panopto Video Recording</a></li>\n",
    "</ul> \n",
    "\n",
    "#### Part III: Reflection Paper\n",
    "<ul>\n",
    "    <li><a href='#c1'>C1: Dashboard Alignment</a></li>\n",
    "    <li><a href='#c2'>C2: Additional Data Set Insights</a></li>\n",
    "    <li><a href='#c3'>C3: Decision-Making Support</a></li>\n",
    "    <li><a href='#c4'>C4: Interactive Controls</a></li>\n",
    "    <li><a href='#c5'>C5: Colorblindness</a></li>\n",
    "    <li><a href='#c6'>C6: Data Representations</a></li>\n",
    "    <li><a href='#c7'>C7: Audience Analysis</a></li>\n",
    "    <li><a href='#c8'>C8: Universal Access</a></li>\n",
    "    <li><a href='#c9'>C9: Effective Storytelling</a></li>\n",
    "</ul>\n",
    "\n",
    "#### Part IV: Sources\n",
    "<ul>\n",
    "    <li><a href='#d'>D. Third-Party Code Reference</a></li>\n",
    "    <li><a href='#e'>E. Sources</a></li>\n",
    "</ul>"
   ]
  },
  {
   "cell_type": "markdown",
   "id": "d91da6b9",
   "metadata": {},
   "source": [
    "### PART I: INTERACTIVE DATA DASHBOARD"
   ]
  },
  {
   "cell_type": "markdown",
   "id": "a85ac60a",
   "metadata": {},
   "source": [
    "#### A1. Data Sets<a id='a1'></a>\n",
    "\n",
    "For this assignment, I used one of the available WGU datasets and a dataset found on Kaggle's website.\n",
    "\n",
    "The two datasets are:\n",
    "\n",
    "<ul>\n",
    "    <li>Kaggle: Diabetes Prediction Dataset (<a href=\"https://www.kaggle.com/datasets/iammustafatz/diabetes-prediction-dataset\">Link</a>)</li>\n",
    "    <li>WGU: Medical Dataset</li>\n",
    "</ul>\n",
    "\n",
    "In preparation for the Tableau portion of the assignment, I imported both datasets and normalized them using Python.\n",
    "\n",
    "In Jupyter Notebook I started off by importing the following libraries:\n",
    "\n",
    "<ul>\n",
    "    <li>NumPy</li>\n",
    "    <li>Pandas</li>\n",
    "    <li>Matplotlib</li>\n",
    "    <li>Seaborn</li>\n",
    "</ul>\n",
    "\n",
    "I familiarized myself with both datasets by inspecting each dataframe using `.shape` and `.info()` to see how many rows and columns and the data types of each column.  In the next step, I checked for null values; neither dataset had null values, so I did not use any method to impute missing values.  While checking for duplicates, I found that the Kaggle dataset had 3,854 duplicates, so I dropped them from the dataset.\n",
    "\n",
    "In order to normalize the datasets, I kept only the following columns:\n",
    "\n",
    "<ul>\n",
    "    <li>Gender</li>\n",
    "    <li>Age</li>\n",
    "    <li>HighBlood</li>\n",
    "    <li>Diabetes</li>\n",
    "</ul>\n",
    "\n",
    "Additionally, I updated the names in the Kaggle dataset to match the format and column names of the WGU dataset.  In the Kaggle data, I changed `Age` to integer, `High_Blood` and `Diabetes` to category.  The next step in normalizing the data was to change `Other` in `Gender` to `Nonbinary`.  The last step in normalizing the data was to encode `High_Blood` and `Diabetes` in the Kaggle dataset to `0`/`1` from `No`/`Yes`.\n",
    "\n",
    "There was a mismatch in the `Age` range from both datasets; WGU's lower range was 18, and Kaggle's was 1, and WGU's maximum age value was 89, and Kaggle's was 79.  I removed the ages to have only ages appearing in both datasets left.\n",
    "\n",
    "I exported each dataset to a CSV, then merged both and exported to a CSV.  The merged file is what I imported into Tableau.\n",
    "\n",
    "Please find the code explained in this section below."
   ]
  },
  {
   "cell_type": "code",
   "execution_count": 1,
   "id": "08aaf953",
   "metadata": {
    "scrolled": true
   },
   "outputs": [
    {
     "name": "stdout",
     "output_type": "stream",
     "text": [
      "-------------------------------------\n",
      "WGU Dataset: 10000 Rows, 50 Columns\n",
      "-------------------------------------\n",
      "Kaggle Dataset: 100000 Rows, 9 Columns\n",
      "-------------------------------------\n"
     ]
    }
   ],
   "source": [
    "# Importing packages\n",
    "import numpy as np\n",
    "import pandas as pd\n",
    "import matplotlib as plt\n",
    "import seaborn as sns\n",
    "\n",
    "# Output display settings\n",
    "pd.set_option('display.max_columns', None)\n",
    "\n",
    "# Importing medical_clean.csv file into Jupyter\n",
    "wgu = pd.read_csv(r'Files\\WGU\\medical_clean.csv')\n",
    "kaggle = pd.read_csv(r'Files\\Kaggle\\diabetes_prediction_dataset.csv')\n",
    "\n",
    "print('-'*37)\n",
    "print(f'WGU Dataset: {wgu.shape[0]} Rows, {wgu.shape[1]} Columns')\n",
    "print('-'*37)\n",
    "print(f'Kaggle Dataset: {kaggle.shape[0]} Rows, {kaggle.shape[1]} Columns')\n",
    "print('-'*37)"
   ]
  },
  {
   "cell_type": "code",
   "execution_count": 2,
   "id": "918558cb",
   "metadata": {
    "scrolled": true
   },
   "outputs": [
    {
     "name": "stdout",
     "output_type": "stream",
     "text": [
      "<class 'pandas.core.frame.DataFrame'>\n",
      "RangeIndex: 10000 entries, 0 to 9999\n",
      "Data columns (total 50 columns):\n",
      " #   Column              Non-Null Count  Dtype  \n",
      "---  ------              --------------  -----  \n",
      " 0   CaseOrder           10000 non-null  int64  \n",
      " 1   Customer_id         10000 non-null  object \n",
      " 2   Interaction         10000 non-null  object \n",
      " 3   UID                 10000 non-null  object \n",
      " 4   City                10000 non-null  object \n",
      " 5   State               10000 non-null  object \n",
      " 6   County              10000 non-null  object \n",
      " 7   Zip                 10000 non-null  int64  \n",
      " 8   Lat                 10000 non-null  float64\n",
      " 9   Lng                 10000 non-null  float64\n",
      " 10  Population          10000 non-null  int64  \n",
      " 11  Area                10000 non-null  object \n",
      " 12  TimeZone            10000 non-null  object \n",
      " 13  Job                 10000 non-null  object \n",
      " 14  Children            10000 non-null  int64  \n",
      " 15  Age                 10000 non-null  int64  \n",
      " 16  Income              10000 non-null  float64\n",
      " 17  Marital             10000 non-null  object \n",
      " 18  Gender              10000 non-null  object \n",
      " 19  ReAdmis             10000 non-null  object \n",
      " 20  VitD_levels         10000 non-null  float64\n",
      " 21  Doc_visits          10000 non-null  int64  \n",
      " 22  Full_meals_eaten    10000 non-null  int64  \n",
      " 23  vitD_supp           10000 non-null  int64  \n",
      " 24  Soft_drink          10000 non-null  object \n",
      " 25  Initial_admin       10000 non-null  object \n",
      " 26  HighBlood           10000 non-null  object \n",
      " 27  Stroke              10000 non-null  object \n",
      " 28  Complication_risk   10000 non-null  object \n",
      " 29  Overweight          10000 non-null  object \n",
      " 30  Arthritis           10000 non-null  object \n",
      " 31  Diabetes            10000 non-null  object \n",
      " 32  Hyperlipidemia      10000 non-null  object \n",
      " 33  BackPain            10000 non-null  object \n",
      " 34  Anxiety             10000 non-null  object \n",
      " 35  Allergic_rhinitis   10000 non-null  object \n",
      " 36  Reflux_esophagitis  10000 non-null  object \n",
      " 37  Asthma              10000 non-null  object \n",
      " 38  Services            10000 non-null  object \n",
      " 39  Initial_days        10000 non-null  float64\n",
      " 40  TotalCharge         10000 non-null  float64\n",
      " 41  Additional_charges  10000 non-null  float64\n",
      " 42  Item1               10000 non-null  int64  \n",
      " 43  Item2               10000 non-null  int64  \n",
      " 44  Item3               10000 non-null  int64  \n",
      " 45  Item4               10000 non-null  int64  \n",
      " 46  Item5               10000 non-null  int64  \n",
      " 47  Item6               10000 non-null  int64  \n",
      " 48  Item7               10000 non-null  int64  \n",
      " 49  Item8               10000 non-null  int64  \n",
      "dtypes: float64(7), int64(16), object(27)\n",
      "memory usage: 3.8+ MB\n",
      "None\n",
      "----------------------------------------------------------------------------------------------------\n",
      "<class 'pandas.core.frame.DataFrame'>\n",
      "RangeIndex: 100000 entries, 0 to 99999\n",
      "Data columns (total 9 columns):\n",
      " #   Column               Non-Null Count   Dtype  \n",
      "---  ------               --------------   -----  \n",
      " 0   gender               100000 non-null  object \n",
      " 1   age                  100000 non-null  float64\n",
      " 2   hypertension         100000 non-null  int64  \n",
      " 3   heart_disease        100000 non-null  int64  \n",
      " 4   smoking_history      100000 non-null  object \n",
      " 5   bmi                  100000 non-null  float64\n",
      " 6   HbA1c_level          100000 non-null  float64\n",
      " 7   blood_glucose_level  100000 non-null  int64  \n",
      " 8   diabetes             100000 non-null  int64  \n",
      "dtypes: float64(3), int64(4), object(2)\n",
      "memory usage: 6.9+ MB\n",
      "None\n"
     ]
    }
   ],
   "source": [
    "#Inspecting columns and notate common columns\n",
    "print(wgu.info())\n",
    "print('-'*100)\n",
    "print(kaggle.info())"
   ]
  },
  {
   "cell_type": "code",
   "execution_count": 3,
   "id": "03a8459d",
   "metadata": {},
   "outputs": [
    {
     "name": "stdout",
     "output_type": "stream",
     "text": [
      "Null Value Check\n",
      "-------------------------\n",
      "CaseOrder             0\n",
      "Customer_id           0\n",
      "Interaction           0\n",
      "UID                   0\n",
      "City                  0\n",
      "State                 0\n",
      "County                0\n",
      "Zip                   0\n",
      "Lat                   0\n",
      "Lng                   0\n",
      "Population            0\n",
      "Area                  0\n",
      "TimeZone              0\n",
      "Job                   0\n",
      "Children              0\n",
      "Age                   0\n",
      "Income                0\n",
      "Marital               0\n",
      "Gender                0\n",
      "ReAdmis               0\n",
      "VitD_levels           0\n",
      "Doc_visits            0\n",
      "Full_meals_eaten      0\n",
      "vitD_supp             0\n",
      "Soft_drink            0\n",
      "Initial_admin         0\n",
      "HighBlood             0\n",
      "Stroke                0\n",
      "Complication_risk     0\n",
      "Overweight            0\n",
      "Arthritis             0\n",
      "Diabetes              0\n",
      "Hyperlipidemia        0\n",
      "BackPain              0\n",
      "Anxiety               0\n",
      "Allergic_rhinitis     0\n",
      "Reflux_esophagitis    0\n",
      "Asthma                0\n",
      "Services              0\n",
      "Initial_days          0\n",
      "TotalCharge           0\n",
      "Additional_charges    0\n",
      "Item1                 0\n",
      "Item2                 0\n",
      "Item3                 0\n",
      "Item4                 0\n",
      "Item5                 0\n",
      "Item6                 0\n",
      "Item7                 0\n",
      "Item8                 0\n",
      "dtype: int64\n",
      "-------------------------\n",
      "gender                 0\n",
      "age                    0\n",
      "hypertension           0\n",
      "heart_disease          0\n",
      "smoking_history        0\n",
      "bmi                    0\n",
      "HbA1c_level            0\n",
      "blood_glucose_level    0\n",
      "diabetes               0\n",
      "dtype: int64\n",
      "----------------------------------------------------------------------------------------------------\n",
      "Duplicate Check\n",
      "---------------\n",
      "False    10000\n",
      "dtype: int64\n",
      "---------------\n",
      "False    96146\n",
      "True      3854\n",
      "dtype: int64\n",
      "----------------------------------------------------------------------------------------------------\n"
     ]
    }
   ],
   "source": [
    "#Checking null values and duplicates\n",
    "print('Null Value Check')\n",
    "print('-'*25)\n",
    "print(wgu.isnull().sum())\n",
    "print('-'*25)\n",
    "print(kaggle.isnull().sum())\n",
    "print('-'*100)\n",
    "print('Duplicate Check')\n",
    "print('-'*15)\n",
    "print(wgu.duplicated().value_counts())\n",
    "print('-'*15)\n",
    "print(kaggle.duplicated().value_counts())\n",
    "print('-'*100)"
   ]
  },
  {
   "cell_type": "code",
   "execution_count": 4,
   "id": "54dfa3f5",
   "metadata": {},
   "outputs": [
    {
     "name": "stdout",
     "output_type": "stream",
     "text": [
      "False    96146\n",
      "dtype: int64\n"
     ]
    }
   ],
   "source": [
    "#Dropping duplicates from Kaggle dataset\n",
    "kaggle.drop_duplicates(inplace=True)\n",
    "print(kaggle.duplicated().value_counts())"
   ]
  },
  {
   "cell_type": "code",
   "execution_count": 5,
   "id": "456b8ab5",
   "metadata": {},
   "outputs": [],
   "source": [
    "#Normalizing data between both datasets\n",
    "wgu = wgu[['Gender', 'Age', 'HighBlood', 'Diabetes']]\n",
    "kaggle = kaggle[['gender', 'age', 'hypertension', 'diabetes']]\n",
    "\n",
    "#Normalizing column names between both datasets\n",
    "kaggle.rename(columns={'gender': 'Gender'}, inplace=True)\n",
    "kaggle.rename(columns={'age': 'Age'}, inplace=True)\n",
    "kaggle.rename(columns={'hypertension': 'High_Blood'}, inplace=True)\n",
    "kaggle.rename(columns={'diabetes': 'Diabetes'}, inplace=True)\n",
    "wgu.rename(columns={'HighBlood': 'High_Blood'}, inplace=True)\n",
    "\n",
    "\n",
    "#Changing data types\n",
    "kaggle['Age'] = kaggle['Age'].astype('int')\n",
    "kaggle['High_Blood'] = kaggle['High_Blood'].astype('category')\n",
    "kaggle['Diabetes'] = kaggle['Diabetes'].astype('category')\n",
    "\n",
    "\n",
    "#Changing Kaggle's dataset from 'Other' to 'Nonbinary' to match WGU dataset\n",
    "kaggle['Gender'] = kaggle['Gender'].replace('Other', 'Nonbinary')"
   ]
  },
  {
   "cell_type": "code",
   "execution_count": 7,
   "id": "c5481b45",
   "metadata": {},
   "outputs": [],
   "source": [
    "#Encoding Kaggle's data from 'Yes'/'No' to '1'/'0' to match WGU's dataset\n",
    "kaggle['High_Blood'] = kaggle['High_Blood'].map({1:'Yes',0: 'No'})\n",
    "kaggle['Diabetes'] = kaggle['Diabetes'].map({1:'Yes',0: 'No'})\n"
   ]
  },
  {
   "cell_type": "code",
   "execution_count": 8,
   "id": "7c56dd9a",
   "metadata": {},
   "outputs": [
    {
     "name": "stdout",
     "output_type": "stream",
     "text": [
      "--------------------------------------\n",
      "WGU Dataset: 10000 Rows, 4 Columns\n",
      "--------------------------------------\n",
      "Kaggle Dataset: 96146 Rows, 4 Columns\n",
      "--------------------------------------\n"
     ]
    }
   ],
   "source": [
    "#Checking data after normalizing data and removing duplicates\n",
    "print('-'*38)\n",
    "print(f'WGU Dataset: {wgu.shape[0]} Rows, {wgu.shape[1]} Columns')\n",
    "print('-'*38)\n",
    "print(f'Kaggle Dataset: {kaggle.shape[0]} Rows, {kaggle.shape[1]} Columns')\n",
    "print('-'*38)"
   ]
  },
  {
   "cell_type": "code",
   "execution_count": 9,
   "id": "c048bb3a",
   "metadata": {
    "scrolled": false
   },
   "outputs": [
    {
     "name": "stdout",
     "output_type": "stream",
     "text": [
      "Gender        16688\n",
      "Age           16688\n",
      "High_Blood    16688\n",
      "Diabetes      16688\n",
      "Source        16688\n",
      "dtype: int64\n"
     ]
    }
   ],
   "source": [
    "#Adding source identifying column\n",
    "wgu['Source'] = 'WGU'\n",
    "kaggle['Source'] = 'Kaggle'\n",
    "\n",
    "#Checking count from Kaggle's dataset for age < 18 or > 89\n",
    "print(kaggle[(kaggle['Age'] < 18) | (kaggle['Age'] > 89)].count())"
   ]
  },
  {
   "cell_type": "code",
   "execution_count": 10,
   "id": "89f880a4",
   "metadata": {
    "scrolled": true
   },
   "outputs": [
    {
     "data": {
      "text/plain": [
       "<Axes: xlabel='Age', ylabel='Count'>"
      ]
     },
     "execution_count": 10,
     "metadata": {},
     "output_type": "execute_result"
    },
    {
     "data": {
      "image/png": "[encoded data removed]",
      "text/plain": [
       "<Figure size 640x480 with 1 Axes>"
      ]
     },
     "metadata": {},
     "output_type": "display_data"
    }
   ],
   "source": [
    "#Checking 'Age' column for Kaggle\n",
    "sns.histplot(data=kaggle, x='Age')"
   ]
  },
  {
   "cell_type": "code",
   "execution_count": 11,
   "id": "50574655",
   "metadata": {},
   "outputs": [
    {
     "data": {
      "text/plain": [
       "Gender        21620\n",
       "Age           21620\n",
       "High_Blood    21620\n",
       "Diabetes      21620\n",
       "Source        21620\n",
       "dtype: int64"
      ]
     },
     "execution_count": 11,
     "metadata": {},
     "output_type": "execute_result"
    }
   ],
   "source": [
    "#Checking count from Kaggle's dataset for age < 18 or > 79\n",
    "kaggle[(kaggle['Age'] < 18) | (kaggle['Age'] > 79)].count()"
   ]
  },
  {
   "cell_type": "code",
   "execution_count": 12,
   "id": "be9d68ff",
   "metadata": {},
   "outputs": [],
   "source": [
    "#Dropping ages < 18 or > 79 from Kaggle's dataset to match WGU's dataset\n",
    "kaggle = kaggle.drop(index=(kaggle[(kaggle['Age'] < 18) | (kaggle['Age'] > 79)]).index)"
   ]
  },
  {
   "cell_type": "code",
   "execution_count": 13,
   "id": "650d490f",
   "metadata": {},
   "outputs": [],
   "source": [
    "#Dropping ages > 79 from WGU's dataset to match Kaggle's dataset\n",
    "wgu = wgu.drop(index=wgu[wgu['Age'] > 79].index)"
   ]
  },
  {
   "cell_type": "code",
   "execution_count": 14,
   "id": "8cc48d20",
   "metadata": {},
   "outputs": [],
   "source": [
    "#Exporting WGU and Kaggle datasets to CSV\n",
    "wgu.to_csv(r'Files\\WGU\\wgu_prepared.csv', index=False)\n",
    "kaggle.to_csv(r'Files\\Kaggle\\kaggle_prepared.csv', index=False)"
   ]
  },
  {
   "cell_type": "code",
   "execution_count": 15,
   "id": "96650246",
   "metadata": {},
   "outputs": [],
   "source": [
    "#Merge both df into one and export to CSV file\n",
    "df = pd.concat([wgu, kaggle])\n",
    "df.to_csv(r'Files/prepared_dataset.csv', index=False)"
   ]
  },
  {
   "cell_type": "markdown",
   "id": "f912b305",
   "metadata": {},
   "source": [
    "#### A2. Installation Instructions<a id='a2'></a>\n",
    "\n",
    "No installation of the dashboard is needed.  To view the dashboard, please follow the <a href=\"https://public.tableau.com/app/profile/favio.conde/viz/D210PADashboard_16909235032180/PA\">link</a> using any internet browser.  I used Tableau Public to complete the assignment, so no program installation and credentials are needed to view the dashboard."
   ]
  },
  {
   "cell_type": "markdown",
   "id": "52498437",
   "metadata": {},
   "source": [
    "#### A3. Navigation Instructions<a id='a3'></a>\n",
    "\n",
    "Once the dashboard is accessed, the user will immediately land on the `Medical Data Analysis: Diabetes & Hypertension Patient Information` dashboard, which includes two slides with information about the WGU and Kaggle datasets.  The first slide consists of KPIs across the top and graphs showing `Age County by Source`, `Table Summary`, and `Gender by Source`.  Across the top of the slide, the user can interact with the dashboard using the `Age` slider, `Condition` filter, or the `Gender` filter.\n",
    "\n",
    "To navigate to the next slide, the user can click on the grey box on the right with the description `Detailed patient information by condition`.\n",
    "\n",
    "The second slide has KPIs and information on `Condition by Age & Source` and `Condition by Source`.  This slide also has interactive sliders and filters across the top, similar to the first slide.\n",
    "\n",
    "Across the top in both slides, there are four KPIs: `# of Patients`, `% Diabetic`, `% Hypertension`, and `Avg. Patient Age`.  The description of each is below:\n",
    "\n",
    "<ul>\n",
    "    <li># of Patients: the number of patients in all of the data; impacted by selecting filters</li>\n",
    "    <li>% Diabetic: percent of diabetic patients from entire datasets; impacted by selecting filters</li>\n",
    "    <li>% Hypertension: percent of hypertension patients from entire datasets; impacted by selecting filters</li>\n",
    "    <li>Avg. Patient Age: the average patient age from entire data; impacted by selecting filters</li>\n",
    "</ul>\n",
    "\n",
    "In each slide, the graphs work as filters as well.  For example, in the first slide under `Gender by Source`, clicking on any of the pie slices acts as a filter, so if you click on the blue slice for WGU (which is the `Female` portion), then `Female` is selected as a filter.  All of the data in the slide is adjusted to include female data only."
   ]
  },
  {
   "cell_type": "markdown",
   "id": "fc1ef4a3",
   "metadata": {},
   "source": [
    "### PART II: STORYTELLING WITH DATA"
   ]
  },
  {
   "cell_type": "markdown",
   "id": "2a927b5c",
   "metadata": {},
   "source": [
    "#### B. Panopto Video Recording<a id='b'></a>\n",
    "\n",
    "<a href=\"https://wgu.hosted.panopto.com/Panopto/Pages/Viewer.aspx?id=72d46748-ddc4-459a-8146-b05200f48eda\">Video Link</a>."
   ]
  },
  {
   "cell_type": "markdown",
   "id": "0d583a57",
   "metadata": {},
   "source": [
    "### PART III: REFLECTION PAPER"
   ]
  },
  {
   "cell_type": "markdown",
   "id": "112157e7",
   "metadata": {},
   "source": [
    "#### C1. Dashboard Alignment<a id='c1'></a>\n",
    "\n",
    "The hospital aims to understand better what affects readmission to predict rates better. By investigating prevalent conditions in the population, such as diabetes and hypertension, the hospital can assess if readmission rates are affected by these conditions.\n",
    "\n",
    "Suppose the hospital determines that patients with diabetes or hypertension are more likely to be readmitted. In that case, the hospital can explore what care methods the staff should implement during a patient's initial admission to reduce the readmission rate.\n",
    "\n",
    "The dashboard allows the team to dive deeper into patients who have diabetes, hypertension, or both and see this broken down by age, gender, and source.  What is the readmission rate for older male patients with diabetes and hypertension?  The hospital will be able to see what percentage of patients fall in this category and do further research to determine if this patient profile has a high probability of readmission."
   ]
  },
  {
   "cell_type": "markdown",
   "id": "c2278daf",
   "metadata": {},
   "source": [
    "#### C2. Additional Data Set Insights<a id='c2'></a>\n",
    "\n",
    "Although Kaggle's dataset did not include new variables, it had almost eight times the number of data rows as WGU's dataset.  Having more data, I could analyze medical conditions and gender to see how common these are.\n",
    "\n",
    "A limitation we've seen with WGU's medical dataset in the past analysis is the age range from 18 to 89.  Kaggle's dataset includes data for patients less than one-year-old.  Using the combined data, I can extend my analysis into age groups I've previously been unable to."
   ]
  },
  {
   "cell_type": "markdown",
   "id": "6a860569",
   "metadata": {},
   "source": [
    "#### C3. Decision-Making Support<a id='c3'></a>\n",
    "\n",
    "Using the `Condition` drop-down filter, the executive team can quickly see important information to assist in decision-making.  The drop-down allows the user to easily view specific details about patients with a specific medical condition, and the dashboard provides pertinent information at the user's fingertip.  For example, by selecting `Diabetic`, I can see 6,980 patients with an average age of 56.16; the majority are female.\n",
    "\n",
    "In the second slide, the executive team can easily see in the `Condition by Age & Source` where the higher concentrations are of patients who have diabetes or hypertension, depending on what the user selects in the `Condition` drop-down menu."
   ]
  },
  {
   "cell_type": "markdown",
   "id": "f6dce486",
   "metadata": {},
   "source": [
    "#### C4. Interactive Controls<a id='c4'></a>\n",
    "\n",
    "The `Age Slider` allows users to laser focus their view on specific ages.  The user can adjust the age by selecting the minimum or maximum age or adjusting both extremes.  When the slider is changed, the data presented in each graph, along with the KPIs, update automatically to show information for patients within the selected age range.\n",
    "\n",
    "Similar to the `Age Slider`, the `Gender` drop-down menu allows the user to view data for the selected gender.  When the user selects a gender type in the drop-down menu, the graphs and KPIs will automatically update to show information for patients with the desired gender type."
   ]
  },
  {
   "cell_type": "markdown",
   "id": "705ebc06",
   "metadata": {},
   "source": [
    "#### C5. Colorblindness<a id='c5'></a>\n",
    "\n",
    "Kilin's article discussed the different colorblindness types and recommended color palettes.  I used Tableau's palette called `Color Blind`.  This palette includes the following colors:\n",
    "\n",
    "<ul>\n",
    "    <li>Blue Hex Code #1170AA</li>\n",
    "    <li>Light Orange Hex Code #FFBC79</li>\n",
    "    <li>Light Gray Hex Code #A3ACB9</li>\n",
    "</ul>\n",
    "\n",
    "By using colors that are friendly to individuals with colorblindness, I ensure that all viewers can adequately examine the details in the dashboard."
   ]
  },
  {
   "cell_type": "markdown",
   "id": "85098cb5",
   "metadata": {},
   "source": [
    "#### C6. Data Representations<a id='c6'></a>\n",
    "\n",
    "In the different analyses I've completed in past classes, diabetes and hypertension have been identified as variables that may be a predictor of readmission.  The `Age Count by Source` in the first slide lets me dig deeper to see how many patients have diabetes, hypertension, or both.  In past analyses, diabetes and hypertension were separate variables, but this analysis may provide insight into both conditions being strong predictors of readmission.\n",
    "\n",
    "The `Condition by Age & Source` allows me to analyze further what patients with diabetes, hypertension, or both look like.  I can see what age groups typically suffer from these medical conditions and how the readmission rates for those age groups are compared to patients who don't have these medical conditions."
   ]
  },
  {
   "cell_type": "markdown",
   "id": "a29115a5",
   "metadata": {},
   "source": [
    "#### C7. Audience Analysis<a id='c7'></a>\n",
    "\n",
    "The dataset dictionary states that my audience is the hospital's executive leadership team.  With this in mind, I purposely refrained from showing too technical information and kept the details and message broad.  I used graphs that are easy to analyze and interpret.  I also added interactive tools (i.e., filters) within the dashboard to allow the leadership team to inspect the data to view actionable information."
   ]
  },
  {
   "cell_type": "markdown",
   "id": "17201ce5",
   "metadata": {},
   "source": [
    "#### C8. Universal Access<a id='c8'></a>\n",
    "\n",
    "I used Tableau Public, which the user can access with an internet connection.  To view the dashboard, the user does not need to install software or create an account with Tableau.  The user can use the link to the dashboard to view and interact with the data."
   ]
  },
  {
   "cell_type": "markdown",
   "id": "095ab84f",
   "metadata": {},
   "source": [
    "#### C9. Effective Storytelling<a id='c9'></a>\n",
    "\n",
    "According to Microsoft, for effective storytelling you must use intentional visuals that include the following:\n",
    "\n",
    "<ul>\n",
    "    <li>Appropriate</li>\n",
    "    <li>Legible</li>\n",
    "    <li>Not misleading</li>\n",
    "</ul>\n",
    "\n",
    "In my visualizations, I focused on legibility.  I ensured that labels weren't running into each other, headers weren't cut off, and the descriptions of columns, rows, and charts made sense and were easy to interpret.\n",
    "\n",
    "I did not want to mislead the dashboard user, so I avoided changing the axis starting points and used percentages to allow the user to compare WGU's and Kaggle's data better since the latter's dataset was much larger than WGU's."
   ]
  },
  {
   "cell_type": "markdown",
   "id": "8e73061e",
   "metadata": {},
   "source": [
    "### PART IV: SOURCES"
   ]
  },
  {
   "cell_type": "markdown",
   "id": "7b6b509b",
   "metadata": {},
   "source": [
    "#### D. THIRD-PARTY CODE REFERENCES<a id='d'></a>"
   ]
  },
  {
   "cell_type": "markdown",
   "id": "8996ad04",
   "metadata": {},
   "source": [
    "No code references were used."
   ]
  },
  {
   "cell_type": "markdown",
   "id": "e93fb6c8",
   "metadata": {},
   "source": [
    "#### E. SOURCES<a id='e'></a>"
   ]
  },
  {
   "cell_type": "markdown",
   "id": "e692a5d9",
   "metadata": {},
   "source": [
    "Kilin, Ivan (2022, April 27).  <i>The best charts for color blind viewers</i>.  Datylon.\n",
    "    </br>&emsp;&emsp;Retrieved August 1, 2023, from https://www.datylon.com/blog/data-visualization-for-colorblind-readers#color-blind-palette\n",
    "\n",
    "Microsoft (n.d.).  <i>Storytelling with data visualization</i>.  Microsoft Power BI.\n",
    "    </br>&emsp;&emsp;Retrieved August 1, 2023, from https://powerbi.microsoft.com/en-us/data-visualization-vs-storytelling/\n",
    "\n",
    "Mustafa, Mohammed (n.d.).  <i>Diabetes prediction dataset</i>.  Kaggle.\n",
    "     </br>&emsp;&emsp;Retrieved July 27, 2023, from https://www.kaggle.com/datasets/iammustafatz/diabetes-prediction-dataset?resource=download"
   ]
  }
 ],
 "metadata": {
  "kernelspec": {
   "display_name": "Python 3 (ipykernel)",
   "language": "python",
   "name": "python3"
  },
  "language_info": {
   "codemirror_mode": {
    "name": "ipython",
    "version": 3
   },
   "file_extension": ".py",
   "mimetype": "text/x-python",
   "name": "python",
   "nbconvert_exporter": "python",
   "pygments_lexer": "ipython3",
   "version": "3.10.11"
  }
 },
 "nbformat": 4,
 "nbformat_minor": 5
}
