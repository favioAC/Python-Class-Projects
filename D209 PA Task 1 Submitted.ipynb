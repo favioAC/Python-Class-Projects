{
 "cells": [
  {
   "cell_type": "markdown",
   "id": "176b5896",
   "metadata": {},
   "source": [
    " "
   ]
  },
  {
   "cell_type": "markdown",
   "id": "cd169e96",
   "metadata": {},
   "source": [
    "# D209 - Data Mining I Performance Assessment Task 1\n",
    "\n",
    "Assignment Completed by Favio Conde and Submitted July 25, 2023 for WGU - MSDA\n",
    "</br>"
   ]
  },
  {
   "cell_type": "markdown",
   "id": "28e0cc8f",
   "metadata": {},
   "source": [
    "### Table of Contents\n",
    "\n",
    "#### Part I: Research Question\n",
    "<ul>\n",
    "    <li><a href='#a1'>A1: Proposal of Question</a></li>\n",
    "    <li><a href='#a2'>A2: Defined Goal</a></li>\n",
    "</ul>\n",
    " \n",
    "#### Part II: Method Justification\n",
    "<ul>\n",
    "    <li><a href='#b1'>B1: Explanation of Classification Method</a></li>\n",
    "    <li><a href='#b2'>B2: Summary of Method Assumption</a></li>\n",
    "    <li><a href='#b3'>B3: Packages or Libraries List</a></li>\n",
    "</ul> \n",
    "\n",
    "#### Part III: Data Preparation\n",
    "<ul>\n",
    "    <li><a href='#c1'>C1: Data Preprocessing</a></li>\n",
    "    <li><a href='#c2'>C2: Data Set Variables</a></li>\n",
    "    <li><a href='#c3'>C3: Steps for Analysis</a></li>\n",
    "    <li><a href='#c4'>C4: Cleaned Data Set</a></li>\n",
    "</ul>\n",
    "\n",
    "#### Part IV:  Analysis\n",
    "<ul>\n",
    "    <li><a href='#d1'>D1: Splitting the Data</a></li>\n",
    "    <li><a href='#d2'>D2: Output and Intermediate Calculations</a></li>\n",
    "    <li><a href='#d3'>D3: Code Execution</a></li>\n",
    "</ul>\n",
    "\n",
    "#### Part V: Data Summary and Implications\n",
    "<ul>\n",
    "    <li><a href='#e1'>E1. Accuracy and AUC</a></li>\n",
    "    <li><a href='#e2'>E2. Results and Implications</a></li>\n",
    "    <li><a href='#e3'>E3. Limitation</a></li>\n",
    "    <li><a href='#e4'>E4. Course of Action</a></li>\n",
    "</ul>\n",
    "\n",
    "#### Part VI: Demonstration\n",
    "<ul>\n",
    "    <li><a href='#f'>F. Panopto Video Recording</a></li>\n",
    "    <li><a href='#g'>G. Third-Party Code Reference</a></li>\n",
    "    <li><a href='#h'>H. Sources</a></li>\n",
    "</ul>"
   ]
  },
  {
   "cell_type": "markdown",
   "id": "d91da6b9",
   "metadata": {},
   "source": [
    "### PART I: RESEARCH QUESTION"
   ]
  },
  {
   "cell_type": "markdown",
   "id": "a85ac60a",
   "metadata": {},
   "source": [
    "#### A1. Proposal of Question<a id='a1'></a>\n",
    "\n",
    "What are  the major predictor variables in determining if a patient is readmitted into the hospital?"
   ]
  },
  {
   "cell_type": "markdown",
   "id": "f912b305",
   "metadata": {},
   "source": [
    "#### A2. Defined Goal<a id='a2'></a>\n",
    "\n",
    "The goal of the analysis is to develop a machine learning model using Na&#239;ve Bayes to help determine if the factors that increase the probability of whether a patient is readmitted or not can be identified.  If we're able to identify the leading contributors to increasing the probability of readmission, then the hospital can use this information to explore ways to reduce readmission rates."
   ]
  },
  {
   "cell_type": "markdown",
   "id": "fc1ef4a3",
   "metadata": {},
   "source": [
    "### PART II: METHOD JUSTIFICATION"
   ]
  },
  {
   "cell_type": "markdown",
   "id": "3075d18b",
   "metadata": {},
   "source": [
    "#### B1. Explanation of Classification Method<a id='b1'></a>\n",
    "\n",
    "I have chosen to use the Na&#239;ve Bayes classifier classification method.  The Bayes classifier combines known and new information in the data set to identify which class the predictor variable should be placed in.  I selected this method because it is more \"suitable for large data sets\" and the medical data set has 10,000 records (Elleh, 2020, Slide 16)."
   ]
  },
  {
   "cell_type": "markdown",
   "id": "3f01c09c",
   "metadata": {},
   "source": [
    "#### B2. Summary of Method Assumption<a id='b2'></a>\n",
    "\n",
    "The Na&#239;ve Bayes classifier classification method has some assumption, which include (Elleh, 2020, Slide 17):\n",
    "\n",
    "<ul>\n",
    "    <li>Assumes the variables are indepdent of other variables</li>\n",
    "    <li>Assumed that the model is easy to build, especially for larger data sets, and surpasses highly advanced classification methods</li>\n",
    "</ul>\n",
    "\n",
    "The Bayes classification method looks at the probabilty of observing an event given some other event (Bruce et al., 2020, p.197).  The model assumes that predictor variables in the model are independent to any other variable in the model; this is where the na&#239;ve part of the name comes from."
   ]
  },
  {
   "cell_type": "markdown",
   "id": "c09554a2",
   "metadata": {},
   "source": [
    "#### B3. Packages or Libraries List<a id='b3'></a>\n",
    "\n",
    "To analyze the data I used Python because it handles large sets of data really well and it has many libraries that aid in efficiently exploring the data.  Python is extremely efficient in predictive analytics and statistics.\n",
    "\n",
    "For the analysis I used the following libraries:\n",
    "\n",
    "<ul>\n",
    "    <li>NumPy: used to perform a number of mathematical operations on arrays</li>\n",
    "    <li>Pandas: used for importing data sets into data frames and allows data cleaning, exploration and manipulation of data sets</li>\n",
    "    <li>Matplotlib: used to make visualizations</li>\n",
    "    <li>Seaborn: used to make visualizations</li>\n",
    "    <li>Random: used to return a random number</li>\n",
    "    <li>Statsmodels: used to estimate statistical models and perform test</li>\n",
    "    <li>Sklearn: used for statistical and machine learning modelling</li>\n",
    "    <ul>\n",
    "        <li>Sklearn.feature_selection: used for feature selection</li>\n",
    "        <li>Sklearn.model_selection: used to split data into training and testing sets</li>\n",
    "    </ul>\n",
    "</ul>"
   ]
  },
  {
   "cell_type": "markdown",
   "id": "0d583a57",
   "metadata": {},
   "source": [
    "### PART III: DATA PREPARATION"
   ]
  },
  {
   "cell_type": "markdown",
   "id": "112157e7",
   "metadata": {},
   "source": [
    "#### C1. Data Preprocessing<a id='c1'></a>\n",
    "\n",
    "In order to analyze the data set using the Na&#239;ve Bayes model, I will need to preprocess the data.  I will review the data and search for null and duplicate values.  I will use one hot encoding for nominal categorical variables, convert `Yes`/`No` to `1`/`0` for ordinal categorical variables, and remove any variables that I will not be using in my model."
   ]
  },
  {
   "cell_type": "markdown",
   "id": "c2278daf",
   "metadata": {},
   "source": [
    "#### C2. Data Set Variables<a id='c2'></a>\n",
    "\n",
    "The target variable for my analysis it `ReAdmis`.  I kept 18 categorical and 11 continuous independent variables.\n",
    "\n",
    "\n",
    "List of Independent Categorical Variables:\n",
    "<ul>\n",
    "    <li>Allergic_rhinitis</li>\n",
    "    <li>Anxiety</li>\n",
    "    <li>Area</li>\n",
    "    <li>Arthritis</li>\n",
    "    <li>Asthma</li>\n",
    "    <li>BackPain</li>\n",
    "    <li>Complication_risk</li>\n",
    "    <li>Diabetes</li>\n",
    "    <li>Gender</li>\n",
    "    <li>HighBlood</li>\n",
    "    <li>Hyperlipidemia</li>\n",
    "    <li>Initial_admin</li>\n",
    "    <li>Marital</li>\n",
    "    <li>Overweight</li>\n",
    "    <li>Reflux_esophagitis</li>\n",
    "    <li>Services</li>\n",
    "    <li>Soft_drink</li>\n",
    "    <li>Stroke</li>\n",
    "</ul>\n",
    "\n",
    "List of Independent Continuous Variables:\n",
    "\n",
    "<ul>\n",
    "    <li>Additional_charges</li>\n",
    "    <li>Age</li>\n",
    "    <li>Children</li>\n",
    "    <li>Doc_visits</li>\n",
    "    <li>Full_meals_eaten</li>\n",
    "    <li>Income</li>\n",
    "    <li>Initial_days</li>\n",
    "    <li>Population</li>\n",
    "    <li>TotalCharge</li>\n",
    "    <li>VitD_levels</li>\n",
    "    <li>vitD_supp</li>\n",
    "</ul>\n",
    "\n",
    "The reason I'm selecting these categorical and continuous variables is that I feel that they may be features that affect the probability of whether a patient is readmitted or not."
   ]
  },
  {
   "cell_type": "markdown",
   "id": "6a860569",
   "metadata": {},
   "source": [
    "#### C3. Steps for Analysis<a id='c3'></a>\n",
    "\n",
    "After importing the medical CSV file, I used `.shape` and `.info()` functions to study the data set.  The shape function allows me to see the number of rows and columns in the data, where the info function shows each column listed along with the number of non-null values and data types.\n",
    "\n",
    "To check for and sum the number of null values in the data set, I used the `.isnull().sum()` function which will list each column along with the number of null values.\n",
    "\n",
    "To check for duplicate rows , I used the `.duplicated().value_counts()` function which returns a `True` or `False` based on if a duplicate row is identified (`True`).  The `.value_counts()` portion of the function sums by `True` and `False`, which allows for a quick and efficient way to check for duplicated rows.\n",
    "\n",
    "Before proceeding, I dropped columns that I felt were not needed for my model.  The columns dropped were:\n",
    "\n",
    "<ul>\n",
    "    <li>CaseOrder</li>\n",
    "    <li>Zip</li>\n",
    "    <li>Lat</li>\n",
    "    <li>Lng</li>\n",
    "    <li>Item1</li>\n",
    "    <li>Item2</li>\n",
    "    <li>Item3</li>\n",
    "    <li>Item4</li>\n",
    "    <li>Item5</li>\n",
    "    <li>Item6</li>\n",
    "    <li>Item7</li>\n",
    "    <li>Item8</li>\n",
    "</ul>\n",
    "\n",
    "The columns that I kept for my analysis are listed in <a href='#c2'>C2</a>:\n",
    "\n",
    "To review statistical summaries, I used the `.describe()` function on continuous variables, and `.value_counts()` on categorical variables.  Before running the `.value_counts()` function on categorial data, I encoded all categorical variables.  I created a list to include all continuous variables (`num_var`) and a separate list to include all categorical variables (`cat_var`).\n",
    "\n",
    "To encode ordinal categorical data, I used the `.map()` function to change `Yes`/`No` and `True`/`False` to `1`/`0`.  However, for `ReAdmis` I did the opposite; `No` was changed to `1` and `Yes` was changed to `0`.  I did this since the ideal outcome is that the patient is <u>not</u> readmitted, which would be a `No` response under the `ReAdmis` column.\n",
    "\n",
    "Next, I useed `SelectKBest` and `f_classif` from `Sklearn` for feature selection.  I created an `x` variable to hold all of my explanatory variables, and set `y` to my target variable.  After using the feature selecting and filtering out any p-values greater than 0.05, I had the following 7 predictor variables remaining:\n",
    "\n",
    "<ul>\n",
    "    <li>Emergency Admission</li>\n",
    "    <li>Population</li>\n",
    "    <li>Intravenous</li>\n",
    "    <li>Children</li>\n",
    "    <li>CT Scan</li>\n",
    "    <li>TotalCharge</li>\n",
    "    <li>Initial_days</li>\n",
    "</ul>\n",
    "\n",
    "For the last feature selection step, I checked for multicollinearity using the `variance_inflation_factor` (VIF) to eliminate any VIF values greater than 10.  Both `TotalCharge` and `Initial_days` were greater than 10 at 36.7 and 23.2, respectively.  I removed `TotalCharge` and re-ran VIF.  At this point, no VIF values were greater than 10 so I kept the final 6 predictor variables for my model.  Before exporting the reduced data, I used the `.rename()` function to clean up the columns names.  The renamed remaining predictor variables were:\n",
    "\n",
    "<ul>\n",
    "    <li>Children</li>\n",
    "    <li>CT_scan</li>\n",
    "    <li>Emergency_admission</li>\n",
    "    <li>Initial_days</li>\n",
    "    <li>Intravenous</li>\n",
    "    <li>Population</li>\n",
    "</ul>"
   ]
  },
  {
   "cell_type": "code",
   "execution_count": 1,
   "id": "c048bb3a",
   "metadata": {
    "scrolled": true
   },
   "outputs": [
    {
     "name": "stdout",
     "output_type": "stream",
     "text": [
      "Data Set Summary:\n",
      "The data set has 10000 rows and 50 columns.\n",
      "----------------------------------------------------------------------------------------------------\n"
     ]
    }
   ],
   "source": [
    "# Importing packages\n",
    "import numpy as np\n",
    "import pandas as pd\n",
    "import matplotlib.pyplot as plt\n",
    "import seaborn as sns\n",
    "import random\n",
    "from statsmodels.stats.outliers_influence import variance_inflation_factor\n",
    "from sklearn import metrics\n",
    "from sklearn.feature_selection import SelectKBest, f_classif\n",
    "from sklearn.model_selection import train_test_split\n",
    "from sklearn.naive_bayes import GaussianNB\n",
    "from sklearn.metrics import accuracy_score, confusion_matrix, ConfusionMatrixDisplay, f1_score, roc_auc_score, roc_curve, classification_report\n",
    "\n",
    "# Importing medical_clean.csv file into Jupyter\n",
    "df = pd.read_csv('C:/Users/Favio/Documents/Education/WGU/MSDA/D209/PA/Files/medical_clean.csv')\n",
    "\n",
    "# Output display settings\n",
    "pd.set_option('display.max_columns', None)\n",
    "\n",
    "# Checking data using the .shape\n",
    "print('Data Set Summary:')\n",
    "print(f'The data set has {df.shape[0]} rows and {df.shape[1]} columns.')\n",
    "print('-'*100)"
   ]
  },
  {
   "cell_type": "code",
   "execution_count": 2,
   "id": "27746999",
   "metadata": {},
   "outputs": [
    {
     "name": "stdout",
     "output_type": "stream",
     "text": [
      "<class 'pandas.core.frame.DataFrame'>\n",
      "RangeIndex: 10000 entries, 0 to 9999\n",
      "Data columns (total 50 columns):\n",
      " #   Column              Non-Null Count  Dtype  \n",
      "---  ------              --------------  -----  \n",
      " 0   CaseOrder           10000 non-null  int64  \n",
      " 1   Customer_id         10000 non-null  object \n",
      " 2   Interaction         10000 non-null  object \n",
      " 3   UID                 10000 non-null  object \n",
      " 4   City                10000 non-null  object \n",
      " 5   State               10000 non-null  object \n",
      " 6   County              10000 non-null  object \n",
      " 7   Zip                 10000 non-null  int64  \n",
      " 8   Lat                 10000 non-null  float64\n",
      " 9   Lng                 10000 non-null  float64\n",
      " 10  Population          10000 non-null  int64  \n",
      " 11  Area                10000 non-null  object \n",
      " 12  TimeZone            10000 non-null  object \n",
      " 13  Job                 10000 non-null  object \n",
      " 14  Children            10000 non-null  int64  \n",
      " 15  Age                 10000 non-null  int64  \n",
      " 16  Income              10000 non-null  float64\n",
      " 17  Marital             10000 non-null  object \n",
      " 18  Gender              10000 non-null  object \n",
      " 19  ReAdmis             10000 non-null  object \n",
      " 20  VitD_levels         10000 non-null  float64\n",
      " 21  Doc_visits          10000 non-null  int64  \n",
      " 22  Full_meals_eaten    10000 non-null  int64  \n",
      " 23  vitD_supp           10000 non-null  int64  \n",
      " 24  Soft_drink          10000 non-null  object \n",
      " 25  Initial_admin       10000 non-null  object \n",
      " 26  HighBlood           10000 non-null  object \n",
      " 27  Stroke              10000 non-null  object \n",
      " 28  Complication_risk   10000 non-null  object \n",
      " 29  Overweight          10000 non-null  object \n",
      " 30  Arthritis           10000 non-null  object \n",
      " 31  Diabetes            10000 non-null  object \n",
      " 32  Hyperlipidemia      10000 non-null  object \n",
      " 33  BackPain            10000 non-null  object \n",
      " 34  Anxiety             10000 non-null  object \n",
      " 35  Allergic_rhinitis   10000 non-null  object \n",
      " 36  Reflux_esophagitis  10000 non-null  object \n",
      " 37  Asthma              10000 non-null  object \n",
      " 38  Services            10000 non-null  object \n",
      " 39  Initial_days        10000 non-null  float64\n",
      " 40  TotalCharge         10000 non-null  float64\n",
      " 41  Additional_charges  10000 non-null  float64\n",
      " 42  Item1               10000 non-null  int64  \n",
      " 43  Item2               10000 non-null  int64  \n",
      " 44  Item3               10000 non-null  int64  \n",
      " 45  Item4               10000 non-null  int64  \n",
      " 46  Item5               10000 non-null  int64  \n",
      " 47  Item6               10000 non-null  int64  \n",
      " 48  Item7               10000 non-null  int64  \n",
      " 49  Item8               10000 non-null  int64  \n",
      "dtypes: float64(7), int64(16), object(27)\n",
      "memory usage: 3.8+ MB\n"
     ]
    }
   ],
   "source": [
    "# Checking data using the .info() function\n",
    "df.info()"
   ]
  },
  {
   "cell_type": "code",
   "execution_count": 3,
   "id": "3a03eca8",
   "metadata": {},
   "outputs": [
    {
     "data": {
      "text/plain": [
       "CaseOrder             0\n",
       "Customer_id           0\n",
       "Interaction           0\n",
       "UID                   0\n",
       "City                  0\n",
       "State                 0\n",
       "County                0\n",
       "Zip                   0\n",
       "Lat                   0\n",
       "Lng                   0\n",
       "Population            0\n",
       "Area                  0\n",
       "TimeZone              0\n",
       "Job                   0\n",
       "Children              0\n",
       "Age                   0\n",
       "Income                0\n",
       "Marital               0\n",
       "Gender                0\n",
       "ReAdmis               0\n",
       "VitD_levels           0\n",
       "Doc_visits            0\n",
       "Full_meals_eaten      0\n",
       "vitD_supp             0\n",
       "Soft_drink            0\n",
       "Initial_admin         0\n",
       "HighBlood             0\n",
       "Stroke                0\n",
       "Complication_risk     0\n",
       "Overweight            0\n",
       "Arthritis             0\n",
       "Diabetes              0\n",
       "Hyperlipidemia        0\n",
       "BackPain              0\n",
       "Anxiety               0\n",
       "Allergic_rhinitis     0\n",
       "Reflux_esophagitis    0\n",
       "Asthma                0\n",
       "Services              0\n",
       "Initial_days          0\n",
       "TotalCharge           0\n",
       "Additional_charges    0\n",
       "Item1                 0\n",
       "Item2                 0\n",
       "Item3                 0\n",
       "Item4                 0\n",
       "Item5                 0\n",
       "Item6                 0\n",
       "Item7                 0\n",
       "Item8                 0\n",
       "dtype: int64"
      ]
     },
     "execution_count": 3,
     "metadata": {},
     "output_type": "execute_result"
    }
   ],
   "source": [
    "# Checking data for null values using the .isnull().sum() function\n",
    "df.isnull().sum()"
   ]
  },
  {
   "cell_type": "code",
   "execution_count": 4,
   "id": "38abe640",
   "metadata": {
    "scrolled": true
   },
   "outputs": [
    {
     "data": {
      "text/plain": [
       "False    10000\n",
       "dtype: int64"
      ]
     },
     "execution_count": 4,
     "metadata": {},
     "output_type": "execute_result"
    }
   ],
   "source": [
    "# Checking data for duplictes\n",
    "df.duplicated().value_counts()"
   ]
  },
  {
   "cell_type": "code",
   "execution_count": 5,
   "id": "79d67f45",
   "metadata": {},
   "outputs": [],
   "source": [
    "# Creating list of continuous variables to remove from df\n",
    "num_drop_list = ['CaseOrder', 'Zip', 'Lat', 'Lng', 'Item1', 'Item2', 'Item3', 'Item4', 'Item5', 'Item6', 'Item7', 'Item8']\n",
    "\n",
    "# Dropping all continuos variables in num_drop_list\n",
    "for item in num_drop_list:\n",
    "    df.drop(item, axis=1, inplace=True)"
   ]
  },
  {
   "cell_type": "code",
   "execution_count": 6,
   "id": "3a2d9424",
   "metadata": {
    "scrolled": false
   },
   "outputs": [
    {
     "data": {
      "text/html": [
       "<div>\n",
       "<style scoped>\n",
       "    .dataframe tbody tr th:only-of-type {\n",
       "        vertical-align: middle;\n",
       "    }\n",
       "\n",
       "    .dataframe tbody tr th {\n",
       "        vertical-align: top;\n",
       "    }\n",
       "\n",
       "    .dataframe thead th {\n",
       "        text-align: right;\n",
       "    }\n",
       "</style>\n",
       "<table border=\"1\" class=\"dataframe\">\n",
       "  <thead>\n",
       "    <tr style=\"text-align: right;\">\n",
       "      <th></th>\n",
       "      <th>count</th>\n",
       "      <th>mean</th>\n",
       "      <th>std</th>\n",
       "      <th>min</th>\n",
       "      <th>25%</th>\n",
       "      <th>50%</th>\n",
       "      <th>75%</th>\n",
       "      <th>max</th>\n",
       "    </tr>\n",
       "  </thead>\n",
       "  <tbody>\n",
       "    <tr>\n",
       "      <th>Population</th>\n",
       "      <td>10000.0</td>\n",
       "      <td>9965.253800</td>\n",
       "      <td>14824.758614</td>\n",
       "      <td>0.000000</td>\n",
       "      <td>694.750000</td>\n",
       "      <td>2769.000000</td>\n",
       "      <td>13945.000000</td>\n",
       "      <td>122814.000000</td>\n",
       "    </tr>\n",
       "    <tr>\n",
       "      <th>Children</th>\n",
       "      <td>10000.0</td>\n",
       "      <td>2.097200</td>\n",
       "      <td>2.163659</td>\n",
       "      <td>0.000000</td>\n",
       "      <td>0.000000</td>\n",
       "      <td>1.000000</td>\n",
       "      <td>3.000000</td>\n",
       "      <td>10.000000</td>\n",
       "    </tr>\n",
       "    <tr>\n",
       "      <th>Age</th>\n",
       "      <td>10000.0</td>\n",
       "      <td>53.511700</td>\n",
       "      <td>20.638538</td>\n",
       "      <td>18.000000</td>\n",
       "      <td>36.000000</td>\n",
       "      <td>53.000000</td>\n",
       "      <td>71.000000</td>\n",
       "      <td>89.000000</td>\n",
       "    </tr>\n",
       "    <tr>\n",
       "      <th>Income</th>\n",
       "      <td>10000.0</td>\n",
       "      <td>40490.495160</td>\n",
       "      <td>28521.153293</td>\n",
       "      <td>154.080000</td>\n",
       "      <td>19598.775000</td>\n",
       "      <td>33768.420000</td>\n",
       "      <td>54296.402500</td>\n",
       "      <td>207249.100000</td>\n",
       "    </tr>\n",
       "    <tr>\n",
       "      <th>VitD_levels</th>\n",
       "      <td>10000.0</td>\n",
       "      <td>17.964262</td>\n",
       "      <td>2.017231</td>\n",
       "      <td>9.806483</td>\n",
       "      <td>16.626439</td>\n",
       "      <td>17.951122</td>\n",
       "      <td>19.347963</td>\n",
       "      <td>26.394449</td>\n",
       "    </tr>\n",
       "    <tr>\n",
       "      <th>Doc_visits</th>\n",
       "      <td>10000.0</td>\n",
       "      <td>5.012200</td>\n",
       "      <td>1.045734</td>\n",
       "      <td>1.000000</td>\n",
       "      <td>4.000000</td>\n",
       "      <td>5.000000</td>\n",
       "      <td>6.000000</td>\n",
       "      <td>9.000000</td>\n",
       "    </tr>\n",
       "    <tr>\n",
       "      <th>Full_meals_eaten</th>\n",
       "      <td>10000.0</td>\n",
       "      <td>1.001400</td>\n",
       "      <td>1.008117</td>\n",
       "      <td>0.000000</td>\n",
       "      <td>0.000000</td>\n",
       "      <td>1.000000</td>\n",
       "      <td>2.000000</td>\n",
       "      <td>7.000000</td>\n",
       "    </tr>\n",
       "    <tr>\n",
       "      <th>vitD_supp</th>\n",
       "      <td>10000.0</td>\n",
       "      <td>0.398900</td>\n",
       "      <td>0.628505</td>\n",
       "      <td>0.000000</td>\n",
       "      <td>0.000000</td>\n",
       "      <td>0.000000</td>\n",
       "      <td>1.000000</td>\n",
       "      <td>5.000000</td>\n",
       "    </tr>\n",
       "    <tr>\n",
       "      <th>Initial_days</th>\n",
       "      <td>10000.0</td>\n",
       "      <td>34.455299</td>\n",
       "      <td>26.309341</td>\n",
       "      <td>1.001981</td>\n",
       "      <td>7.896215</td>\n",
       "      <td>35.836244</td>\n",
       "      <td>61.161020</td>\n",
       "      <td>71.981490</td>\n",
       "    </tr>\n",
       "    <tr>\n",
       "      <th>TotalCharge</th>\n",
       "      <td>10000.0</td>\n",
       "      <td>5312.172769</td>\n",
       "      <td>2180.393838</td>\n",
       "      <td>1938.312067</td>\n",
       "      <td>3179.374015</td>\n",
       "      <td>5213.952000</td>\n",
       "      <td>7459.699750</td>\n",
       "      <td>9180.728000</td>\n",
       "    </tr>\n",
       "    <tr>\n",
       "      <th>Additional_charges</th>\n",
       "      <td>10000.0</td>\n",
       "      <td>12934.528587</td>\n",
       "      <td>6542.601544</td>\n",
       "      <td>3125.703000</td>\n",
       "      <td>7986.487755</td>\n",
       "      <td>11573.977735</td>\n",
       "      <td>15626.490000</td>\n",
       "      <td>30566.070000</td>\n",
       "    </tr>\n",
       "  </tbody>\n",
       "</table>\n",
       "</div>"
      ],
      "text/plain": [
       "                      count          mean           std          min  \\\n",
       "Population          10000.0   9965.253800  14824.758614     0.000000   \n",
       "Children            10000.0      2.097200      2.163659     0.000000   \n",
       "Age                 10000.0     53.511700     20.638538    18.000000   \n",
       "Income              10000.0  40490.495160  28521.153293   154.080000   \n",
       "VitD_levels         10000.0     17.964262      2.017231     9.806483   \n",
       "Doc_visits          10000.0      5.012200      1.045734     1.000000   \n",
       "Full_meals_eaten    10000.0      1.001400      1.008117     0.000000   \n",
       "vitD_supp           10000.0      0.398900      0.628505     0.000000   \n",
       "Initial_days        10000.0     34.455299     26.309341     1.001981   \n",
       "TotalCharge         10000.0   5312.172769   2180.393838  1938.312067   \n",
       "Additional_charges  10000.0  12934.528587   6542.601544  3125.703000   \n",
       "\n",
       "                             25%           50%           75%            max  \n",
       "Population            694.750000   2769.000000  13945.000000  122814.000000  \n",
       "Children                0.000000      1.000000      3.000000      10.000000  \n",
       "Age                    36.000000     53.000000     71.000000      89.000000  \n",
       "Income              19598.775000  33768.420000  54296.402500  207249.100000  \n",
       "VitD_levels            16.626439     17.951122     19.347963      26.394449  \n",
       "Doc_visits              4.000000      5.000000      6.000000       9.000000  \n",
       "Full_meals_eaten        0.000000      1.000000      2.000000       7.000000  \n",
       "vitD_supp               0.000000      0.000000      1.000000       5.000000  \n",
       "Initial_days            7.896215     35.836244     61.161020      71.981490  \n",
       "TotalCharge          3179.374015   5213.952000   7459.699750    9180.728000  \n",
       "Additional_charges   7986.487755  11573.977735  15626.490000   30566.070000  "
      ]
     },
     "execution_count": 6,
     "metadata": {},
     "output_type": "execute_result"
    }
   ],
   "source": [
    "df.describe().T"
   ]
  },
  {
   "cell_type": "code",
   "execution_count": 7,
   "id": "e2f82b45",
   "metadata": {},
   "outputs": [],
   "source": [
    "# Creating list of categorical variables to remove from df\n",
    "cat_drop_list = ['Customer_id', 'Interaction', 'UID', 'City', 'State', 'County', 'TimeZone', 'Job']\n",
    "\n",
    "# Dropping all categorical variables in cat_drop_list\n",
    "for item in cat_drop_list:\n",
    "    df.drop(item, axis=1, inplace=True)"
   ]
  },
  {
   "cell_type": "code",
   "execution_count": 8,
   "id": "6f828e11",
   "metadata": {
    "scrolled": false
   },
   "outputs": [
    {
     "data": {
      "text/plain": [
       "30"
      ]
     },
     "execution_count": 8,
     "metadata": {},
     "output_type": "execute_result"
    }
   ],
   "source": [
    "# Checking df column length; dropped 8 categorical variables and 12 continuous variables, so should have 30 columns remaining\n",
    "len(df.columns)"
   ]
  },
  {
   "cell_type": "code",
   "execution_count": 9,
   "id": "a4fb9996",
   "metadata": {},
   "outputs": [],
   "source": [
    "# Creating list of categorical variables that will need one hot encoding\n",
    "hot_cat_var = ['Area', 'Marital', 'Gender', 'Initial_admin', 'Services']\n",
    "\n",
    "# The code used to combine the lists is from the website Tutorials Point (Chiluka, 2022)\n",
    "for item in hot_cat_var:\n",
    "    results = pd.get_dummies(df[item], drop_first=True)\n",
    "    for a in results:\n",
    "        df[a] = results[a]\n",
    "    del df[item]"
   ]
  },
  {
   "cell_type": "code",
   "execution_count": 10,
   "id": "bdcdf19d",
   "metadata": {},
   "outputs": [],
   "source": [
    "# Encoding 'Complication_risk' to 0/1/2\n",
    "df['Complication_risk'] = df['Complication_risk'].map({'Low': 0, 'Medium': 1, 'High': 2})\n",
    "\n",
    "#Encoding 'ReAdmis' to 1/0, since 'No' is desired outcome, changing 'No' to 1 and 'Yes' to 0\n",
    "df['ReAdmis'] = df['ReAdmis'].map({'No': 1, 'Yes': 0})\n",
    "\n",
    "# Creating list of remaining categorical variables that need to be changed from Yes/No to 1/0\n",
    "remaining_cat_var = ['Soft_drink', 'HighBlood', 'Stroke', 'Overweight', 'Arthritis', 'Diabetes', \n",
    "                     'Hyperlipidemia', 'BackPain', 'Anxiety', 'Allergic_rhinitis', 'Reflux_esophagitis', 'Asthma']\n",
    "\n",
    "for item in remaining_cat_var:\n",
    "    df[item] = df[item].map({'No': 0, 'Yes': 1})"
   ]
  },
  {
   "cell_type": "code",
   "execution_count": 11,
   "id": "e810bb1f",
   "metadata": {},
   "outputs": [],
   "source": [
    "# Combining all categorical variables into one list\n",
    "unlisted_cat_var = ['Complication_risk', 'ReAdmis']\n",
    "\n",
    "# Grabbing columns added through one hot encoding\n",
    "hot_cat_var = df.iloc[:, 25: ].columns\n",
    "\n",
    "# Creating list of all categorical variable lists\n",
    "all_cat_var_list = [remaining_cat_var, hot_cat_var, unlisted_cat_var]\n",
    "\n",
    "cat_var = []\n",
    "\n",
    "# Combining all categorical variables into one list\n",
    "for item in range(len(all_cat_var_list)):\n",
    "    for a in range(len(all_cat_var_list[item])):\n",
    "        cat_var.append(all_cat_var_list[item][a])"
   ]
  },
  {
   "cell_type": "code",
   "execution_count": 12,
   "id": "f817cf1d",
   "metadata": {},
   "outputs": [],
   "source": [
    "# Creating variable containing all continuous variables\n",
    "num_var = df.drop(cat_var, axis=1,  inplace=False).columns"
   ]
  },
  {
   "cell_type": "code",
   "execution_count": 13,
   "id": "7f0f6b51",
   "metadata": {
    "scrolled": false
   },
   "outputs": [
    {
     "name": "stdout",
     "output_type": "stream",
     "text": [
      "Soft_drink Count\n",
      "0    7425\n",
      "1    2575\n",
      "Name: Soft_drink, dtype: int64\n",
      "----------------------------------------------------------------------------------------------------\n",
      "HighBlood Count\n",
      "0    5910\n",
      "1    4090\n",
      "Name: HighBlood, dtype: int64\n",
      "----------------------------------------------------------------------------------------------------\n",
      "Stroke Count\n",
      "0    8007\n",
      "1    1993\n",
      "Name: Stroke, dtype: int64\n",
      "----------------------------------------------------------------------------------------------------\n",
      "Overweight Count\n",
      "1    7094\n",
      "0    2906\n",
      "Name: Overweight, dtype: int64\n",
      "----------------------------------------------------------------------------------------------------\n",
      "Arthritis Count\n",
      "0    6426\n",
      "1    3574\n",
      "Name: Arthritis, dtype: int64\n",
      "----------------------------------------------------------------------------------------------------\n",
      "Diabetes Count\n",
      "0    7262\n",
      "1    2738\n",
      "Name: Diabetes, dtype: int64\n",
      "----------------------------------------------------------------------------------------------------\n",
      "Hyperlipidemia Count\n",
      "0    6628\n",
      "1    3372\n",
      "Name: Hyperlipidemia, dtype: int64\n",
      "----------------------------------------------------------------------------------------------------\n",
      "BackPain Count\n",
      "0    5886\n",
      "1    4114\n",
      "Name: BackPain, dtype: int64\n",
      "----------------------------------------------------------------------------------------------------\n",
      "Anxiety Count\n",
      "0    6785\n",
      "1    3215\n",
      "Name: Anxiety, dtype: int64\n",
      "----------------------------------------------------------------------------------------------------\n",
      "Allergic_rhinitis Count\n",
      "0    6059\n",
      "1    3941\n",
      "Name: Allergic_rhinitis, dtype: int64\n",
      "----------------------------------------------------------------------------------------------------\n",
      "Reflux_esophagitis Count\n",
      "0    5865\n",
      "1    4135\n",
      "Name: Reflux_esophagitis, dtype: int64\n",
      "----------------------------------------------------------------------------------------------------\n",
      "Asthma Count\n",
      "0    7107\n",
      "1    2893\n",
      "Name: Asthma, dtype: int64\n",
      "----------------------------------------------------------------------------------------------------\n",
      "Suburban Count\n",
      "0    6672\n",
      "1    3328\n",
      "Name: Suburban, dtype: int64\n",
      "----------------------------------------------------------------------------------------------------\n",
      "Urban Count\n",
      "0    6697\n",
      "1    3303\n",
      "Name: Urban, dtype: int64\n",
      "----------------------------------------------------------------------------------------------------\n",
      "Married Count\n",
      "0    7977\n",
      "1    2023\n",
      "Name: Married, dtype: int64\n",
      "----------------------------------------------------------------------------------------------------\n",
      "Never Married Count\n",
      "0    8016\n",
      "1    1984\n",
      "Name: Never Married, dtype: int64\n",
      "----------------------------------------------------------------------------------------------------\n",
      "Separated Count\n",
      "0    8013\n",
      "1    1987\n",
      "Name: Separated, dtype: int64\n",
      "----------------------------------------------------------------------------------------------------\n",
      "Widowed Count\n",
      "0    7955\n",
      "1    2045\n",
      "Name: Widowed, dtype: int64\n",
      "----------------------------------------------------------------------------------------------------\n",
      "Male Count\n",
      "0    5232\n",
      "1    4768\n",
      "Name: Male, dtype: int64\n",
      "----------------------------------------------------------------------------------------------------\n",
      "Nonbinary Count\n",
      "0    9786\n",
      "1     214\n",
      "Name: Nonbinary, dtype: int64\n",
      "----------------------------------------------------------------------------------------------------\n",
      "Emergency Admission Count\n",
      "1    5060\n",
      "0    4940\n",
      "Name: Emergency Admission, dtype: int64\n",
      "----------------------------------------------------------------------------------------------------\n",
      "Observation Admission Count\n",
      "0    7564\n",
      "1    2436\n",
      "Name: Observation Admission, dtype: int64\n",
      "----------------------------------------------------------------------------------------------------\n",
      "CT Scan Count\n",
      "0    8775\n",
      "1    1225\n",
      "Name: CT Scan, dtype: int64\n",
      "----------------------------------------------------------------------------------------------------\n",
      "Intravenous Count\n",
      "0    6870\n",
      "1    3130\n",
      "Name: Intravenous, dtype: int64\n",
      "----------------------------------------------------------------------------------------------------\n",
      "MRI Count\n",
      "0    9620\n",
      "1     380\n",
      "Name: MRI, dtype: int64\n",
      "----------------------------------------------------------------------------------------------------\n",
      "Complication_risk Count\n",
      "1    4517\n",
      "2    3358\n",
      "0    2125\n",
      "Name: Complication_risk, dtype: int64\n",
      "----------------------------------------------------------------------------------------------------\n",
      "ReAdmis Count\n",
      "1    6331\n",
      "0    3669\n",
      "Name: ReAdmis, dtype: int64\n",
      "----------------------------------------------------------------------------------------------------\n"
     ]
    }
   ],
   "source": [
    "# Checking for value counts for all categorical variables\n",
    "for item in cat_var:\n",
    "    print(f'{item} Count')\n",
    "    print(df[item].value_counts())\n",
    "    print('-'*100)"
   ]
  },
  {
   "cell_type": "code",
   "execution_count": 14,
   "id": "a2e48000",
   "metadata": {
    "scrolled": true
   },
   "outputs": [
    {
     "data": {
      "text/html": [
       "<div>\n",
       "<style scoped>\n",
       "    .dataframe tbody tr th:only-of-type {\n",
       "        vertical-align: middle;\n",
       "    }\n",
       "\n",
       "    .dataframe tbody tr th {\n",
       "        vertical-align: top;\n",
       "    }\n",
       "\n",
       "    .dataframe thead th {\n",
       "        text-align: right;\n",
       "    }\n",
       "</style>\n",
       "<table border=\"1\" class=\"dataframe\">\n",
       "  <thead>\n",
       "    <tr style=\"text-align: right;\">\n",
       "      <th></th>\n",
       "      <th>Feature</th>\n",
       "      <th>p_value</th>\n",
       "    </tr>\n",
       "  </thead>\n",
       "  <tbody>\n",
       "    <tr>\n",
       "      <th>32</th>\n",
       "      <td>Emergency Admission</td>\n",
       "      <td>0.048766</td>\n",
       "    </tr>\n",
       "    <tr>\n",
       "      <th>0</th>\n",
       "      <td>Population</td>\n",
       "      <td>0.045078</td>\n",
       "    </tr>\n",
       "    <tr>\n",
       "      <th>35</th>\n",
       "      <td>Intravenous</td>\n",
       "      <td>0.042233</td>\n",
       "    </tr>\n",
       "    <tr>\n",
       "      <th>1</th>\n",
       "      <td>Children</td>\n",
       "      <td>0.018613</td>\n",
       "    </tr>\n",
       "    <tr>\n",
       "      <th>34</th>\n",
       "      <td>CT Scan</td>\n",
       "      <td>0.014707</td>\n",
       "    </tr>\n",
       "    <tr>\n",
       "      <th>22</th>\n",
       "      <td>TotalCharge</td>\n",
       "      <td>0.000000</td>\n",
       "    </tr>\n",
       "    <tr>\n",
       "      <th>21</th>\n",
       "      <td>Initial_days</td>\n",
       "      <td>0.000000</td>\n",
       "    </tr>\n",
       "  </tbody>\n",
       "</table>\n",
       "</div>"
      ],
      "text/plain": [
       "                Feature   p_value\n",
       "32  Emergency Admission  0.048766\n",
       "0            Population  0.045078\n",
       "35          Intravenous  0.042233\n",
       "1              Children  0.018613\n",
       "34              CT Scan  0.014707\n",
       "22          TotalCharge  0.000000\n",
       "21         Initial_days  0.000000"
      ]
     },
     "execution_count": 14,
     "metadata": {},
     "output_type": "execute_result"
    }
   ],
   "source": [
    "# Creating variables to assign explanatory and target variables to x and y, respectively (Elleh, 2020, Slide 25)\n",
    "x = df.drop(['ReAdmis'], axis=1, inplace=False)\n",
    "y = df['ReAdmis']\n",
    "\n",
    "# Creating the feature selection variable\n",
    "var_select = SelectKBest(score_func=f_classif, k='all')\n",
    "var_select.fit_transform(x, y)\n",
    "\n",
    "# Finding the p-values to select variables with value < 0.05\n",
    "p_values = pd.DataFrame({'Feature': x.columns, 'p_value': var_select.pvalues_}).sort_values('p_value')\n",
    "p_values[p_values['p_value'] < 0.05].sort_values('p_value', axis=0, ascending=False)"
   ]
  },
  {
   "cell_type": "code",
   "execution_count": 15,
   "id": "f861f00c",
   "metadata": {
    "scrolled": true
   },
   "outputs": [
    {
     "data": {
      "text/html": [
       "<div>\n",
       "<style scoped>\n",
       "    .dataframe tbody tr th:only-of-type {\n",
       "        vertical-align: middle;\n",
       "    }\n",
       "\n",
       "    .dataframe tbody tr th {\n",
       "        vertical-align: top;\n",
       "    }\n",
       "\n",
       "    .dataframe thead th {\n",
       "        text-align: right;\n",
       "    }\n",
       "</style>\n",
       "<table border=\"1\" class=\"dataframe\">\n",
       "  <thead>\n",
       "    <tr style=\"text-align: right;\">\n",
       "      <th></th>\n",
       "      <th>Feature</th>\n",
       "      <th>VIF</th>\n",
       "    </tr>\n",
       "  </thead>\n",
       "  <tbody>\n",
       "    <tr>\n",
       "      <th>5</th>\n",
       "      <td>TotalCharge</td>\n",
       "      <td>36.726459</td>\n",
       "    </tr>\n",
       "    <tr>\n",
       "      <th>6</th>\n",
       "      <td>Initial_days</td>\n",
       "      <td>23.188878</td>\n",
       "    </tr>\n",
       "    <tr>\n",
       "      <th>0</th>\n",
       "      <td>Emergency Admission</td>\n",
       "      <td>2.603915</td>\n",
       "    </tr>\n",
       "    <tr>\n",
       "      <th>3</th>\n",
       "      <td>Children</td>\n",
       "      <td>1.927887</td>\n",
       "    </tr>\n",
       "    <tr>\n",
       "      <th>2</th>\n",
       "      <td>Intravenous</td>\n",
       "      <td>1.545367</td>\n",
       "    </tr>\n",
       "    <tr>\n",
       "      <th>1</th>\n",
       "      <td>Population</td>\n",
       "      <td>1.448958</td>\n",
       "    </tr>\n",
       "    <tr>\n",
       "      <th>4</th>\n",
       "      <td>CT Scan</td>\n",
       "      <td>1.216051</td>\n",
       "    </tr>\n",
       "  </tbody>\n",
       "</table>\n",
       "</div>"
      ],
      "text/plain": [
       "               Feature        VIF\n",
       "5          TotalCharge  36.726459\n",
       "6         Initial_days  23.188878\n",
       "0  Emergency Admission   2.603915\n",
       "3             Children   1.927887\n",
       "2          Intravenous   1.545367\n",
       "1           Population   1.448958\n",
       "4              CT Scan   1.216051"
      ]
     },
     "execution_count": 15,
     "metadata": {},
     "output_type": "execute_result"
    }
   ],
   "source": [
    "# Check multicollinearity using VIF\n",
    "b = df[['Emergency Admission', 'Population', 'Intravenous', 'Children', 'CT Scan', 'TotalCharge', 'Initial_days']]\n",
    "\n",
    "vif_data = pd.DataFrame()\n",
    "vif_data['Feature'] = b.columns\n",
    "vif_data['VIF'] = [variance_inflation_factor(b.values, i) for i in range(len(b.columns))]\n",
    "vif_data.sort_values('VIF', axis=0, ascending=False, inplace=True)\n",
    "vif_data"
   ]
  },
  {
   "cell_type": "code",
   "execution_count": 16,
   "id": "43d80dba",
   "metadata": {
    "scrolled": true
   },
   "outputs": [
    {
     "data": {
      "text/html": [
       "<div>\n",
       "<style scoped>\n",
       "    .dataframe tbody tr th:only-of-type {\n",
       "        vertical-align: middle;\n",
       "    }\n",
       "\n",
       "    .dataframe tbody tr th {\n",
       "        vertical-align: top;\n",
       "    }\n",
       "\n",
       "    .dataframe thead th {\n",
       "        text-align: right;\n",
       "    }\n",
       "</style>\n",
       "<table border=\"1\" class=\"dataframe\">\n",
       "  <thead>\n",
       "    <tr style=\"text-align: right;\">\n",
       "      <th></th>\n",
       "      <th>Feature</th>\n",
       "      <th>VIF</th>\n",
       "    </tr>\n",
       "  </thead>\n",
       "  <tbody>\n",
       "    <tr>\n",
       "      <th>5</th>\n",
       "      <td>Initial_days</td>\n",
       "      <td>1.933906</td>\n",
       "    </tr>\n",
       "    <tr>\n",
       "      <th>0</th>\n",
       "      <td>Emergency Admission</td>\n",
       "      <td>1.667688</td>\n",
       "    </tr>\n",
       "    <tr>\n",
       "      <th>3</th>\n",
       "      <td>Children</td>\n",
       "      <td>1.659640</td>\n",
       "    </tr>\n",
       "    <tr>\n",
       "      <th>2</th>\n",
       "      <td>Intravenous</td>\n",
       "      <td>1.381602</td>\n",
       "    </tr>\n",
       "    <tr>\n",
       "      <th>1</th>\n",
       "      <td>Population</td>\n",
       "      <td>1.348160</td>\n",
       "    </tr>\n",
       "    <tr>\n",
       "      <th>4</th>\n",
       "      <td>CT Scan</td>\n",
       "      <td>1.153794</td>\n",
       "    </tr>\n",
       "  </tbody>\n",
       "</table>\n",
       "</div>"
      ],
      "text/plain": [
       "               Feature       VIF\n",
       "5         Initial_days  1.933906\n",
       "0  Emergency Admission  1.667688\n",
       "3             Children  1.659640\n",
       "2          Intravenous  1.381602\n",
       "1           Population  1.348160\n",
       "4              CT Scan  1.153794"
      ]
     },
     "execution_count": 16,
     "metadata": {},
     "output_type": "execute_result"
    }
   ],
   "source": [
    "# Removing 'TotalCharge' and re-running VIF\n",
    "b.pop('TotalCharge')\n",
    "\n",
    "vif_data = pd.DataFrame()\n",
    "vif_data['Feature'] = b.columns\n",
    "vif_data['VIF'] = [variance_inflation_factor(b.values, i) for i in range(len(b.columns))]\n",
    "vif_data.sort_values('VIF', axis=0, ascending=False, inplace=True)\n",
    "vif_data"
   ]
  },
  {
   "cell_type": "markdown",
   "id": "f6dce486",
   "metadata": {},
   "source": [
    "#### C4. Cleaned Data Set<a id='c4'></a>"
   ]
  },
  {
   "cell_type": "code",
   "execution_count": 17,
   "id": "b32380bb",
   "metadata": {},
   "outputs": [],
   "source": [
    "# Cleaning up column names\n",
    "df = b\n",
    "df.rename(columns={'Emergency Admission': 'Emergency_admission', 'CT Scan': 'CT_scan'})\n",
    "df['ReAdmis'] = y\n",
    "\n",
    "# Extracting prepared data set to CSV file\n",
    "df.to_csv(r'Files/medical_prepared.csv', index=False)"
   ]
  },
  {
   "cell_type": "markdown",
   "id": "7578bb2e",
   "metadata": {},
   "source": [
    "### PART IV: ANALYSIS"
   ]
  },
  {
   "cell_type": "markdown",
   "id": "22c44d3e",
   "metadata": {},
   "source": [
    "#### D1. Splitting the Data<a id='d1'></a>"
   ]
  },
  {
   "cell_type": "code",
   "execution_count": 18,
   "id": "ca5dadb6",
   "metadata": {},
   "outputs": [],
   "source": [
    "# Split data into training and testing sets (Elleh, 2020, Slide 30)\n",
    "# Redefining x and y\n",
    "x = df.drop(['ReAdmis'], axis=1, inplace=False)\n",
    "y = df['ReAdmis']\n",
    "\n",
    "x_train, x_test, y_train, y_test = train_test_split(x, y, train_size=0.8, test_size=0.2, random_state=15, stratify=y)\n",
    "\n",
    "# Saving training and testing files to CSV\n",
    "x_train.to_csv(r'Files/x_train.csv', index=False)\n",
    "x_test.to_csv(r'Files/x_test.csv', index=False)\n",
    "y_train.to_csv(r'Files/y_train.csv', index=False)\n",
    "y_test.to_csv(r'Files/y_test.csv', index=False)"
   ]
  },
  {
   "cell_type": "markdown",
   "id": "a2d79d6a",
   "metadata": {},
   "source": [
    "#### D2. Output and Intermediate Calculations<a id='d2'></a>\n",
    "\n",
    "To perform the Na&#239;ve Bayes classifier I used the `GaussianNB` package from `Sklearn`.  I created an empty classifier (`model`), then used the `.fit()` function to train the `x_train` and `y_train` data sets.  After the training, I predicted the label using the `x_test` data set.  I then used the `random` library to create a random number from 0 - 1999; I chose this range since there are 2000 data points in the test data set, but indexing starts at 0.  I then used the random number to pass a number through the predicted calculation and to compare this to the actual result from `y_test`, and printed the results.\n",
    "\n",
    "Next, I created a confusion matrix and plotted the results using `metrics` and `ConfusionMatrixDisplay` from `Sklearn`.  I then tested the model's accuracy using the `accuracy_score` and `f1_score` from `Sklearn`."
   ]
  },
  {
   "cell_type": "code",
   "execution_count": 19,
   "id": "ce29c827",
   "metadata": {},
   "outputs": [
    {
     "name": "stdout",
     "output_type": "stream",
     "text": [
      "Random Number: 1289\n",
      "Actual Value: 1\n",
      "Predicted Value: 1\n"
     ]
    }
   ],
   "source": [
    "# Creating classifer for Bayes model\n",
    "model = GaussianNB()\n",
    "model.fit(x_train, y_train)\n",
    "\n",
    "# Predict class\n",
    "predicted = model.predict(x_test)\n",
    "\n",
    "# Creating random  number between 0-1999 since the test dataset sizes are  2000 \n",
    "random = random.randint(0,1999)\n",
    "\n",
    "# Entering random number\n",
    "print('Random Number:', random)\n",
    "print('Actual Value:', y_test.iloc[random])\n",
    "print('Predicted Value:', predicted[random])"
   ]
  },
  {
   "cell_type": "code",
   "execution_count": 20,
   "id": "048ee6ab",
   "metadata": {},
   "outputs": [
    {
     "data": {
      "image/png": "[encoded data removed]",
      "text/plain": [
       "<Figure size 640x480 with 2 Axes>"
      ]
     },
     "metadata": {},
     "output_type": "display_data"
    }
   ],
   "source": [
    "# Creating confusion matrix; code is from W3Schools' website\n",
    "confusion_matrix = confusion_matrix(y_test, predicted)\n",
    "\n",
    "cm_display = metrics.ConfusionMatrixDisplay(confusion_matrix=confusion_matrix, display_labels=[True, False])\n",
    "cm_display.plot()\n",
    "plt.show()"
   ]
  },
  {
   "cell_type": "code",
   "execution_count": 21,
   "id": "ac542614",
   "metadata": {},
   "outputs": [
    {
     "name": "stdout",
     "output_type": "stream",
     "text": [
      "----------------------------------------------------------------------------------------------------\n",
      "Accuracy: 96.2%\n",
      "F1 Score: 96.2%\n",
      "The Area Under the Curve (AUC) for the Naïve Bayes model is 99.8%\n",
      "----------------------------------------------------------------------------------------------------\n"
     ]
    },
    {
     "data": {
      "image/png": "[encoded data removed]",
      "text/plain": [
       "<Figure size 640x480 with 1 Axes>"
      ]
     },
     "metadata": {},
     "output_type": "display_data"
    },
    {
     "name": "stdout",
     "output_type": "stream",
     "text": [
      "\n",
      "\n",
      "----------------------------------------------------------------------------------------------------\n",
      "                        Classification Report\n",
      "\n",
      "\n",
      "              precision    recall  f1-score   support\n",
      "\n",
      "           0       0.91      1.00      0.95       734\n",
      "           1       1.00      0.94      0.97      1266\n",
      "\n",
      "    accuracy                           0.96      2000\n",
      "   macro avg       0.95      0.97      0.96      2000\n",
      "weighted avg       0.97      0.96      0.96      2000\n",
      "\n",
      "----------------------------------------------------------------------------------------------------\n"
     ]
    }
   ],
   "source": [
    "# Testing model accuracy score\n",
    "accuracy = accuracy_score(predicted, y_test)\n",
    "f1 = f1_score(predicted, y_test, average='weighted')\n",
    "print('-'*100)\n",
    "\n",
    "print(f'Accuracy: {accuracy*100}%')\n",
    "print(f'F1 Score: {round(f1*100,1)}%')\n",
    "\n",
    "# Calculating AUC score\n",
    "y_pred_prob = model.predict_proba(x_test)\n",
    "y_pred_prob = y_pred_prob[:, 1]\n",
    "roc = roc_auc_score(y_test, y_pred_prob)\n",
    "print(fr'The Area Under the Curve (AUC) for the Naïve Bayes model is {round(roc*100,1)}%')\n",
    "print('-'*100)\n",
    "\n",
    "# Generating plot using code from Machine Learning Master (Bowne-Anderson, n.d.; Brownlee, 2018)\n",
    "fpr, tpr, thresholds = roc_curve(y_test, y_pred_prob)\n",
    "plt.plot([0, 1], [0, 1], 'k--')\n",
    "plt.title('ROC Curve for Naïve Bayes Model')\n",
    "plt.xlabel('False Positive Rate')\n",
    "plt.ylabel('True Positive Rate')\n",
    "plt.plot(fpr, tpr)\n",
    "plt.show()\n",
    "\n",
    "# Generating classification report\n",
    "print('\\n')\n",
    "print('-'*100)\n",
    "print('                        Classification Report')\n",
    "print('\\n')\n",
    "print(classification_report(y_test, predicted))\n",
    "print('-'*100)"
   ]
  },
  {
   "cell_type": "markdown",
   "id": "8bdca309",
   "metadata": {},
   "source": [
    "#### D3. Code<a id='d3'></a>\n",
    "\n",
    "The code used can be found part <a href='#d2'>D2</a>."
   ]
  },
  {
   "cell_type": "markdown",
   "id": "a9c28df0",
   "metadata": {},
   "source": [
    "### PART V: DATA SUMMARY AND IMPLICATIONS"
   ]
  },
  {
   "cell_type": "markdown",
   "id": "19297598",
   "metadata": {},
   "source": [
    "#### E1. Accuracy and AUC<a id='e1'></a>\n",
    "\n",
    "Based on the accuracy score from <a ahref='#d2'>D2</a>, this tells us that the model predicted `True Positives` and `True Negatives` accurately 96.2% of the time.  The total `True Positives` were equal to 733, the `True Negatives` totaled 1191, and combined they totaled to 1924.  Dividing the sum by the size of the test data set of 2000 calculates us an accuracy rate of 96.2%.\n",
    "\n",
    "The `accuracy_score` focuses on `True Positives` and `True Negatives`, and the `recall` focuses on the number of `True Positives` divided by the sum of `True Positives` and `False Negatives`.  The `F1_score` is the average of both `accuracy_score` and `recall` (Elleh, 2020, Slide 41).  Averaging the `F1_score` for both classifications (`1` means patient was not readmitted, `0` means the patient was readmitted) results in a mean score of 96%, which is very close to the accuracy score.\n",
    "\n",
    "The Area Under the Curve (AUC) looks at the ability of the model to make predictions.  A score of 1.0 would indicate the that model is able to predict at a rate of 100% accuracy, a 0.0 means that the model predicts correctly 0% of the time, and a 0.5 means that the model is able to predict accurately 50% of the time (Elleh, 2020, Slide 41).  The dashed line represents a 50% correct classification rate.\n",
    "\n",
    "A curve above the dashed line means that the model is predicting at an accuracy rate higher than 50%, where a curve below the 50% line menas that the model is predicting at an accuracy rate less than 50%.\n",
    "\n",
    "The Naïve Bayes model has an AUC of 99.8% which is confirmed in the ROC Curve with the blue line approaching 1.0 in the top left-hand corner."
   ]
  },
  {
   "cell_type": "markdown",
   "id": "e0244c80",
   "metadata": {},
   "source": [
    "#### E2. Results and Implications<a id='e2'></a>\n",
    "\n",
    "The Naïve Bayes model's AUC score of 99.8% implies that the model is extremely strong, almost perfect, at predicting classification of readmission.  Given the selected predictor variables, the model is able to accurately predict patient readmission which is important to the hospital's goal of decreasing the readmission frequency rate."
   ]
  },
  {
   "cell_type": "markdown",
   "id": "9100af9b",
   "metadata": {},
   "source": [
    "#### E3. Limitation<a id='e3'></a>\n",
    "\n",
    "Imbalanced data is a limitation to classification data analysis, which could affect the results.  Of the 10000 patients, 63% were not readmitted and only 37% were readmitted to the hospital.  This could be a reason that the AUC score is so high and a user could inaccurately assume that the model truly predicts at an almost 100% classification rate."
   ]
  },
  {
   "cell_type": "markdown",
   "id": "505e1e14",
   "metadata": {},
   "source": [
    "#### E4. Course of Action<a id='e4'></a>\n",
    "\n",
    "Based on the results of the Naïve Bayes model, my recommendation is that the hospital should focus on the predictor variables to more accurately predict patient readmission.  These variables are:\n",
    "\n",
    "<ul>\n",
    "    <li>Children</li>\n",
    "    <li>CT_scan</li>\n",
    "    <li>Emergency_admission</li>\n",
    "    <li>Initial_days</li>\n",
    "    <li>Intravenous</li>\n",
    "    <li>Population</li>\n",
    "</ul>\n",
    "\n",
    "By knowing which features help predict the probability of readmission, the hospital can focus efforts to develop ways of decreasing the probability of readmission when these features are present.  For example, the hospital should explore ways ot descreasing the days of the patient's initial stay since this variable was a strong indicator in the logical regression model form D208 Task 2."
   ]
  },
  {
   "cell_type": "markdown",
   "id": "8e73061e",
   "metadata": {},
   "source": [
    "### PART VI: DEMONSTRATION"
   ]
  },
  {
   "cell_type": "markdown",
   "id": "2a927b5c",
   "metadata": {},
   "source": [
    "#### F. Panopto Video Recording<a id='f'></a>\n",
    "\n",
    "https://wgu.hosted.panopto.com/Panopto/Pages/Viewer.aspx?id=a88a48ed-e419-4365-9c7b-b04a016c00a1"
   ]
  },
  {
   "cell_type": "markdown",
   "id": "7b6b509b",
   "metadata": {},
   "source": [
    "#### G. THIRD-PARTY CODE REFERENCES<a id='g'></a>"
   ]
  },
  {
   "cell_type": "markdown",
   "id": "8996ad04",
   "metadata": {},
   "source": [
    "Bowne_Anderson, Hugo.  (n.d.)  <i>Logistic regression and the ROC curve</i>.  [Video].  Data Camp.\n",
    "    </br>&emsp;&emsp;https://campus.datacamp.com/courses/machine-learning-with-scikit-learn/fine-tuning-your-model?ex=3\n",
    "\n",
    "Brownlee, Jason (2018, August 31).  <i>How to Use ROC Curves and Precision-Recall Curves for Classification in Python</i>.  Machine Learning Mastery.\n",
    "    </br>&emsp;&emsp;Retrieved July 25, 2023, from https://machinelearningmastery.com/roc-curves-and-precision-recall-curves-for-classification-in-python/\n",
    "\n",
    "Chiluka, Vikram (2022, September 19).  <i>How to join list of lists in python?</i>. Tutorials Point.\n",
    "    </br>&emsp;&emsp;Retrieved July 24, 2023, from https://www.tutorialspoint.com/How-to-join-list-of-lists-in-python\n",
    "\n",
    "Elleh, Dr. Festus (2020). <i>D209 Data Mining 1 Task 1 Cohort</i>. [PowerPoint].\n",
    "    </br>&emsp;&emsp;Western Governors University.\n",
    "    \n",
    "Raschka, Sebastian (2014, May 20).  <i>Creating a table of contents with internal links in IPython Notebooks and Markdown documents</i>.  Sebastian Raschka.\n",
    "    </br>&emsp;&emsp;Retrieved July 24, 2023, from https://sebastianraschka.com/Articles/2014_ipython_internal_links.html\n",
    "\n",
    "Scikit-learn (n.d.).  <i>sklearn.metrics.classificatin_report</i>.\n",
    "    </br>&emsp;&emsp;Retrieved July 25, 2023, fromhttps://scikit-learn.org/stable/modules/generated/sklearn.metrics.classification_report.html\n",
    "\n",
    "W3Schools (n.d.).  <i>Machine Learning - Confusion Matrix</i>.\n",
    "     </br>&emsp;&emsp;Retrieved July 24, 2023, from https://www.w3schools.com/python/python_ml_confusion_matrix.asp"
   ]
  },
  {
   "cell_type": "markdown",
   "id": "e93fb6c8",
   "metadata": {},
   "source": [
    "#### H. SOURCES<a id='h'></a>"
   ]
  },
  {
   "cell_type": "markdown",
   "id": "e692a5d9",
   "metadata": {},
   "source": [
    "Bruce, P., A. Bruce, & Gedeck, P.  (2020).  <i>Practical Statistics for Data Scientists: 50+ Essential Concepts Using R and Pythong</i>.  (Second Edition).  \n",
    "    &emsp;&emsp;O'Reilly Media.\n",
    "\n",
    "Huilgol, Purva.  (2019, August 24).  <i>Accuracy vs. F1-Score</i>.  Medium.\n",
    "    </br>&emsp;&emsp;Retrieved July 24, 2023, from https://medium.com/analytics-vidhya/accuracy-vs-f1-score-6258237beca2"
   ]
  }
 ],
 "metadata": {
  "kernelspec": {
   "display_name": "Python 3 (ipykernel)",
   "language": "python",
   "name": "python3"
  },
  "language_info": {
   "codemirror_mode": {
    "name": "ipython",
    "version": 3
   },
   "file_extension": ".py",
   "mimetype": "text/x-python",
   "name": "python",
   "nbconvert_exporter": "python",
   "pygments_lexer": "ipython3",
   "version": "3.10.11"
  }
 },
 "nbformat": 4,
 "nbformat_minor": 5
}
