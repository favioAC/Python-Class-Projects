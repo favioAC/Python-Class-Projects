{
 "cells": [
  {
   "cell_type": "markdown",
   "id": "cd169e96",
   "metadata": {},
   "source": [
    "# D213 - Advanced Data Analytics Performance Assessment Task 2\n",
    "\n",
    "Assignment Completed by Favio Conde and Submitted August 23, 2023 for WGU - MSDA\n",
    "</br>"
   ]
  },
  {
   "cell_type": "markdown",
   "id": "28e0cc8f",
   "metadata": {},
   "source": [
    "### Table of Contents\n",
    "\n",
    "#### Part I: Research Question\n",
    "<ul>\n",
    "    <li><a href='#a1'>A1: Research Question</a></li>\n",
    "    <li><a href='#a2'>A2: Objectives or Goals</a></li>\n",
    "    <li><a href='#a3'>A3: Prescribed Network</a></li>\n",
    "</ul>\n",
    " \n",
    "#### Part II: Data Preparation\n",
    "<ul>\n",
    "    <li><a href='#b1'>B1. Data Exploration</a></li>\n",
    "    <li><a href='#b2'>B2. Tokenization</a></li>\n",
    "    <li><a href='#b3'>B3. Padding Process</a></li>\n",
    "    <li><a href='#b4'>B4. Categories of Sentiment</a></li>\n",
    "    <li><a href='#b5'>B5. Steps to Prepare the Data</a></li>\n",
    "    <li><a href='#b6'>B6. Prepared Data Set</a></li>\n",
    "</ul> \n",
    "\n",
    "#### Part III: Network Architecture\n",
    "<ul>\n",
    "    <li><a href='#c1'>C1: Model Summary</a></li>\n",
    "    <li><a href='#c2'>C2: Network Architecture</a></li>\n",
    "    <li><a href='#c3'>C3: Hyperparameters</a></li>\n",
    "</ul>\n",
    "\n",
    "#### Part IV: Model Evaluation\n",
    "<ul>\n",
    "    <li><a href='#d1'>D1: Stopping Criteria</a></li>\n",
    "    <li><a href='#d2'>D2: Fitness</a></li>\n",
    "    <li><a href='#d3'>D3: Training Process</a></li>\n",
    "    <li><a href='#d4'>D4: Predictive Accuracy</a></li>\n",
    "</ul>\n",
    "\n",
    "#### Part V: Summary and Recommendations\n",
    "<ul>\n",
    "    <li><a href='#e'>E: Code</a></li>\n",
    "    <li><a href='#f'>F. Functionality</a></li>\n",
    "    <li><a href='#g'>G. Recommendations</a></li>\n",
    "</ul>\n",
    "\n",
    "#### Part VI: Reporting\n",
    "<ul>\n",
    "    <li><a href='#h'>F: Reporting</a></li>\n",
    "    <li><a href='#i'>G. Third-Party Code Reference</a></li>\n",
    "    <li><a href='#j'>H. Sources</a></li>\n",
    "</ul>"
   ]
  },
  {
   "cell_type": "markdown",
   "id": "d91da6b9",
   "metadata": {},
   "source": [
    "### PART I: RESEARCH QUESTION"
   ]
  },
  {
   "cell_type": "markdown",
   "id": "a85ac60a",
   "metadata": {},
   "source": [
    "#### A1. Research Question<a id='a1'></a>\n",
    "\n",
    "Can sentiment analysis be performed on the data sets to determine the public's sentiment in the feedback provided so the companies can take the proper steps to address concerns?"
   ]
  },
  {
   "cell_type": "markdown",
   "id": "f912b305",
   "metadata": {},
   "source": [
    "#### A2. Objectives or Goals<a id='a2'></a>\n",
    "\n",
    "The analysis aims to determine whether customer sentiment can be predicted based on the words used in the feedback provided."
   ]
  },
  {
   "cell_type": "markdown",
   "id": "2398017a",
   "metadata": {},
   "source": [
    "#### A3. Prescribed Network<a id='a3'></a>\n",
    "\n",
    "According to Amazon, deep learning neural networks \"have several hidden layers with millions of artificial neurons linked together.\"  Deep learning neural networks (DNN) work like a brain and do not rely on a data scientist to manually set the critical features. In contrast, for DNN, a data scientist provides the raw data, and the model sets the feature importance and learns independently from human interaction.  DNN works best in sequential data, where one data point is dependent on another point (Dr. Elleh, n.d., Slide 17)."
   ]
  },
  {
   "cell_type": "markdown",
   "id": "fc1ef4a3",
   "metadata": {},
   "source": [
    "### PART II: DATA PREPARATION"
   ]
  },
  {
   "cell_type": "markdown",
   "id": "2a927b5c",
   "metadata": {},
   "source": [
    "#### B1. Data Exploration<a id='b1'></a>\n",
    "\n",
    "There were emojis present in the data.  For example, Amazon's review data on index line 387 has a \":)\".  To clean the data, I converted all text to lowercase.  The model is case-sensitive, so it would interpret \"Go\" and \"go\" as two distinct words.  I made all review text lowercase to cut down on the vocabulary size.  Additionally, I used stop words to remove words that don't alter the significance of the sentence and reduce the vocabulary size of the data.\n",
    "\n",
    "The vocabulary size is the number of distinct words in the data set, which includes Amazon, IMDB, and Yelp.  Cleaning up the data, as described in the last paragraph, aids in reducing the number of words in the data set to improve the sentiment analysis model.\n",
    "\n",
    "For deep learning to work in the sentiment analysis model, I needed to vectorize each sentence.  To accomplish this, I used word embedding length, which assigns each word a number relative to the position of that word from the beginning of the list; the list includes all vocabulary words (vocabulary size).  This process works by integer encoding each word in the data.  I also set a maximum sequence length.  I set the maximum sequence length to preserve more words surrounding the target word so the model can make better predictions."
   ]
  },
  {
   "cell_type": "markdown",
   "id": "0d4a6fc7",
   "metadata": {},
   "source": [
    "#### B2. Tokenization<a id='b2'></a>\n",
    "\n",
    "In order to prepare to tokenize the reviews, I did the following:\n",
    "\n",
    "<ul>\n",
    "    <li>Converted all text in reviews to lowercase</li>\n",
    "    <li>Removed all stop words</li>\n",
    "    <li>Lemmatized each word to it's base form</li>\n",
    "</ul>\n",
    "\n",
    "The purpose of tokenization is to remove any abnormal characters or formatting, and to standardize the text across each column in the data set (Dr. Elleh, n.d., Slide 27)."
   ]
  },
  {
   "cell_type": "markdown",
   "id": "f05864e3",
   "metadata": {},
   "source": [
    "#### B3. Padding Process<a id='b3'></a>\n",
    "\n",
    "I used padding to standardize the length of the sequences.  The padding process ensures that each sentence passed through the model has the same number of words, normalizing the data set.  To pad the review sentences, I used the max length for the number of words in a sentence, which was 44.\n",
    "\n",
    "A screenshot of a single padded sequence can be found in the code, in section <a href='#e'>E</a>."
   ]
  },
  {
   "cell_type": "markdown",
   "id": "df39e118",
   "metadata": {},
   "source": [
    "#### B4. Categories of Sentiment<a id='b4'></a>\n",
    "\n",
    "The reviews in each data set, `Amazon`, `IMDB`, and `Yelp`, were classified as 0 for negative and 1 for positive reviews. As a result, there will be two categories of sentiment."
   ]
  },
  {
   "cell_type": "markdown",
   "id": "988cf2b4",
   "metadata": {},
   "source": [
    "#### B5. Steps to Prepare the Data<a id='b5'></a>\n",
    "\n",
    "To prepare the data, I started by importing all of the libraries and packages I would need to perform my sentiment analysis of the data.  I also imported the following text files:\n",
    "\n",
    "<ul>\n",
    "    <li>amazon_cells_labelled.txt</li>\n",
    "    <li>imdb_labelled.txt</li>\n",
    "    <li>yelp_labelled.txt</li>\n",
    "</ul>\n",
    "\n",
    "There were quotation marks that did not have a pair, so that caused only 748 rows to import in the IMDB data set, so I imported `CSV` and set `quoting=csv.QUOTE_NONE`, which resolved the issue.  I used `pd.concat()` to combine all three data sets into one data frame and called it `df`, and set the label column data type, which lists `0`/`1` for `negative`/`positive` reviews, to an integer.\n",
    "\n",
    "I used `regex` and a `lambda` function to remove all punctuations from the text.  To simplify the analysis, I reduced the number of words by removing stop words, which are words that don't alter the significance of the sentence.  To further reduce the vocabulary size, I used `nltk.WordNetLemmatizer()`, which reduces words to it's base.  For example, the function reduced `tied` to its base `tie`.  Applying a lemmatizer to the vocabulary reduced the number of distinct words in the list.  Instead of counting `playing` and `play` as two words, the process changes `playing` to `play`, and classifies both words as `play`.\n",
    "\n",
    "Next, I tokenized the reviews by using `word_tokenize`, which converts each sentence into a list, and each word is an item.  At this point, I counted the number of words in each row and dropped any rows where the number of words was less than 4.  This reduces the 3,000 rows down to 2,065 rows.\n",
    "\n",
    "To check the vocabulary size, I used `Tokenizer()` and fit it to the `review` column in the data frame.  The result was that the vocabulary list was 4,132 words.\n",
    "\n",
    "The next step involved `max_sequence_embedding`, which takes the square root of the vocabulary list twice.  After rounding, the result was 8.  I also calculated the max, mean, and min for the number of words in a sentence, and the results were 44, 8, and 4, respectively.\n",
    "\n",
    "I used padding to standardize the length of the sequences. The padding process ensures that each sentence passed through the model has the same number of words, normalizing the data set. To pad the review sentences, I used `tokenizer.texts_to_sequences` on the `review` column and applied the `pad_sequence` after setting several hyperparameters."
   ]
  },
  {
   "cell_type": "markdown",
   "id": "c2ed0cbe",
   "metadata": {},
   "source": [
    "#### B6. Prepared Data Set<a id='b6'></a>\n",
    "\n",
    "The following CSV files were submitted in the performance assessment:\n",
    "\n",
    "<ul>\n",
    "    <li>cleaned_data.csv</li>\n",
    "    <li>x_train.csv</li>\n",
    "    <li>x_test.csv</li>\n",
    "    <li>x_val.csv</li>\n",
    "    <li>y_train.csv</li>\n",
    "    <li>y_test.csv</li>\n",
    "    <li>y_val.csv</li>\n",
    "</ul>"
   ]
  },
  {
   "cell_type": "markdown",
   "id": "0d583a57",
   "metadata": {},
   "source": [
    "### PART III: NETWORK ARCHITECTURE"
   ]
  },
  {
   "cell_type": "markdown",
   "id": "112157e7",
   "metadata": {},
   "source": [
    "#### C1. Model Summary<a id='c1'></a>\n",
    "\n",
    "A screenshot of the model summary output can be found in the code, in section <a href='#e'>E</a>."
   ]
  },
  {
   "cell_type": "markdown",
   "id": "c2278daf",
   "metadata": {},
   "source": [
    "#### C2. Network Architecture<a id='c2'></a>\n",
    "\n",
    "I used `Sequential()` from `tensorflow.keras.models` to build my model, and I used six layers to build my model.  The first layer uses embedding as an input layer and next layer is `GlobalAveragePooling1D`.  The next three layers are hidden layers with nodes 50, 30 and 10, respectively.  The output layer uses one nodes since the model is a binary response.  For the model metrics I used 'accuracy', `binary_crossentropy` for the loss, `adam` for the optimizer, and 20 epochs."
   ]
  },
  {
   "cell_type": "markdown",
   "id": "822557a7",
   "metadata": {},
   "source": [
    "#### C3. Hyperparameters<a id='c3'></a>\n",
    "\n",
    "I'm using `sigmoid` for the activation function since we're assessing a binary model, and sigmoid works well in binary models.  Our model has two outputs, `1` for positive and a `0` for negative reviews.  \n",
    "\n",
    "I used 44 nodes for the embedding layer, the maximum length of any given review in the combined data set.  For the hidden layers, I tried several nodes to improve my model's accuracy and stopped once I got close to an accuracy of almost 80% in the `model.evaluate()` function.\n",
    "\n",
    "I used `binary_crossentropy` for the loss function because the result is binary, and `binary_crossentropy` works well for classification.\n",
    "\n",
    "I used `adam` optimizer because it is extremely fast.  I used a patience level of 2 for the stopping criteria, meaning that the model will stop if the accuracy stops improving across two epochs.\n",
    "\n",
    "For the evaluation metric, I used `accuracy` to determine the accuracy of the sentiment analysis model in classifying reviews as positive or negative."
   ]
  },
  {
   "cell_type": "markdown",
   "id": "8e73061e",
   "metadata": {},
   "source": [
    "### PART IV: MODEL EVALUATION"
   ]
  },
  {
   "cell_type": "markdown",
   "id": "6de75905",
   "metadata": {},
   "source": [
    "#### D1. Stopping Criteria<a id='d1'></a>\n",
    "\n",
    "In my model, I used the `early_stopping_monitor` fucntion and I set it at a patience of 2.  This helps prevent overfitting of the model by stopping once there is no improvement in accuracy across two epochs.\n",
    "\n",
    "The code and results can be found in <a href='#e'>E</a>."
   ]
  },
  {
   "cell_type": "markdown",
   "id": "46d15df4",
   "metadata": {},
   "source": [
    "#### D2. Fitness<a id='d2'></a>\n",
    "\n",
    "I used a ' Dropout () ' layer to help with overfitting and improve my model's accuracy.  I saw a slight improvement in the model's accuracy.  I set epochs to 20 and early stopping to 2.  However, the model stopped after 10 epochs since the accuracy did not improve after 10 epochs.\n",
    "\n",
    "The `Model Accuracy` line graph shows the `Train` line approach 100%, which is great.  The `Validate` line end off around 78% percent which is also good.  For the `Model Loss`, the `Train` line is less than 10%, which again is great.  However, the `Validate` line start increasing after 9 epochs and ends off around 60% which may indicate slight overfitting."
   ]
  },
  {
   "cell_type": "markdown",
   "id": "5d6a67c9",
   "metadata": {},
   "source": [
    "#### D3. Training Process<a id='d3'></a>\n",
    "\n",
    "Visualizations can be found in section <a href='#e'>E</a> for both the epochs and the line graphs."
   ]
  },
  {
   "cell_type": "markdown",
   "id": "3be68b82",
   "metadata": {},
   "source": [
    "#### D4. Predictive Accuracy<a id='d4'></a>\n",
    "\n",
    "The model accuracy resulted in 78.7%.  I started my model with two hidden layers and did not use a dropoff, and I saw an accuracy score of around 55%.  I added layers and implemented the dropout layer and saw a significant increase in the model."
   ]
  },
  {
   "cell_type": "markdown",
   "id": "f930c316",
   "metadata": {},
   "source": [
    "### PART V: SUMMARY AND RECOMMENDATIONS"
   ]
  },
  {
   "cell_type": "markdown",
   "id": "2f9e411c",
   "metadata": {},
   "source": [
    "#### E. Code<a id='e'></a>"
   ]
  },
  {
   "cell_type": "code",
   "execution_count": 1,
   "id": "f5437e46",
   "metadata": {},
   "outputs": [],
   "source": [
    "#importing packages and libraries\n",
    "import numpy as np\n",
    "import pandas as pd\n",
    "import matplotlib.pyplot as plt\n",
    "import seaborn as sns\n",
    "import datetime\n",
    "import tensorflow.keras\n",
    "import nltk\n",
    "import warnings\n",
    "import csv\n",
    "import re\n",
    "warnings.filterwarnings('ignore')\n",
    "from sklearn.model_selection import train_test_split\n",
    "from sklearn.metrics import confusion_matrix, ConfusionMatrixDisplay\n",
    "from sklearn.svm import SVC\n",
    "from tensorflow.keras.models import Sequential\n",
    "from tensorflow.keras.layers import LSTM, Dropout, Dense, Embedding\n",
    "from tensorflow.keras import layers\n",
    "from nltk.tokenize import word_tokenize\n",
    "from nltk.corpus import stopwords\n",
    "from keras.preprocessing.text import Tokenizer\n",
    "from keras_preprocessing.sequence import pad_sequences\n",
    "from keras.callbacks import EarlyStopping"
   ]
  },
  {
   "cell_type": "code",
   "execution_count": 2,
   "id": "962f15a7",
   "metadata": {},
   "outputs": [
    {
     "data": {
      "text/html": [
       "<div>\n",
       "<style scoped>\n",
       "    .dataframe tbody tr th:only-of-type {\n",
       "        vertical-align: middle;\n",
       "    }\n",
       "\n",
       "    .dataframe tbody tr th {\n",
       "        vertical-align: top;\n",
       "    }\n",
       "\n",
       "    .dataframe thead th {\n",
       "        text-align: right;\n",
       "    }\n",
       "</style>\n",
       "<table border=\"1\" class=\"dataframe\">\n",
       "  <thead>\n",
       "    <tr style=\"text-align: right;\">\n",
       "      <th></th>\n",
       "      <th>review</th>\n",
       "      <th>label</th>\n",
       "    </tr>\n",
       "  </thead>\n",
       "  <tbody>\n",
       "    <tr>\n",
       "      <th>0</th>\n",
       "      <td>way plug us unless go converter</td>\n",
       "      <td>0</td>\n",
       "    </tr>\n",
       "    <tr>\n",
       "      <th>1</th>\n",
       "      <td>good case excellent value</td>\n",
       "      <td>1</td>\n",
       "    </tr>\n",
       "    <tr>\n",
       "      <th>2</th>\n",
       "      <td>great jawbone</td>\n",
       "      <td>1</td>\n",
       "    </tr>\n",
       "    <tr>\n",
       "      <th>3</th>\n",
       "      <td>tied charger conversations lasting 45 minutes ...</td>\n",
       "      <td>0</td>\n",
       "    </tr>\n",
       "    <tr>\n",
       "      <th>4</th>\n",
       "      <td>mic great</td>\n",
       "      <td>1</td>\n",
       "    </tr>\n",
       "  </tbody>\n",
       "</table>\n",
       "</div>"
      ],
      "text/plain": [
       "                                              review  label\n",
       "0                    way plug us unless go converter      0\n",
       "1                          good case excellent value      1\n",
       "2                                      great jawbone      1\n",
       "3  tied charger conversations lasting 45 minutes ...      0\n",
       "4                                          mic great      1"
      ]
     },
     "execution_count": 2,
     "metadata": {},
     "output_type": "execute_result"
    }
   ],
   "source": [
    "#importing each CSV file\n",
    "amazon = pd.read_csv('Files/sentiment labelled sentences/amazon_cells_labelled.txt', sep='\\t', \n",
    "                     header=None, names=['review', 'label'], quoting=csv.QUOTE_NONE)\n",
    "imdb = pd.read_csv('Files/sentiment labelled sentences/imdb_labelled.txt', sep='\\t', \n",
    "                   header=None, names=['review', 'label'], quoting=csv.QUOTE_NONE)\n",
    "yelp = pd.read_csv('Files/sentiment labelled sentences/yelp_labelled.txt', sep='\\t', \n",
    "                   header=None, names=['review', 'label'], quoting=csv.QUOTE_NONE)\n",
    "\n",
    "#combining all data sets\n",
    "df = pd.concat((amazon, imdb, yelp), ignore_index=True)\n",
    "\n",
    "#make reviews all lowercase\n",
    "df['review'] = df['review'].str.lower() \n",
    "\n",
    "#converting label column to int\n",
    "df.label = df.label.astype(int)\n",
    "\n",
    "#removing punctuation (manjeet_04, 2023)\n",
    "df['review'] = df['review'].apply(lambda x: re.sub(r'[^\\w\\s]', ' ',x))\n",
    "\n",
    "#setting stop words\n",
    "stop_words = stopwords.words('english')\n",
    "\n",
    "for item in range(len(df)):\n",
    "    sentence = []\n",
    "    words = df.review.iloc[item].split()\n",
    "    for word in words:\n",
    "        if word not in stop_words:\n",
    "            sentence.append(word)\n",
    "    df.review.iloc[item] = ' '.join(sentence)\n",
    "    \n",
    "#printing df to check updated review column\n",
    "df.head()"
   ]
  },
  {
   "cell_type": "code",
   "execution_count": 3,
   "id": "da11e4da",
   "metadata": {},
   "outputs": [
    {
     "data": {
      "text/html": [
       "<div>\n",
       "<style scoped>\n",
       "    .dataframe tbody tr th:only-of-type {\n",
       "        vertical-align: middle;\n",
       "    }\n",
       "\n",
       "    .dataframe tbody tr th {\n",
       "        vertical-align: top;\n",
       "    }\n",
       "\n",
       "    .dataframe thead th {\n",
       "        text-align: right;\n",
       "    }\n",
       "</style>\n",
       "<table border=\"1\" class=\"dataframe\">\n",
       "  <thead>\n",
       "    <tr style=\"text-align: right;\">\n",
       "      <th></th>\n",
       "      <th>review</th>\n",
       "      <th>label</th>\n",
       "    </tr>\n",
       "  </thead>\n",
       "  <tbody>\n",
       "    <tr>\n",
       "      <th>0</th>\n",
       "      <td>[way, plug, us, unless, go, converter]</td>\n",
       "      <td>0</td>\n",
       "    </tr>\n",
       "    <tr>\n",
       "      <th>1</th>\n",
       "      <td>[good, case, excellent, value]</td>\n",
       "      <td>1</td>\n",
       "    </tr>\n",
       "    <tr>\n",
       "      <th>2</th>\n",
       "      <td>[great, jawbone]</td>\n",
       "      <td>1</td>\n",
       "    </tr>\n",
       "    <tr>\n",
       "      <th>3</th>\n",
       "      <td>[tie, charger, conversations, last, 45, minute...</td>\n",
       "      <td>0</td>\n",
       "    </tr>\n",
       "    <tr>\n",
       "      <th>4</th>\n",
       "      <td>[mic, great]</td>\n",
       "      <td>1</td>\n",
       "    </tr>\n",
       "  </tbody>\n",
       "</table>\n",
       "</div>"
      ],
      "text/plain": [
       "                                              review  label\n",
       "0             [way, plug, us, unless, go, converter]      0\n",
       "1                     [good, case, excellent, value]      1\n",
       "2                                   [great, jawbone]      1\n",
       "3  [tie, charger, conversations, last, 45, minute...      0\n",
       "4                                       [mic, great]      1"
      ]
     },
     "execution_count": 3,
     "metadata": {},
     "output_type": "execute_result"
    }
   ],
   "source": [
    "#creating lemma\n",
    "lemma = nltk.WordNetLemmatizer()\n",
    "\n",
    "#creating function to lemmatize reviews\n",
    "def lemmatize_text(text):\n",
    "    words = text.split()\n",
    "    lemmatized_words = [lemma.lemmatize(word, 'v') for word in words]\n",
    "    return ' '.join(lemmatized_words)\n",
    "\n",
    "#applying function to df\n",
    "df.review = df.review.apply(lemmatize_text)\n",
    "\n",
    "#checking df updates\n",
    "#df\n",
    "\n",
    "#tokenizing review in each column\n",
    "df.review = df.review.apply(word_tokenize)\n",
    "\n",
    "#checking df updates\n",
    "df.head()"
   ]
  },
  {
   "cell_type": "code",
   "execution_count": 4,
   "id": "55e0f358",
   "metadata": {},
   "outputs": [
    {
     "data": {
      "text/html": [
       "<div>\n",
       "<style scoped>\n",
       "    .dataframe tbody tr th:only-of-type {\n",
       "        vertical-align: middle;\n",
       "    }\n",
       "\n",
       "    .dataframe tbody tr th {\n",
       "        vertical-align: top;\n",
       "    }\n",
       "\n",
       "    .dataframe thead th {\n",
       "        text-align: right;\n",
       "    }\n",
       "</style>\n",
       "<table border=\"1\" class=\"dataframe\">\n",
       "  <thead>\n",
       "    <tr style=\"text-align: right;\">\n",
       "      <th></th>\n",
       "      <th>review</th>\n",
       "      <th>label</th>\n",
       "    </tr>\n",
       "  </thead>\n",
       "  <tbody>\n",
       "    <tr>\n",
       "      <th>0</th>\n",
       "      <td>[way, plug, us, unless, go, converter]</td>\n",
       "      <td>0</td>\n",
       "    </tr>\n",
       "    <tr>\n",
       "      <th>1</th>\n",
       "      <td>[good, case, excellent, value]</td>\n",
       "      <td>1</td>\n",
       "    </tr>\n",
       "    <tr>\n",
       "      <th>2</th>\n",
       "      <td>[tie, charger, conversations, last, 45, minute...</td>\n",
       "      <td>0</td>\n",
       "    </tr>\n",
       "    <tr>\n",
       "      <th>3</th>\n",
       "      <td>[jiggle, plug, get, line, right, get, decent, ...</td>\n",
       "      <td>0</td>\n",
       "    </tr>\n",
       "    <tr>\n",
       "      <th>4</th>\n",
       "      <td>[several, dozen, several, hundred, contact, im...</td>\n",
       "      <td>0</td>\n",
       "    </tr>\n",
       "    <tr>\n",
       "      <th>...</th>\n",
       "      <td>...</td>\n",
       "      <td>...</td>\n",
       "    </tr>\n",
       "    <tr>\n",
       "      <th>2060</th>\n",
       "      <td>[lady, table, next, us, find, live, green, cat...</td>\n",
       "      <td>0</td>\n",
       "    </tr>\n",
       "    <tr>\n",
       "      <th>2061</th>\n",
       "      <td>[think, food, flavor, texture, lack]</td>\n",
       "      <td>0</td>\n",
       "    </tr>\n",
       "    <tr>\n",
       "      <th>2062</th>\n",
       "      <td>[overall, impress, would, go, back]</td>\n",
       "      <td>0</td>\n",
       "    </tr>\n",
       "    <tr>\n",
       "      <th>2063</th>\n",
       "      <td>[whole, experience, underwhelming, think, go, ...</td>\n",
       "      <td>0</td>\n",
       "    </tr>\n",
       "    <tr>\n",
       "      <th>2064</th>\n",
       "      <td>[waste, enough, life, pour, salt, wind, draw, ...</td>\n",
       "      <td>0</td>\n",
       "    </tr>\n",
       "  </tbody>\n",
       "</table>\n",
       "<p>2065 rows × 2 columns</p>\n",
       "</div>"
      ],
      "text/plain": [
       "                                                 review  label\n",
       "0                [way, plug, us, unless, go, converter]      0\n",
       "1                        [good, case, excellent, value]      1\n",
       "2     [tie, charger, conversations, last, 45, minute...      0\n",
       "3     [jiggle, plug, get, line, right, get, decent, ...      0\n",
       "4     [several, dozen, several, hundred, contact, im...      0\n",
       "...                                                 ...    ...\n",
       "2060  [lady, table, next, us, find, live, green, cat...      0\n",
       "2061               [think, food, flavor, texture, lack]      0\n",
       "2062                [overall, impress, would, go, back]      0\n",
       "2063  [whole, experience, underwhelming, think, go, ...      0\n",
       "2064  [waste, enough, life, pour, salt, wind, draw, ...      0\n",
       "\n",
       "[2065 rows x 2 columns]"
      ]
     },
     "execution_count": 4,
     "metadata": {},
     "output_type": "execute_result"
    }
   ],
   "source": [
    "#counting words in sentence and adding count to 'word_count' column\n",
    "word_count = []\n",
    "for i in range(len(df)):\n",
    "    word_count.append(len(df['review'][i]))\n",
    "df['word_count'] = word_count\n",
    "\n",
    "#dropping any sentences with < 4 words\n",
    "df = df[df['word_count'] > 3]\n",
    "df.reset_index(drop=True, inplace=True)\n",
    "df.drop('word_count', axis=1, inplace=True)\n",
    "df"
   ]
  },
  {
   "cell_type": "code",
   "execution_count": 5,
   "id": "6266cd96",
   "metadata": {},
   "outputs": [
    {
     "name": "stdout",
     "output_type": "stream",
     "text": [
      "The size of the vocabulary in the data set is 4132.\n"
     ]
    }
   ],
   "source": [
    "#checking vocabulary size\n",
    "tokenizer = Tokenizer()\n",
    "tokenizer.fit_on_texts(df.review)\n",
    "vocab_size = tokenizer.word_index\n",
    "print(f'The size of the vocabulary in the data set is {len(vocab_size) + 1}.')"
   ]
  },
  {
   "cell_type": "code",
   "execution_count": 6,
   "id": "60db32fe",
   "metadata": {},
   "outputs": [
    {
     "name": "stdout",
     "output_type": "stream",
     "text": [
      "The max sequence embedding is 8.\n"
     ]
    }
   ],
   "source": [
    "#instantiating word embedding lenth\n",
    "max_sequence_embedding = int(round(np.sqrt(np.sqrt(len(vocab_size)+1)), 0))\n",
    "print(f'The max sequence embedding is {max_sequence_embedding}.')"
   ]
  },
  {
   "cell_type": "code",
   "execution_count": 7,
   "id": "2a691eb9",
   "metadata": {},
   "outputs": [
    {
     "name": "stdout",
     "output_type": "stream",
     "text": [
      "The max length is 44.\n",
      "The mean length is 8.\n",
      "The min length is 4.\n"
     ]
    }
   ],
   "source": [
    "#instantiating max length\n",
    "review_length = []\n",
    "\n",
    "for review in df.review:\n",
    "    review_length.append(len(review))\n",
    "    \n",
    "max_length = int(round(np.max(review_length), 0))\n",
    "mean_length = int(round(np.mean(review_length), 0))\n",
    "min_length = int(round(np.min(review_length), 0))\n",
    "print(f'The max length is {max_length}.')\n",
    "print(f'The mean length is {mean_length}.')\n",
    "print(f'The min length is {min_length}.')"
   ]
  },
  {
   "cell_type": "code",
   "execution_count": 8,
   "id": "0a6bd8a2",
   "metadata": {},
   "outputs": [
    {
     "name": "stdout",
     "output_type": "stream",
     "text": [
      "Example of text seqence and padded sequence:\n",
      "['way', 'plug', 'us', 'unless', 'go', 'converter']\n",
      "[  45  195   98  416   12 1789    0    0    0    0    0    0    0    0\n",
      "    0    0    0    0    0    0    0    0    0    0    0    0    0    0\n",
      "    0    0    0    0    0    0    0    0    0    0    0    0    0    0\n",
      "    0    0]\n"
     ]
    }
   ],
   "source": [
    "#instantiating padding\n",
    "vocab_len = len(vocab_size)\n",
    "oov_tok = '<OOV>'\n",
    "embedding_dim = max_sequence_embedding\n",
    "max_length = max_length\n",
    "trunc_type = 'post'\n",
    "padding_type = 'post'\n",
    "\n",
    "sequences = tokenizer.texts_to_sequences(df.review)\n",
    "padded = pad_sequences(sequences, maxlen=max_length, padding=padding_type, truncating=trunc_type)\n",
    "\n",
    "#example of single padded sequence\n",
    "print('Example of text seqence and padded sequence:')\n",
    "print(df.review[0])\n",
    "print(padded[0])"
   ]
  },
  {
   "cell_type": "code",
   "execution_count": 9,
   "id": "2b58bab9",
   "metadata": {},
   "outputs": [
    {
     "name": "stdout",
     "output_type": "stream",
     "text": [
      "Total data size is 2065.\n",
      "Training data size is 1321.\n",
      "Testing data size is 413.\n",
      "Validating data size is 331.\n"
     ]
    }
   ],
   "source": [
    "#defining x and y, prepping to split data\n",
    "x = padded\n",
    "y = df.label.values\n",
    "\n",
    "#splitting data into train and test data sets\n",
    "x_train, x_test, y_train, y_test = train_test_split(x, y, test_size = 0.20, random_state = 15)\n",
    "x_train, x_val, y_train, y_val = train_test_split(x_train, y_train, test_size = 0.20, random_state = 15)\n",
    "\n",
    "#converting arrays into series\n",
    "y_train = pd.Series(y_train)\n",
    "y_test = pd.Series(y_test)\n",
    "y_val = pd.Series(y_val)\n",
    "\n",
    "#viewing train and test data size\n",
    "print(f'Total data size is {df.shape[0]}.')\n",
    "print(f'Training data size is {x_train.shape[0]}.')\n",
    "print(f'Testing data size is {x_test.shape[0]}.')\n",
    "print(f'Validating data size is {x_val.shape[0]}.')"
   ]
  },
  {
   "cell_type": "code",
   "execution_count": 10,
   "id": "0064e517",
   "metadata": {},
   "outputs": [],
   "source": [
    "#converting to DataFrame to export to CSV\n",
    "X_train = pd.DataFrame(x_train)\n",
    "X_test = pd.DataFrame(x_test)\n",
    "X_val = pd.DataFrame(x_val)\n",
    "Y_train = pd.DataFrame(y_train)\n",
    "Y_test = pd.DataFrame(y_test)\n",
    "Y_val = pd.DataFrame(y_val)\n",
    "\n",
    "#exporting CSV files\n",
    "df.to_csv(r'cleaned_data.csv', index=False)\n",
    "X_train.to_csv(r'x_train.csv', index=False)\n",
    "X_test.to_csv(r'x_test.csv', index=False)\n",
    "X_val.to_csv(r'x_val.csv', index=False)\n",
    "Y_train.to_csv(r'y_train.csv', index=False)\n",
    "Y_test.to_csv(r'y_test.csv', index=False)\n",
    "Y_val.to_csv(r'y_val.csv', index=False)"
   ]
  },
  {
   "cell_type": "code",
   "execution_count": 11,
   "id": "059bea43",
   "metadata": {},
   "outputs": [
    {
     "name": "stdout",
     "output_type": "stream",
     "text": [
      "Model: \"sequential\"\n",
      "_________________________________________________________________\n",
      " Layer (type)                Output Shape              Param #   \n",
      "=================================================================\n",
      " embedding (Embedding)       (None, 44, 8)             33056     \n",
      "                                                                 \n",
      " global_average_pooling1d (G  (None, 8)                0         \n",
      " lobalAveragePooling1D)                                          \n",
      "                                                                 \n",
      " dropout (Dropout)           (None, 8)                 0         \n",
      "                                                                 \n",
      " dense (Dense)               (None, 100)               900       \n",
      "                                                                 \n",
      " dense_1 (Dense)             (None, 60)                6060      \n",
      "                                                                 \n",
      " dense_2 (Dense)             (None, 10)                610       \n",
      "                                                                 \n",
      " dense_3 (Dense)             (None, 1)                 11        \n",
      "                                                                 \n",
      "=================================================================\n",
      "Total params: 40,637\n",
      "Trainable params: 40,637\n",
      "Non-trainable params: 0\n",
      "_________________________________________________________________\n"
     ]
    }
   ],
   "source": [
    "#identifying the number of sentiment categories\n",
    "activation = 'sigmoid'\n",
    "loss = 'binary_crossentropy'\n",
    "optimizer = \"adam\"\n",
    "num_epochs = 20\n",
    "\n",
    "#defining early_stopping_monitor\n",
    "early_stopping_monitor = EarlyStopping(patience = 2)\n",
    "\n",
    "model = tensorflow.keras.Sequential([\n",
    "    tensorflow.keras.layers.Embedding(vocab_len + 1, embedding_dim, input_length=max_length),\n",
    "    tensorflow.keras.layers.GlobalAveragePooling1D(),\n",
    "    tensorflow.keras.layers.Dropout(0.25),\n",
    "    tensorflow.keras.layers.Dense(100, activation='relu'),\n",
    "    tensorflow.keras.layers.Dense(60, activation='relu'),\n",
    "    tensorflow.keras.layers.Dense(10, activation='relu'),\n",
    "    #tensorflow.keras.layers.Dropout(0.2, input_shape=(44,)),\n",
    "    tensorflow.keras.layers.Dense(1, activation=activation)\n",
    "])\n",
    "\n",
    "#compiling model\n",
    "model.compile(loss=loss, optimizer=optimizer, metrics = ['accuracy'])\n",
    "\n",
    "#printing model summary\n",
    "model.summary()"
   ]
  },
  {
   "cell_type": "code",
   "execution_count": 12,
   "id": "b5e17993",
   "metadata": {},
   "outputs": [
    {
     "name": "stdout",
     "output_type": "stream",
     "text": [
      "Epoch 1/20\n",
      "29/29 [==============================] - 1s 13ms/step - loss: 0.6939 - accuracy: 0.5032 - val_loss: 0.6923 - val_accuracy: 0.5264\n",
      "Epoch 2/20\n",
      "29/29 [==============================] - 0s 4ms/step - loss: 0.6932 - accuracy: 0.5032 - val_loss: 0.6926 - val_accuracy: 0.5264\n",
      "Epoch 3/20\n",
      "29/29 [==============================] - 0s 4ms/step - loss: 0.6928 - accuracy: 0.5032 - val_loss: 0.6921 - val_accuracy: 0.5264\n",
      "Epoch 4/20\n",
      "29/29 [==============================] - 0s 3ms/step - loss: 0.6911 - accuracy: 0.5032 - val_loss: 0.6905 - val_accuracy: 0.5264\n",
      "Epoch 5/20\n",
      "29/29 [==============================] - 0s 4ms/step - loss: 0.6839 - accuracy: 0.5617 - val_loss: 0.6803 - val_accuracy: 0.5315\n",
      "Epoch 6/20\n",
      "29/29 [==============================] - 0s 3ms/step - loss: 0.6409 - accuracy: 0.6450 - val_loss: 0.6414 - val_accuracy: 0.5869\n",
      "Epoch 7/20\n",
      "29/29 [==============================] - 0s 3ms/step - loss: 0.5281 - accuracy: 0.7933 - val_loss: 0.5687 - val_accuracy: 0.6877\n",
      "Epoch 8/20\n",
      "29/29 [==============================] - 0s 3ms/step - loss: 0.3725 - accuracy: 0.9242 - val_loss: 0.5048 - val_accuracy: 0.7557\n",
      "Epoch 9/20\n",
      "29/29 [==============================] - 0s 3ms/step - loss: 0.2241 - accuracy: 0.9621 - val_loss: 0.4982 - val_accuracy: 0.7582\n",
      "Epoch 10/20\n",
      "29/29 [==============================] - 0s 3ms/step - loss: 0.1380 - accuracy: 0.9643 - val_loss: 0.5617 - val_accuracy: 0.7456\n",
      "Epoch 11/20\n",
      "29/29 [==============================] - 0s 3ms/step - loss: 0.0845 - accuracy: 0.9784 - val_loss: 0.5991 - val_accuracy: 0.7557\n"
     ]
    }
   ],
   "source": [
    "#fitting model\n",
    "history = model.fit(x_train, y_train, batch_size=32, epochs=num_epochs, validation_split = 0.3, \n",
    "callbacks=[early_stopping_monitor], verbose=True)"
   ]
  },
  {
   "cell_type": "code",
   "execution_count": 13,
   "id": "94ca5214",
   "metadata": {},
   "outputs": [
    {
     "data": {
      "text/plain": [
       "{'loss': [0.6939290761947632,\n",
       "  0.6932317018508911,\n",
       "  0.6928150653839111,\n",
       "  0.6911037564277649,\n",
       "  0.6838592886924744,\n",
       "  0.6408660411834717,\n",
       "  0.5281119346618652,\n",
       "  0.37249064445495605,\n",
       "  0.22408506274223328,\n",
       "  0.13801175355911255,\n",
       "  0.08447027206420898],\n",
       " 'accuracy': [0.5032467246055603,\n",
       "  0.5032467246055603,\n",
       "  0.5032467246055603,\n",
       "  0.5032467246055603,\n",
       "  0.5616883039474487,\n",
       "  0.6450216174125671,\n",
       "  0.7932900190353394,\n",
       "  0.9242424368858337,\n",
       "  0.9621211886405945,\n",
       "  0.9642857313156128,\n",
       "  0.9783549904823303],\n",
       " 'val_loss': [0.692306399345398,\n",
       "  0.6926338076591492,\n",
       "  0.6920690536499023,\n",
       "  0.6904581189155579,\n",
       "  0.680300235748291,\n",
       "  0.6414397954940796,\n",
       "  0.5687497854232788,\n",
       "  0.5048182606697083,\n",
       "  0.49816903471946716,\n",
       "  0.5617223978042603,\n",
       "  0.5990619659423828],\n",
       " 'val_accuracy': [0.5264483690261841,\n",
       "  0.5264483690261841,\n",
       "  0.5264483690261841,\n",
       "  0.5264483690261841,\n",
       "  0.5314861536026001,\n",
       "  0.5869017839431763,\n",
       "  0.6876574158668518,\n",
       "  0.755667507648468,\n",
       "  0.758186399936676,\n",
       "  0.745591938495636,\n",
       "  0.755667507648468]}"
      ]
     },
     "execution_count": 13,
     "metadata": {},
     "output_type": "execute_result"
    }
   ],
   "source": [
    "#printing out results\n",
    "history.history"
   ]
  },
  {
   "cell_type": "code",
   "execution_count": 15,
   "id": "61bde769",
   "metadata": {},
   "outputs": [
    {
     "data": {
      "image/png": "[encoded data removed]",
      "text/plain": [
       "<Figure size 640x480 with 1 Axes>"
      ]
     },
     "metadata": {},
     "output_type": "display_data"
    },
    {
     "data": {
      "image/png": "[encoded data removed]",
      "text/plain": [
       "<Figure size 640x480 with 1 Axes>"
      ]
     },
     "metadata": {},
     "output_type": "display_data"
    }
   ],
   "source": [
    "#creating function to plot model\n",
    "def plot_learningCurve(history, epochs):\n",
    "    epoch_range = range(1, epochs+1)\n",
    "    plt.plot(epoch_range, history.history['accuracy'])\n",
    "    plt.plot(epoch_range, history.history['val_accuracy'])\n",
    "    plt.title('Model Accuracy')\n",
    "    plt.ylabel('Accuracy')\n",
    "    plt.xlabel('Epoch')\n",
    "    plt.legend(['Train', 'Validate'], loc='upper left')\n",
    "    plt.show()\n",
    "    plt.plot(epoch_range, history.history['loss'])\n",
    "    plt.plot(epoch_range, history.history['val_loss'])\n",
    "    plt.title('Model Loss')\n",
    "    plt.ylabel('Loss')\n",
    "    plt.xlabel('Epoch')\n",
    "    plt.legend(['Train', 'Validate'], loc='upper left')\n",
    "    plt.show()\n",
    "\n",
    "#plotting model\n",
    "plot_learningCurve(history, 11)"
   ]
  },
  {
   "cell_type": "code",
   "execution_count": 16,
   "id": "eb5c1c3d",
   "metadata": {},
   "outputs": [
    {
     "name": "stdout",
     "output_type": "stream",
     "text": [
      "13/13 [==============================] - 0s 1ms/step - loss: 0.5990 - accuracy: 0.7603\n"
     ]
    },
    {
     "data": {
      "text/plain": [
       "[0.5989734530448914, 0.7602905631065369]"
      ]
     },
     "execution_count": 16,
     "metadata": {},
     "output_type": "execute_result"
    }
   ],
   "source": [
    "#evaluation model\n",
    "score = model.evaluate(x_test, y_test)\n",
    "score"
   ]
  },
  {
   "cell_type": "code",
   "execution_count": 17,
   "id": "51c2bfac",
   "metadata": {
    "scrolled": true
   },
   "outputs": [
    {
     "data": {
      "image/png": "[encoded data removed]",
      "text/plain": [
       "<Figure size 640x480 with 2 Axes>"
      ]
     },
     "metadata": {},
     "output_type": "display_data"
    }
   ],
   "source": [
    "#creating confusion matrix\n",
    "clf = SVC(random_state=0)\n",
    "clf.fit(x_train, y_train)\n",
    "SVC(random_state=0)\n",
    "predictions = clf.predict(x_test)\n",
    "confusion_matrix = confusion_matrix(y_test, predictions, labels=clf.classes_)\n",
    "display = ConfusionMatrixDisplay(confusion_matrix=confusion_matrix, display_labels=clf.classes_)\n",
    "display.plot()\n",
    "plt.show()"
   ]
  },
  {
   "cell_type": "code",
   "execution_count": 18,
   "id": "b3da88b8",
   "metadata": {},
   "outputs": [],
   "source": [
    "#saving the model\n",
    "model.save('SentimentAnalysisModel.h5')"
   ]
  },
  {
   "cell_type": "markdown",
   "id": "0c9d4054",
   "metadata": {},
   "source": [
    "#### F. Functionality<a id='f'></a>\n",
    "\n",
    "The analysis started with 3,000 reviews, and I reduced it to 2,065 before being processed through the model.  Based on the results, this sentiment analysis could be used to assess customer feedback continually and can be deployed quickly for different uses and products.  For this analysis, we considered reviews from Amazon, IMDB, and Yelp, but adding additional sources would be extremely easy."
   ]
  },
  {
   "cell_type": "markdown",
   "id": "193a9212",
   "metadata": {},
   "source": [
    "#### G. Recommendations<a id='g'></a>\n",
    "\n",
    "The sentiment analysis aimed to determine if customer reviews can be classified as positive or negative using a model that analyzes specific words used by reviewers.  Based on the results, the model has a high degree of accuracy.  The model can be improved to increase accuracy by using more input data and tweaking the hyperparameters and layers.  Companies can use this model to identify and classify negative reviews into different groups.  For example, are the negative reviews due to damaged products from Amazon or poor service due to understaffed restaurants on Yelp?  Companies can use negative feedback to improve the customer experience, which would help increase revenues."
   ]
  },
  {
   "cell_type": "markdown",
   "id": "0fc8045c",
   "metadata": {},
   "source": [
    "### PART VI: REPORTING"
   ]
  },
  {
   "cell_type": "markdown",
   "id": "ddeb6d17",
   "metadata": {},
   "source": [
    "#### H. Reporting<a id='fh'></a>\n",
    "\n",
    "A Jupyter Notebook was submitted for the performance assessment."
   ]
  },
  {
   "cell_type": "markdown",
   "id": "7b6b509b",
   "metadata": {},
   "source": [
    "#### I. Third-Party Code References<a id='i'></a>\n",
    "\n",
    "Elleh, Dr. Festus (n.d.).  <i>Advanced Data Analytics - Task 2</i>.  [PowerPoint].\n",
    "    </br>&emsp;&emsp;Western Governors University.\n",
    "\n",
    "manjeet_04 (2023, July 11).  <i>Python | Remove punctuation from string</i>.  Geeks for Geeks.\n",
    "    </br>&emsp;&emsp;Retrieved August 20, 2023, from https://www.geeksforgeeks.org/python-remove-punctuation-from-string/\n",
    "    \n",
    "Python (n.d.).  <i>csv — CSV File Reading and Writing</i>.  Python.\n",
    "    </br>&emsp;&emsp;Retrieved August 20, 2023, from https://docs.python.org/3/library/csv.html\n",
    "    \n",
    "Saturn Cloud (2023, June 19).  <i>What is Lemmatization and How to Use it on All Pandas Cells</i>.  Saturn Cloud.\n",
    "    </br>&emsp;&emsp;Retrieved August 21, 2023, from https://saturncloud.io/blog/what-is-lemmatization-and-how-to-use-it-on-all-pandas-cells/\n",
    "    \n",
    "Sewell, Dr. William (n.d.).  <i>D213 Advanced Data Analytics Sentiment Analysis I</i>.  [Video].\n",
    "    </br>&emsp;&emsp;Western Governors University.  https://wgu.hosted.panopto.com/Panopto/Pages/Viewer.aspx?id=a1e9802c-5808-4287-a7e5-aed601580d89"
   ]
  },
  {
   "cell_type": "markdown",
   "id": "e93fb6c8",
   "metadata": {},
   "source": [
    "#### J. Sources<a id='j'></a>\n",
    "\n",
    "Elleh, Dr. Festus (n.d.).  <i>Advanced Data Analytics - Task 2</i>.  [PowerPoint].\n",
    "    </br>&emsp;&emsp;Western Governors University."
   ]
  }
 ],
 "metadata": {
  "kernelspec": {
   "display_name": "Python 3 (ipykernel)",
   "language": "python",
   "name": "python3"
  },
  "language_info": {
   "codemirror_mode": {
    "name": "ipython",
    "version": 3
   },
   "file_extension": ".py",
   "mimetype": "text/x-python",
   "name": "python",
   "nbconvert_exporter": "python",
   "pygments_lexer": "ipython3",
   "version": "3.10.11"
  }
 },
 "nbformat": 4,
 "nbformat_minor": 5
}
